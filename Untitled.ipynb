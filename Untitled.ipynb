{
 "cells": [
  {
   "cell_type": "code",
   "execution_count": 3,
   "metadata": {
    "collapsed": true
   },
   "outputs": [],
   "source": [
    "from sklearn.feature_extraction.text import CountVectorizer\n",
    "\n",
    "from sklearn.feature_extraction import text"
   ]
  },
  {
   "cell_type": "code",
   "execution_count": 6,
   "metadata": {
    "scrolled": false
   },
   "outputs": [
    {
     "name": "stdout",
     "output_type": "stream",
     "text": [
      "frozenset({'meanwhile', 'cry', 'latter', 'other', 'last', 'mine', 'never', 'put', 'about', 'were', 'ever', 'beforehand', 'hasnt', 'becoming', 'otherwise', 'up', 'so', 'full', 'became', 'would', 'her', 'part', 'how', 'wherever', 'hundred', 'always', 'every', 'too', 'empty', 'us', 'but', 'ourselves', 'whither', 'this', 'same', 'keep', 'within', 'whenever', 'most', 'whose', 'thereupon', 'whatever', 'a', 'except', 'eleven', 'whom', 'find', 'nor', 'onto', 'beside', 'give', 'still', 'third', 'which', 'will', 'there', 'the', 'any', 'formerly', 'herself', 'out', 'these', 'itself', 'was', 're', 'con', 'even', 'cannot', 'become', 'found', 'least', 'can', 'into', 'some', 'hence', 'over', 'etc', 'someone', 'your', 'been', 'three', 'by', 'seeming', 'mill', 'fill', 'front', 'noone', 'as', 'neither', 'couldnt', 'nine', 'no', 'else', 'through', 'becomes', 'afterwards', 'name', 'those', 'amongst', 'nevertheless', 'for', 'hereby', 'of', 'anyway', 'could', 'such', 'while', 'more', 'interest', 'everything', 'fifty', 'per', 'their', 'thru', 'he', 'less', 'ours', 'made', 'six', 'my', 'she', 'sometime', 'go', 'is', 'however', 'thus', 'have', 'an', 'behind', 'detail', 'system', 'though', 'together', 'de', 'own', 'had', 'then', 'cant', 'ie', 'because', 'once', 'thence', 'whereby', 'me', 'nobody', 'serious', 'anything', 'themselves', 'on', 'in', 'yours', 'indeed', 'everyone', 'besides', 'amoungst', 'only', 'perhaps', 'anywhere', 'co', 'mostly', 'seem', 'below', 'see', 'top', 'i', 'across', 'two', 'please', 'already', 'along', 'sometimes', 'to', 'amount', 'now', 'another', 'side', 'un', 'whereafter', 'yourselves', 'you', 'fifteen', 'others', 'although', 'before', 'thin', 'fire', 'done', 'rather', 'everywhere', 'nowhere', 'well', 'both', 'whereas', 'almost', 'very', 'with', 'enough', 'around', 'via', 'alone', 'am', 'whereupon', 'against', 'whole', 'nothing', 'than', 'something', 'where', 'herein', 'eg', 'elsewhere', 'many', 'might', 'moreover', 'off', 'describe', 'yet', 'must', 'thereby', 'anyhow', 'anyone', 'back', 'get', 'forty', 'it', 'whoever', 'why', 'if', 'toward', 'has', 'first', 'him', 'further', 'being', 'ltd', 'much', 'ten', 'often', 'bill', 'under', 'when', 'namely', 'and', 'again', 'each', 'somewhere', 'what', 'during', 'himself', 'them', 'should', 'myself', 'seems', 'take', 'thick', 'without', 'inc', 'somehow', 'may', 'either', 'above', 'whence', 'latterly', 'towards', 'who', 'seemed', 'bottom', 'hers', 'sincere', 'show', 'from', 'that', 'after', 'his', 'four', 'until', 'therein', 'we', 'five', 'not', 'therefore', 'few', 'yourself', 'whether', 'upon', 'due', 'hereupon', 'or', 'former', 'all', 'between', 'thereafter', 'beyond', 'down', 'at', 'among', 'they', 'our', 'wherein', 'none', 'hereafter', 'sixty', 'one', 'be', 'throughout', 'its', 'are', 'move', 'also', 'do', 'next', 'several', 'twelve', 'eight', 'twenty', 'since', 'call', 'here'})\n"
     ]
    }
   ],
   "source": [
    "print(text.ENGLISH_STOP_WORDS)"
   ]
  },
  {
   "cell_type": "code",
   "execution_count": null,
   "metadata": {
    "collapsed": true
   },
   "outputs": [],
   "source": []
  }
 ],
 "metadata": {
  "kernelspec": {
   "display_name": "Python 3",
   "language": "python",
   "name": "python3"
  },
  "language_info": {
   "codemirror_mode": {
    "name": "ipython",
    "version": 3
   },
   "file_extension": ".py",
   "mimetype": "text/x-python",
   "name": "python",
   "nbconvert_exporter": "python",
   "pygments_lexer": "ipython3",
   "version": "3.6.3"
  }
 },
 "nbformat": 4,
 "nbformat_minor": 2
}
