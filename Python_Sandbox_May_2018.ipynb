{
 "cells": [
  {
   "cell_type": "markdown",
   "metadata": {},
   "source": [
    "In this kata you are required to, given a string, replace every letter with its position in the alphabet.\n",
    "\n",
    "If anything in the text isn't a letter, ignore it and don't return it.\n",
    "\n",
    "a being 1, b being 2, etc.\n",
    "\n",
    "As an example:\n",
    "\n",
    "`alphabet_position(\"The sunset sets at twelve o' clock.\")`\n",
    "\n",
    "Should return \"20 8 5 19 21 14 19 5 20 19 5 20 19 1 20 20 23 5 12 22 5 15 3 12 15 3 11\" as a string."
   ]
  },
  {
   "cell_type": "code",
   "execution_count": 47,
   "metadata": {
    "collapsed": true
   },
   "outputs": [],
   "source": [
    "def alphabet_position(text):\n",
    "    from string import ascii_lowercase\n",
    "    \n",
    "    result = \"\"\n",
    "    \n",
    "    for idx, char in enumerate(text.lower()):\n",
    "        for jdx, letter in enumerate(ascii_lowercase):\n",
    "            if char == letter:\n",
    "#                 print(jdx, char)\n",
    "                result += str(jdx+1) + \" \"\n",
    "    \n",
    "    return result[:-1]"
   ]
  },
  {
   "cell_type": "code",
   "execution_count": 39,
   "metadata": {
    "collapsed": true
   },
   "outputs": [
    {
     "name": "stdout",
     "output_type": "stream",
     "text": [
      "0 a\n",
      "1 b\n",
      "2 c\n",
      "3 d\n",
      "4 e\n",
      "5 f\n",
      "6 g\n",
      "7 h\n",
      "8 i\n",
      "9 j\n",
      "10 k\n",
      "11 l\n",
      "12 m\n",
      "13 n\n",
      "14 o\n",
      "15 p\n",
      "16 q\n",
      "17 r\n",
      "18 s\n",
      "19 t\n",
      "20 u\n",
      "21 v\n",
      "22 w\n",
      "23 x\n",
      "24 y\n",
      "25 z\n"
     ]
    },
    {
     "data": {
      "text/plain": [
       "'0 1 2 3 4 5 6 7 8 9 10 11 12 13 14 15 16 17 18 19 20 21 22 23 24 25 '"
      ]
     },
     "execution_count": 39,
     "metadata": {},
     "output_type": "execute_result"
    }
   ],
   "source": [
    "alphabet_position('abcdefghijklmnopqrstuvwxyz')"
   ]
  },
  {
   "cell_type": "code",
   "execution_count": 48,
   "metadata": {
    "scrolled": true
   },
   "outputs": [
    {
     "data": {
      "text/plain": [
       "'20 8 5 19 21 14 19 5 20 19 5 20 19 1 20 20 23 5 12 22 5 15 3 12 15 3 11'"
      ]
     },
     "execution_count": 48,
     "metadata": {},
     "output_type": "execute_result"
    }
   ],
   "source": [
    "alphabet_position(\"The sunset sets at twelve o' clock.\")"
   ]
  },
  {
   "cell_type": "code",
   "execution_count": 49,
   "metadata": {
    "scrolled": true
   },
   "outputs": [
    {
     "data": {
      "text/plain": [
       "'8 5 12 12 15 13 25 14 1 13 5 9 19 4 18 1 3 21 12 1 9 22 1 14 20 20 15 19 21 3 11 25 15 21 18 2 12 15 15 4'"
      ]
     },
     "execution_count": 49,
     "metadata": {},
     "output_type": "execute_result"
    }
   ],
   "source": [
    "alphabet_position(\"Hello, my name is Dr.Acula.  I vant to suck your blood!\")"
   ]
  },
  {
   "cell_type": "code",
   "execution_count": null,
   "metadata": {
    "collapsed": true
   },
   "outputs": [],
   "source": []
  },
  {
   "cell_type": "markdown",
   "metadata": {},
   "source": [
    "Once upon a time, on a way through the old wild west,…\n",
    "… a man was given directions to go from one point to another. The directions were \"NORTH\", \"SOUTH\", \"WEST\", \"EAST\". Clearly \"NORTH\" and \"SOUTH\" are opposite, \"WEST\" and \"EAST\" too. Going to one direction and coming back the opposite direction is a needless effort. Since this is the wild west, with dreadfull weather and not much water, it's important to save yourself some energy, otherwise you might die of thirst!\n",
    "\n",
    "How I crossed the desert the smart way.\n",
    "The directions given to the man are, for example, the following:\n",
    "\n",
    "[\"NORTH\", \"SOUTH\", \"SOUTH\", \"EAST\", \"WEST\", \"NORTH\", \"WEST\"].\n",
    "or\n",
    "\n",
    "{ \"NORTH\", \"SOUTH\", \"SOUTH\", \"EAST\", \"WEST\", \"NORTH\", \"WEST\" };\n",
    "or (haskell)\n",
    "\n",
    "[North, South, South, East, West, North, West]\n",
    "You can immediatly see that going \"NORTH\" and then \"SOUTH\" is not reasonable, better stay to the same place! So the task is to give to the man a simplified version of the plan. A better plan in this case is simply:\n",
    "\n",
    "[\"WEST\"]\n",
    "or\n",
    "\n",
    "{ \"WEST\" }\n",
    "or (haskell)\n",
    "\n",
    "[West]\n",
    "or (rust)\n",
    "\n",
    "[WEST];\n",
    "Other examples:\n",
    "In [\"NORTH\", \"SOUTH\", \"EAST\", \"WEST\"], the direction \"NORTH\" + \"SOUTH\" is going north and coming back right away. What a waste of time! Better to do nothing.\n",
    "\n",
    "The path becomes [\"EAST\", \"WEST\"], now \"EAST\" and \"WEST\" annihilate each other, therefore, the final result is [] (nil in Clojure).\n",
    "\n",
    "In [\"NORTH\", \"EAST\", \"WEST\", \"SOUTH\", \"WEST\", \"WEST\"], \"NORTH\" and \"SOUTH\" are not directly opposite but they become directly opposite after the reduction of \"EAST\" and \"WEST\" so the whole path is reducible to [\"WEST\", \"WEST\"].\n",
    "\n",
    "Task\n",
    "Write a function dirReduc which will take an array of strings and returns an array of strings with the needless directions removed (W<->E or S<->N side by side).\n",
    "\n",
    "The Haskell version takes a list of directions with data Direction = North | East | West | South. The Clojure version returns nil when the path is reduced to nothing. The Rust version takes a slice of enum Direction {NORTH, SOUTH, EAST, WEST}.\n",
    "\n",
    "Examples\n",
    "dirReduc(@[@\"NORTH\", @\"SOUTH\", @\"SOUTH\", @\"EAST\", @\"WEST\", @\"NORTH\", @\"WEST\"]); // => @[@\"WEST\"]\n",
    "dirReduc(@[@\"NORTH\", @\"SOUTH\", @\"SOUTH\", @\"EAST\", @\"WEST\", @\"NORTH\"]); // => @[]\n",
    "See more examples in \"Example Tests\"\n",
    "Note\n",
    "Not all paths can be made simpler. The path [\"NORTH\", \"WEST\", \"SOUTH\", \"EAST\"] is not reducible. \"NORTH\" and \"WEST\", \"WEST\" and \"SOUTH\", \"SOUTH\" and \"EAST\" are not directly opposite of each other and can't become such. Hence the result path is itself : [\"NORTH\", \"WEST\", \"SOUTH\", \"EAST\"].\n",
    "\n"
   ]
  },
  {
   "cell_type": "code",
   "execution_count": 57,
   "metadata": {
    "collapsed": true
   },
   "outputs": [],
   "source": [
    "compass = ['NORTH', 'SOUTH','WEST','EAST']"
   ]
  },
  {
   "cell_type": "code",
   "execution_count": 103,
   "metadata": {
    "collapsed": true
   },
   "outputs": [],
   "source": [
    "test = [\"NORTH\", \"SOUTH\", \"SOUTH\", \"EAST\", \"WEST\", \"NORTH\", \"WEST\"]"
   ]
  },
  {
   "cell_type": "code",
   "execution_count": 59,
   "metadata": {
    "collapsed": true
   },
   "outputs": [],
   "source": [
    "from collections import Counter\n",
    "    "
   ]
  },
  {
   "cell_type": "code",
   "execution_count": 126,
   "metadata": {},
   "outputs": [],
   "source": [
    "dir_dict = Counter(arr)\n",
    "\n",
    "y = dir_dict['NORTH'] - dir_dict['SOUTH']\n",
    "x = dir_dict['WEST'] - dir_dict['EAST']\n",
    "\n"
   ]
  },
  {
   "cell_type": "code",
   "execution_count": 127,
   "metadata": {},
   "outputs": [
    {
     "data": {
      "text/plain": [
       "Counter({'EAST': 1, 'NORTH': 2, 'SOUTH': 2, 'WEST': 2})"
      ]
     },
     "execution_count": 127,
     "metadata": {},
     "output_type": "execute_result"
    }
   ],
   "source": [
    "dir_dict"
   ]
  },
  {
   "cell_type": "code",
   "execution_count": 90,
   "metadata": {},
   "outputs": [
    {
     "name": "stdout",
     "output_type": "stream",
     "text": [
      "SOUTH\n"
     ]
    }
   ],
   "source": [
    "x = 1\n",
    "if x * -1 == x:\n",
    "    print(x * 'NORTH')\n",
    "else:\n",
    "    print('SOUTH')"
   ]
  },
  {
   "cell_type": "code",
   "execution_count": 101,
   "metadata": {},
   "outputs": [],
   "source": [
    "def dir_check(num):\n",
    "    num = -5\n",
    "    if num > 0:\n",
    "        result = (num * 'NORTH ').split(\" \")\n",
    "        result = result[:-1]\n",
    "    elif num < 0:\n",
    "        result = (-num * 'SOUTH ').split(\" \")\n",
    "        result = result[:-1]\n",
    "\n",
    "    return result"
   ]
  },
  {
   "cell_type": "code",
   "execution_count": null,
   "metadata": {
    "collapsed": true
   },
   "outputs": [],
   "source": [
    "num = -5\n",
    "if num > 0:\n",
    "    result = (num * 'NORTH ').split(\" \")\n",
    "    result = result[:-1]\n",
    "elif num < 0:\n",
    "    result = (-num * 'SOUTH ').split(\" \")\n",
    "    result = result[:-1]"
   ]
  },
  {
   "cell_type": "code",
   "execution_count": null,
   "metadata": {
    "collapsed": true
   },
   "outputs": [],
   "source": [
    "if dir_dict['NORTH'] > dir_dict['SOUTH']:\n",
    "    \n",
    "    ns = (dir_dict['NORTH'] * 'NORTH ').split(\" \")[:-1]\n",
    "    \n",
    "elif dir_dict['NORTH'] < dir_dict['SOUTH']:\n",
    "    \n",
    "    ns = (dir_dict['SOUTH'] * 'NORTH ').split(\" \")[:-1]\n",
    "    \n",
    "elif dir_dict['NORTH'] == 0 and dir_dict['SOUTH'] == 0:\n",
    "    \n",
    "    ns = []\n",
    "\n",
    "\n",
    "if dir_dict['EAST'] > dir_dict['WEST']:\n",
    "    \n",
    "    we = (dir_dict['EAST'] * 'EAST ').split(\" \")[:-1]\n",
    "    \n",
    "elif dir_dict['EAST'] < dir_dict['WEST']:\n",
    "    \n",
    "    we = (dir_dict['WEST'] * 'WEST ').split(\" \")[:-1]\n",
    "    \n",
    "elif dir_dict['WEST'] == 0 and dir_dict['EAST'] == 0:\n",
    "    \n",
    "    we = []\n",
    "\n",
    "ns.append(we)"
   ]
  },
  {
   "cell_type": "code",
   "execution_count": null,
   "metadata": {
    "collapsed": true
   },
   "outputs": [],
   "source": []
  },
  {
   "cell_type": "code",
   "execution_count": 137,
   "metadata": {
    "scrolled": true
   },
   "outputs": [],
   "source": [
    "def dirReduc(arr):\n",
    "    ns = []\n",
    "    we = []\n",
    "    \n",
    "    dir_dict = Counter(arr)\n",
    "    \n",
    "    if dir_dict['NORTH'] > dir_dict['SOUTH']:\n",
    "\n",
    "        ns = (dir_dict['NORTH'] * 'NORTH ').split(\" \")[:-1]\n",
    "\n",
    "    elif dir_dict['NORTH'] < dir_dict['SOUTH']:\n",
    "\n",
    "        ns = (dir_dict['SOUTH'] * 'SOUTH ').split(\" \")[:-1]\n",
    "\n",
    "    elif dir_dict['NORTH'] == 0 and dir_dict['SOUTH'] == 0:\n",
    "\n",
    "        ns = []\n",
    "\n",
    "        \n",
    "    if dir_dict['EAST'] > dir_dict['WEST']:\n",
    "\n",
    "        we = ((dir_dict['EAST'] - dir_dict['WEST']) * 'EAST ').split(\" \")[:-1]\n",
    "\n",
    "    elif dir_dict['EAST'] < dir_dict['WEST']:\n",
    "\n",
    "        we = ((dir_dict['WEST'] - dir_dict['EAST']) * 'WEST ').split(\" \")[:-1]\n",
    "\n",
    "    elif dir_dict['WEST'] == 0 and dir_dict['EAST'] == 0:\n",
    "\n",
    "        we = []\n",
    "    \n",
    "    print(ns)\n",
    "    print(we)\n",
    "    return ns.append(we)"
   ]
  },
  {
   "cell_type": "code",
   "execution_count": 138,
   "metadata": {
    "scrolled": true
   },
   "outputs": [
    {
     "name": "stdout",
     "output_type": "stream",
     "text": [
      "[]\n",
      "['WEST']\n"
     ]
    }
   ],
   "source": [
    "dirReduc(test)"
   ]
  },
  {
   "cell_type": "code",
   "execution_count": null,
   "metadata": {
    "collapsed": true
   },
   "outputs": [],
   "source": []
  }
 ],
 "metadata": {
  "kernelspec": {
   "display_name": "Python 3",
   "language": "python",
   "name": "python3"
  },
  "language_info": {
   "codemirror_mode": {
    "name": "ipython",
    "version": 3
   },
   "file_extension": ".py",
   "mimetype": "text/x-python",
   "name": "python",
   "nbconvert_exporter": "python",
   "pygments_lexer": "ipython3",
   "version": "3.6.3"
  }
 },
 "nbformat": 4,
 "nbformat_minor": 2
}
