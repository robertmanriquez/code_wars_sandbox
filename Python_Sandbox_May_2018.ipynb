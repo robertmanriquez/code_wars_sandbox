{
 "cells": [
  {
   "cell_type": "markdown",
   "metadata": {},
   "source": [
    "In this kata you are required to, given a string, replace every letter with its position in the alphabet.\n",
    "\n",
    "If anything in the text isn't a letter, ignore it and don't return it.\n",
    "\n",
    "a being 1, b being 2, etc.\n",
    "\n",
    "As an example:\n",
    "\n",
    "`alphabet_position(\"The sunset sets at twelve o' clock.\")`\n",
    "\n",
    "Should return \"20 8 5 19 21 14 19 5 20 19 5 20 19 1 20 20 23 5 12 22 5 15 3 12 15 3 11\" as a string."
   ]
  },
  {
   "cell_type": "code",
   "execution_count": 47,
   "metadata": {
    "collapsed": true
   },
   "outputs": [],
   "source": [
    "def alphabet_position(text):\n",
    "    from string import ascii_lowercase\n",
    "    \n",
    "    result = \"\"\n",
    "    \n",
    "    for idx, char in enumerate(text.lower()):\n",
    "        for jdx, letter in enumerate(ascii_lowercase):\n",
    "            if char == letter:\n",
    "#                 print(jdx, char)\n",
    "                result += str(jdx+1) + \" \"\n",
    "    \n",
    "    return result[:-1]"
   ]
  },
  {
   "cell_type": "code",
   "execution_count": 39,
   "metadata": {
    "collapsed": true
   },
   "outputs": [
    {
     "name": "stdout",
     "output_type": "stream",
     "text": [
      "0 a\n",
      "1 b\n",
      "2 c\n",
      "3 d\n",
      "4 e\n",
      "5 f\n",
      "6 g\n",
      "7 h\n",
      "8 i\n",
      "9 j\n",
      "10 k\n",
      "11 l\n",
      "12 m\n",
      "13 n\n",
      "14 o\n",
      "15 p\n",
      "16 q\n",
      "17 r\n",
      "18 s\n",
      "19 t\n",
      "20 u\n",
      "21 v\n",
      "22 w\n",
      "23 x\n",
      "24 y\n",
      "25 z\n"
     ]
    },
    {
     "data": {
      "text/plain": [
       "'0 1 2 3 4 5 6 7 8 9 10 11 12 13 14 15 16 17 18 19 20 21 22 23 24 25 '"
      ]
     },
     "execution_count": 39,
     "metadata": {},
     "output_type": "execute_result"
    }
   ],
   "source": [
    "alphabet_position('abcdefghijklmnopqrstuvwxyz')"
   ]
  },
  {
   "cell_type": "code",
   "execution_count": 48,
   "metadata": {
    "scrolled": true
   },
   "outputs": [
    {
     "data": {
      "text/plain": [
       "'20 8 5 19 21 14 19 5 20 19 5 20 19 1 20 20 23 5 12 22 5 15 3 12 15 3 11'"
      ]
     },
     "execution_count": 48,
     "metadata": {},
     "output_type": "execute_result"
    }
   ],
   "source": [
    "alphabet_position(\"The sunset sets at twelve o' clock.\")"
   ]
  },
  {
   "cell_type": "code",
   "execution_count": 49,
   "metadata": {
    "scrolled": true
   },
   "outputs": [
    {
     "data": {
      "text/plain": [
       "'8 5 12 12 15 13 25 14 1 13 5 9 19 4 18 1 3 21 12 1 9 22 1 14 20 20 15 19 21 3 11 25 15 21 18 2 12 15 15 4'"
      ]
     },
     "execution_count": 49,
     "metadata": {},
     "output_type": "execute_result"
    }
   ],
   "source": [
    "alphabet_position(\"Hello, my name is Dr.Acula.  I vant to suck your blood!\")"
   ]
  },
  {
   "cell_type": "code",
   "execution_count": null,
   "metadata": {
    "collapsed": true
   },
   "outputs": [],
   "source": []
  },
  {
   "cell_type": "markdown",
   "metadata": {},
   "source": [
    "Once upon a time, on a way through the old wild west,…\n",
    "… a man was given directions to go from one point to another. The directions were \"NORTH\", \"SOUTH\", \"WEST\", \"EAST\". Clearly \"NORTH\" and \"SOUTH\" are opposite, \"WEST\" and \"EAST\" too. Going to one direction and coming back the opposite direction is a needless effort. Since this is the wild west, with dreadfull weather and not much water, it's important to save yourself some energy, otherwise you might die of thirst!\n",
    "\n",
    "How I crossed the desert the smart way.\n",
    "The directions given to the man are, for example, the following:\n",
    "\n",
    "[\"NORTH\", \"SOUTH\", \"SOUTH\", \"EAST\", \"WEST\", \"NORTH\", \"WEST\"].\n",
    "or\n",
    "\n",
    "{ \"NORTH\", \"SOUTH\", \"SOUTH\", \"EAST\", \"WEST\", \"NORTH\", \"WEST\" };\n",
    "or (haskell)\n",
    "\n",
    "[North, South, South, East, West, North, West]\n",
    "You can immediatly see that going \"NORTH\" and then \"SOUTH\" is not reasonable, better stay to the same place! So the task is to give to the man a simplified version of the plan. A better plan in this case is simply:\n",
    "\n",
    "[\"WEST\"]\n",
    "or\n",
    "\n",
    "{ \"WEST\" }\n",
    "or (haskell)\n",
    "\n",
    "[West]\n",
    "or (rust)\n",
    "\n",
    "[WEST];\n",
    "Other examples:\n",
    "In [\"NORTH\", \"SOUTH\", \"EAST\", \"WEST\"], the direction \"NORTH\" + \"SOUTH\" is going north and coming back right away. What a waste of time! Better to do nothing.\n",
    "\n",
    "The path becomes [\"EAST\", \"WEST\"], now \"EAST\" and \"WEST\" annihilate each other, therefore, the final result is [] (nil in Clojure).\n",
    "\n",
    "In [\"NORTH\", \"EAST\", \"WEST\", \"SOUTH\", \"WEST\", \"WEST\"], \"NORTH\" and \"SOUTH\" are not directly opposite but they become directly opposite after the reduction of \"EAST\" and \"WEST\" so the whole path is reducible to [\"WEST\", \"WEST\"].\n",
    "\n",
    "Task\n",
    "Write a function dirReduc which will take an array of strings and returns an array of strings with the needless directions removed (W<->E or S<->N side by side).\n",
    "\n",
    "The Haskell version takes a list of directions with data Direction = North | East | West | South. The Clojure version returns nil when the path is reduced to nothing. The Rust version takes a slice of enum Direction {NORTH, SOUTH, EAST, WEST}.\n",
    "\n",
    "Examples\n",
    "dirReduc(@[@\"NORTH\", @\"SOUTH\", @\"SOUTH\", @\"EAST\", @\"WEST\", @\"NORTH\", @\"WEST\"]); // => @[@\"WEST\"]\n",
    "dirReduc(@[@\"NORTH\", @\"SOUTH\", @\"SOUTH\", @\"EAST\", @\"WEST\", @\"NORTH\"]); // => @[]\n",
    "See more examples in \"Example Tests\"\n",
    "Note\n",
    "Not all paths can be made simpler. The path [\"NORTH\", \"WEST\", \"SOUTH\", \"EAST\"] is not reducible. \"NORTH\" and \"WEST\", \"WEST\" and \"SOUTH\", \"SOUTH\" and \"EAST\" are not directly opposite of each other and can't become such. Hence the result path is itself : [\"NORTH\", \"WEST\", \"SOUTH\", \"EAST\"].\n",
    "\n"
   ]
  },
  {
   "cell_type": "code",
   "execution_count": 57,
   "metadata": {
    "collapsed": true
   },
   "outputs": [],
   "source": [
    "compass = ['NORTH', 'SOUTH','WEST','EAST']"
   ]
  },
  {
   "cell_type": "code",
   "execution_count": 103,
   "metadata": {
    "collapsed": true
   },
   "outputs": [],
   "source": [
    "test = [\"NORTH\", \"SOUTH\", \"SOUTH\", \"EAST\", \"WEST\", \"NORTH\", \"WEST\"]"
   ]
  },
  {
   "cell_type": "code",
   "execution_count": 59,
   "metadata": {
    "collapsed": true
   },
   "outputs": [],
   "source": [
    "from collections import Counter\n",
    "    "
   ]
  },
  {
   "cell_type": "code",
   "execution_count": 126,
   "metadata": {
    "collapsed": true
   },
   "outputs": [],
   "source": [
    "dir_dict = Counter(arr)\n",
    "\n",
    "y = dir_dict['NORTH'] - dir_dict['SOUTH']\n",
    "x = dir_dict['WEST'] - dir_dict['EAST']\n",
    "\n"
   ]
  },
  {
   "cell_type": "code",
   "execution_count": 127,
   "metadata": {},
   "outputs": [
    {
     "data": {
      "text/plain": [
       "Counter({'EAST': 1, 'NORTH': 2, 'SOUTH': 2, 'WEST': 2})"
      ]
     },
     "execution_count": 127,
     "metadata": {},
     "output_type": "execute_result"
    }
   ],
   "source": [
    "dir_dict"
   ]
  },
  {
   "cell_type": "code",
   "execution_count": 90,
   "metadata": {},
   "outputs": [
    {
     "name": "stdout",
     "output_type": "stream",
     "text": [
      "SOUTH\n"
     ]
    }
   ],
   "source": [
    "x = 1\n",
    "if x * -1 == x:\n",
    "    print(x * 'NORTH')\n",
    "else:\n",
    "    print('SOUTH')"
   ]
  },
  {
   "cell_type": "code",
   "execution_count": 101,
   "metadata": {
    "collapsed": true
   },
   "outputs": [],
   "source": [
    "def dir_check(num):\n",
    "    num = -5\n",
    "    if num > 0:\n",
    "        result = (num * 'NORTH ').split(\" \")\n",
    "        result = result[:-1]\n",
    "    elif num < 0:\n",
    "        result = (-num * 'SOUTH ').split(\" \")\n",
    "        result = result[:-1]\n",
    "\n",
    "    return result"
   ]
  },
  {
   "cell_type": "code",
   "execution_count": null,
   "metadata": {
    "collapsed": true
   },
   "outputs": [],
   "source": [
    "num = -5\n",
    "if num > 0:\n",
    "    result = (num * 'NORTH ').split(\" \")\n",
    "    result = result[:-1]\n",
    "elif num < 0:\n",
    "    result = (-num * 'SOUTH ').split(\" \")\n",
    "    result = result[:-1]"
   ]
  },
  {
   "cell_type": "code",
   "execution_count": null,
   "metadata": {
    "collapsed": true
   },
   "outputs": [],
   "source": [
    "if dir_dict['NORTH'] > dir_dict['SOUTH']:\n",
    "    \n",
    "    ns = (dir_dict['NORTH'] * 'NORTH ').split(\" \")[:-1]\n",
    "    \n",
    "elif dir_dict['NORTH'] < dir_dict['SOUTH']:\n",
    "    \n",
    "    ns = (dir_dict['SOUTH'] * 'NORTH ').split(\" \")[:-1]\n",
    "    \n",
    "elif dir_dict['NORTH'] == 0 and dir_dict['SOUTH'] == 0:\n",
    "    \n",
    "    ns = []\n",
    "\n",
    "\n",
    "if dir_dict['EAST'] > dir_dict['WEST']:\n",
    "    \n",
    "    we = (dir_dict['EAST'] * 'EAST ').split(\" \")[:-1]\n",
    "    \n",
    "elif dir_dict['EAST'] < dir_dict['WEST']:\n",
    "    \n",
    "    we = (dir_dict['WEST'] * 'WEST ').split(\" \")[:-1]\n",
    "    \n",
    "elif dir_dict['WEST'] == 0 and dir_dict['EAST'] == 0:\n",
    "    \n",
    "    we = []\n",
    "\n",
    "ns.append(we)"
   ]
  },
  {
   "cell_type": "code",
   "execution_count": null,
   "metadata": {
    "collapsed": true
   },
   "outputs": [],
   "source": []
  },
  {
   "cell_type": "code",
   "execution_count": 207,
   "metadata": {
    "collapsed": true,
    "scrolled": true
   },
   "outputs": [],
   "source": [
    "def dirReduc(arr):\n",
    "    \n",
    "    from collections import Counter\n",
    "\n",
    "    ns = []\n",
    "    we = []\n",
    "    \n",
    "    dir_dict = Counter(arr)\n",
    "    \n",
    "    if dir_dict['NORTH'] > dir_dict['SOUTH']:\n",
    "\n",
    "        ns = (dir_dict['NORTH'] * 'NORTH ').split(\" \")[:-1]\n",
    "\n",
    "    elif dir_dict['NORTH'] < dir_dict['SOUTH']:\n",
    "\n",
    "        ns = (dir_dict['SOUTH'] * 'SOUTH ').split(\" \")[:-1]\n",
    "\n",
    "    elif dir_dict['NORTH'] == 0 and dir_dict['SOUTH'] == 0:\n",
    "\n",
    "        ns = []\n",
    "\n",
    "        \n",
    "    if dir_dict['EAST'] > dir_dict['WEST']:\n",
    "\n",
    "        we = ((dir_dict['EAST'] - dir_dict['WEST']) * 'EAST ').split(\" \")[:-1]\n",
    "\n",
    "    elif dir_dict['EAST'] < dir_dict['WEST']:\n",
    "\n",
    "        we = ((dir_dict['WEST'] - dir_dict['EAST']) * 'WEST ').split(\" \")[:-1]\n",
    "\n",
    "    elif dir_dict['WEST'] == 0 and dir_dict['EAST'] == 0:\n",
    "\n",
    "        we = []\n",
    "    \n",
    "    result = ns + we\n",
    "    \n",
    "    return result"
   ]
  },
  {
   "cell_type": "code",
   "execution_count": 208,
   "metadata": {
    "scrolled": true
   },
   "outputs": [
    {
     "data": {
      "text/plain": [
       "['WEST']"
      ]
     },
     "execution_count": 208,
     "metadata": {},
     "output_type": "execute_result"
    }
   ],
   "source": [
    "test = [\"NORTH\", \"SOUTH\", \"SOUTH\", \"EAST\", \"WEST\", \"NORTH\", \"WEST\"]\n",
    "dirReduc(test)"
   ]
  },
  {
   "cell_type": "code",
   "execution_count": 209,
   "metadata": {},
   "outputs": [
    {
     "data": {
      "text/plain": [
       "[]"
      ]
     },
     "execution_count": 209,
     "metadata": {},
     "output_type": "execute_result"
    }
   ],
   "source": [
    "dirReduc([\"NORTH\", \"WEST\", \"SOUTH\", \"EAST\"])"
   ]
  },
  {
   "cell_type": "code",
   "execution_count": 154,
   "metadata": {},
   "outputs": [
    {
     "data": {
      "text/plain": [
       "['NORTH', 'SOUTH', 'SOUTH', 'EAST', 'WEST', 'NORTH', 'WEST']"
      ]
     },
     "execution_count": 154,
     "metadata": {},
     "output_type": "execute_result"
    }
   ],
   "source": [
    "test = [\"NORTH\", \"SOUTH\", \"SOUTH\", \"EAST\", \"WEST\", \"NORTH\", \"WEST\"]\n",
    "test"
   ]
  },
  {
   "cell_type": "code",
   "execution_count": 163,
   "metadata": {
    "collapsed": true
   },
   "outputs": [],
   "source": [
    "test = [\"NORTH\", \"SOUTH\", \"SOUTH\", \"EAST\", \"WEST\", \"NORTH\", \"WEST\"]\n",
    "result = []\n",
    "for idx, direction in enumerate(test):\n",
    "    try:\n",
    "        if test[idx] == 'NORTH' and test[idx + 1] =='SOUTH':\n",
    "            del test[idx+1]\n",
    "\n",
    "        elif test[idx] == 'SOUTH' and test[idx + 1] =='NORTH':\n",
    "            del test[idx+1]\n",
    "            \n",
    "        else:\n",
    "            pass\n",
    "    except:\n",
    "        pass\n",
    "    \n",
    "    try:\n",
    "        if test[idx] == 'WEST' and test[idx + 1] =='EAST':\n",
    "            del test[idx+1]\n",
    "\n",
    "        elif test[idx] == 'EAST' and test[idx + 1] =='WEST':\n",
    "            del test[idx+1]\n",
    "\n",
    "        else:\n",
    "            pass\n",
    "    except:\n",
    "        pass"
   ]
  },
  {
   "cell_type": "code",
   "execution_count": 164,
   "metadata": {},
   "outputs": [
    {
     "data": {
      "text/plain": [
       "['NORTH', 'SOUTH', 'EAST', 'NORTH', 'WEST']"
      ]
     },
     "execution_count": 164,
     "metadata": {},
     "output_type": "execute_result"
    }
   ],
   "source": [
    "test"
   ]
  },
  {
   "cell_type": "code",
   "execution_count": 225,
   "metadata": {},
   "outputs": [
    {
     "name": "stdout",
     "output_type": "stream",
     "text": [
      "1\n",
      "2\n",
      "4\n",
      "5\n"
     ]
    },
    {
     "data": {
      "text/plain": [
       "['NORTH', 'SOUTH', 'SOUTH', 'EAST', 'NORTH']"
      ]
     },
     "execution_count": 225,
     "metadata": {},
     "output_type": "execute_result"
    }
   ],
   "source": [
    "test = [\"NORTH\", \"SOUTH\", \"SOUTH\", \"EAST\", \"WEST\", \"NORTH\", \"WEST\"]\n",
    "result = []\n",
    "result.append(test[0])\n",
    "\n",
    "for idx, direction in enumerate(test):\n",
    "#     print(idx)\n",
    "    try:  \n",
    "        if test[idx] == 'NORTH' and test[idx + 1] =='SOUTH':\n",
    "            pass\n",
    "\n",
    "        elif test[idx] == 'SOUTH' and test[idx + 1] =='NORTH':\n",
    "            pass\n",
    "        \n",
    "        elif test[idx] == 'NORTH' and test[idx + 1] !='SOUTH':\n",
    "            print(idx)\n",
    "            result.append('NORTH')\n",
    "        \n",
    "        elif test[idx] == 'SOUTH' and test[idx + 1] !='NORTH':\n",
    "            print(idx)\n",
    "            result.append('SOUTH')\n",
    "\n",
    "            \n",
    "        if test[idx] == 'WEST' and test[idx + 1] =='EAST':\n",
    "            pass\n",
    "\n",
    "        elif test[idx] == 'EAST' and test[idx + 1] =='WEST':\n",
    "            pass\n",
    "        \n",
    "        elif test[idx] == 'WEST' and test[idx + 1] !='EAST':\n",
    "            print(idx)\n",
    "            result.append('EAST')\n",
    "        \n",
    "        elif test[idx] == 'EAST' and test[idx + 1] !='WEST':\n",
    "            print(idx)\n",
    "            result.append('WEST')\n",
    "            \n",
    "            \n",
    "#         if test[idx] == 'WEST' and test[idx + 1] =='EAST':\n",
    "#             pass\n",
    "\n",
    "#         elif test[idx] == 'EAST' and test[idx + 1] =='WEST':\n",
    "#             pass\n",
    "\n",
    "#         else:\n",
    "#             result.append(direction)\n",
    "    except:\n",
    "        pass\n",
    "    \n",
    "result"
   ]
  },
  {
   "cell_type": "code",
   "execution_count": 249,
   "metadata": {},
   "outputs": [
    {
     "name": "stdout",
     "output_type": "stream",
     "text": [
      "0 NORTH ['START']\n",
      "1 SOUTH ['START', 'SOUTH']\n",
      "2 SOUTH ['START', 'SOUTH', 'SOUTH']\n",
      "3 EAST ['START', 'SOUTH', 'SOUTH']\n",
      "4 WEST ['START', 'SOUTH', 'SOUTH', 'WEST']\n",
      "5 NORTH ['START', 'SOUTH', 'SOUTH', 'WEST', 'NORTH']\n",
      "6 WEST ['START', 'SOUTH', 'SOUTH', 'WEST', 'NORTH']\n"
     ]
    },
    {
     "data": {
      "text/plain": [
       "['START', 'SOUTH', 'SOUTH', 'WEST', 'NORTH']"
      ]
     },
     "execution_count": 249,
     "metadata": {},
     "output_type": "execute_result"
    }
   ],
   "source": [
    "test = [\"NORTH\", \"SOUTH\", \"SOUTH\", \"EAST\", \"WEST\", \"NORTH\", \"WEST\"]\n",
    "result = ['START']\n",
    "\n",
    "for idx, direction in enumerate(test):\n",
    "#     print(idx)\n",
    "    try:  \n",
    "        if test[idx] == 'NORTH' and test[idx + 1] =='SOUTH':\n",
    "            pass\n",
    "\n",
    "        elif test[idx] == 'SOUTH' and test[idx + 1] =='NORTH':\n",
    "            pass\n",
    "        \n",
    "        elif test[idx] == 'NORTH' and test[idx + 1] !='SOUTH' and result[-1] != 'SOUTH':\n",
    "#             print(idx, 'NORTH')\n",
    "            result.append('NORTH')\n",
    "        \n",
    "        elif test[idx] == 'SOUTH' and test[idx + 1] !='NORTH' and result[-1] != 'NORTH':\n",
    "#             print(idx, 'SOUTH')\n",
    "            result.append('SOUTH')\n",
    "    \n",
    "        elif test[idx] == 'WEST' and test[idx + 1] =='EAST':\n",
    "            pass\n",
    "\n",
    "        elif test[idx] == 'EAST' and test[idx + 1] =='WEST':\n",
    "            pass\n",
    "        \n",
    "        elif test[idx] == 'WEST' and test[idx + 1] !='EAST':\n",
    "            if result[-1] != 'EAST':\n",
    "#                 print(idx, 'WEST')\n",
    "                result.append('WEST')\n",
    "        \n",
    "        elif test[idx] == 'EAST' and test[idx + 1] !='WEST':\n",
    "            if result[-1] != 'WEST':\n",
    "#                 print(idx, 'WEST')\n",
    "                result.append('EAST')       \n",
    "    except:\n",
    "        pass\n",
    "    print(idx, test[idx], result)\n",
    "    \n",
    "result"
   ]
  },
  {
   "cell_type": "code",
   "execution_count": 275,
   "metadata": {},
   "outputs": [
    {
     "name": "stdout",
     "output_type": "stream",
     "text": [
      "0 ['SOUTH', 'NORTH', 'WEST']\n",
      "0 ['WEST']\n",
      "0 ['WEST']\n"
     ]
    },
    {
     "data": {
      "text/plain": [
       "['WEST']"
      ]
     },
     "execution_count": 275,
     "metadata": {},
     "output_type": "execute_result"
    }
   ],
   "source": [
    "test = [\"NORTH\", \"SOUTH\", \"SOUTH\", \"EAST\", \"WEST\", \"NORTH\", \"WEST\"]\n",
    "result = [\"NORTH\", \"SOUTH\", \"SOUTH\", \"EAST\", \"WEST\", \"NORTH\", \"WEST\"]\n",
    "counter = 0\n",
    "idx = 0\n",
    "\n",
    "\n",
    "while counter < 10:\n",
    "#     print(idx)\n",
    "    tracker = len(result)\n",
    "    for i in range(0,len(result)):\n",
    "        try:  \n",
    "            if result[idx] == 'NORTH' and result[idx + 1] =='SOUTH':\n",
    "                del result[idx]\n",
    "                del result[idx]\n",
    "\n",
    "            elif result[idx] == 'SOUTH' and result[idx + 1] =='NORTH':\n",
    "                del result[idx]\n",
    "                del result[idx]\n",
    "\n",
    "            elif result[idx] == 'WEST' and result[idx + 1] =='EAST':\n",
    "                del result[idx]\n",
    "                del result[idx]  \n",
    "\n",
    "            elif result[idx] == 'EAST' and result[idx + 1] =='WEST':\n",
    "                del result[idx]\n",
    "                del result[idx]\n",
    "            else:\n",
    "                idx += 1\n",
    "        except:\n",
    "            pass\n",
    "    \n",
    "    counter += 1\n",
    "    idx = 0\n",
    "#     print(idx, result)\n",
    "    \n",
    "    if tracker == len(result):\n",
    "        break\n",
    "    \n",
    "result"
   ]
  },
  {
   "cell_type": "code",
   "execution_count": 288,
   "metadata": {
    "collapsed": true
   },
   "outputs": [],
   "source": [
    "#### My Solution:\n",
    "\n",
    "a = [\"NORTH\", \"SOUTH\", \"SOUTH\", \"EAST\", \"WEST\", \"NORTH\", \"WEST\"]\n",
    "u = [\"NORTH\", \"WEST\", \"SOUTH\", \"EAST\"]\n",
    "\n",
    "def dirReduc(arr):\n",
    "    \n",
    "    counter = 0\n",
    "    idx = 0\n",
    "\n",
    "    while counter < 10:\n",
    "    #     print(idx)\n",
    "        tracker = len(arr)\n",
    "        for i in range(0,len(arr)):\n",
    "            try:  \n",
    "                if arr[idx] == 'NORTH' and arr[idx + 1] =='SOUTH':\n",
    "                    del arr[idx]\n",
    "                    del arr[idx]\n",
    "\n",
    "                elif arr[idx] == 'SOUTH' and arr[idx + 1] =='NORTH':\n",
    "                    del arr[idx]\n",
    "                    del arr[idx]\n",
    "\n",
    "                elif arr[idx] == 'WEST' and arr[idx + 1] =='EAST':\n",
    "                    del arr[idx]\n",
    "                    del arr[idx]\n",
    "\n",
    "                elif arr[idx] == 'EAST' and arr[idx + 1] =='WEST':\n",
    "                    del arr[idx]\n",
    "                    del arr[idx]\n",
    "                    \n",
    "                else:\n",
    "                    idx += 1\n",
    "            except:\n",
    "                pass\n",
    "\n",
    "        counter += 1\n",
    "        idx = 0\n",
    "    #     print(idx, arr)\n",
    "\n",
    "        if tracker == len(arr):\n",
    "            break\n",
    "            \n",
    "    return arr"
   ]
  },
  {
   "cell_type": "code",
   "execution_count": 291,
   "metadata": {},
   "outputs": [
    {
     "name": "stdout",
     "output_type": "stream",
     "text": [
      "['WEST']\n",
      "['NORTH', 'WEST', 'SOUTH', 'EAST']\n"
     ]
    }
   ],
   "source": [
    "print(dirReduc(a))\n",
    "print(dirReduc(u))"
   ]
  },
  {
   "cell_type": "code",
   "execution_count": null,
   "metadata": {
    "collapsed": true
   },
   "outputs": [],
   "source": []
  },
  {
   "cell_type": "markdown",
   "metadata": {},
   "source": [
    "Where my anagrams at?\n",
    "\n",
    "What is an anagram? Well, two words are anagrams of each other if they both contain the same letters. For example:\n",
    "\n",
    "'abba' & 'baab' == true\n",
    "\n",
    "'abba' & 'bbaa' == true\n",
    "\n",
    "'abba' & 'abbba' == false\n",
    "Write a function that will find all the anagrams of a word from a list. You will be given two inputs a word and an array with words. You should return an array of all the anagrams or an empty array if there are none. For example:\n",
    "\n",
    "anagrams('abba', ['aabb', 'abcd', 'bbaa', 'dada']) => ['aabb', 'bbaa']\n",
    "\n",
    "anagrams('racer', ['crazer', 'carer', 'racar', 'caers', 'racer']) => ['carer', 'racer']\n",
    "\n",
    "anagrams('laser', ['lazing', 'lazy',  'lacer']) => []"
   ]
  },
  {
   "cell_type": "code",
   "execution_count": 297,
   "metadata": {
    "collapsed": true
   },
   "outputs": [],
   "source": [
    "test = ['aabb', 'abcd', 'bbaa', 'dada']\n",
    "test2 = ['crazer', 'carer', 'racar', 'caers', 'racer']"
   ]
  },
  {
   "cell_type": "code",
   "execution_count": 295,
   "metadata": {
    "collapsed": true
   },
   "outputs": [],
   "source": [
    "from collections import Counter\n",
    "\n",
    "result = []\n",
    "\n",
    "for i in test:\n",
    "    for j in test:\n",
    "        if Counter(i) == Counter(j) and i != j:\n",
    "            result.append(i)"
   ]
  },
  {
   "cell_type": "code",
   "execution_count": 296,
   "metadata": {
    "scrolled": true
   },
   "outputs": [
    {
     "data": {
      "text/plain": [
       "['aabb', 'bbaa']"
      ]
     },
     "execution_count": 296,
     "metadata": {},
     "output_type": "execute_result"
    }
   ],
   "source": [
    "result"
   ]
  },
  {
   "cell_type": "code",
   "execution_count": 372,
   "metadata": {
    "collapsed": true
   },
   "outputs": [],
   "source": [
    "def anagrams(word, words):\n",
    "    \n",
    "    from collections import Counter\n",
    "\n",
    "    result = []\n",
    "\n",
    "    for word in words:\n",
    "        for j in words:\n",
    "            if Counter(word) == Counter(j) and word != j:\n",
    "                result.append(j)\n",
    "                \n",
    "    return sorted(list(set(result)))"
   ]
  },
  {
   "cell_type": "code",
   "execution_count": 373,
   "metadata": {
    "scrolled": true
   },
   "outputs": [
    {
     "data": {
      "text/plain": [
       "['aabb', 'bbaa']"
      ]
     },
     "execution_count": 373,
     "metadata": {},
     "output_type": "execute_result"
    }
   ],
   "source": [
    "anagrams('abba', ['aabb', 'abcd', 'bbaa', 'dada'])"
   ]
  },
  {
   "cell_type": "code",
   "execution_count": 377,
   "metadata": {
    "scrolled": true
   },
   "outputs": [
    {
     "data": {
      "text/plain": [
       "['carer', 'racer']"
      ]
     },
     "execution_count": 377,
     "metadata": {},
     "output_type": "execute_result"
    }
   ],
   "source": [
    "anagrams('racer', ['crazer', 'carer', 'racar', 'caers', 'racer'])"
   ]
  },
  {
   "cell_type": "code",
   "execution_count": 378,
   "metadata": {},
   "outputs": [
    {
     "data": {
      "text/plain": [
       "[]"
      ]
     },
     "execution_count": 378,
     "metadata": {},
     "output_type": "execute_result"
    }
   ],
   "source": [
    "anagrams('laser', ['lazing', 'lazy',  'lacer'])"
   ]
  },
  {
   "cell_type": "code",
   "execution_count": 379,
   "metadata": {
    "scrolled": true
   },
   "outputs": [
    {
     "data": {
      "text/plain": [
       "[]"
      ]
     },
     "execution_count": 379,
     "metadata": {},
     "output_type": "execute_result"
    }
   ],
   "source": [
    "anagrams('a', ['a'])"
   ]
  },
  {
   "cell_type": "markdown",
   "metadata": {},
   "source": [
    "Test Passed\n",
    "Test Passed\n",
    "[] should equal ['a']\n",
    "Test Passed\n",
    "['aabb', 'aabb', 'aabb', 'aabb', 'abab', 'abab', 'abab', 'abab', 'abbaa', 'abbaa', 'abbab', 'abbba', 'baaab', 'baaab', 'baab', 'baab', 'baab', 'baab', 'baba', 'baba', 'baba', 'baba', 'babaa', 'babaa', 'bbaa', 'bbaa', 'bbaa', 'bbaa'] should equal ['aabb', 'bbaa', 'abab', 'baba', 'baab']\n",
    "['bid', 'dib'] should equal []"
   ]
  },
  {
   "cell_type": "code",
   "execution_count": 346,
   "metadata": {
    "scrolled": true
   },
   "outputs": [
    {
     "data": {
      "text/plain": [
       "['bid', 'dib', 'idb']"
      ]
     },
     "execution_count": 346,
     "metadata": {},
     "output_type": "execute_result"
    }
   ],
   "source": [
    "anagrams('bid', ['dib', 'bid', 'idb', 'dbsdbodil'])"
   ]
  },
  {
   "cell_type": "code",
   "execution_count": 380,
   "metadata": {
    "collapsed": true
   },
   "outputs": [],
   "source": [
    "### My Solution:\n",
    "def anagrams(word, words):\n",
    "    \n",
    "    from collections import Counter\n",
    "\n",
    "    result = []\n",
    "\n",
    "    for i in words:\n",
    "        if Counter(word) == Counter(i):\n",
    "            result.append(i)\n",
    "                \n",
    "    return result"
   ]
  },
  {
   "cell_type": "code",
   "execution_count": 381,
   "metadata": {
    "scrolled": true
   },
   "outputs": [
    {
     "data": {
      "text/plain": [
       "['aabb', 'bbaa']"
      ]
     },
     "execution_count": 381,
     "metadata": {},
     "output_type": "execute_result"
    }
   ],
   "source": [
    "anagrams('abba', ['aabb', 'abcd', 'bbaa', 'dada'])"
   ]
  },
  {
   "cell_type": "code",
   "execution_count": 383,
   "metadata": {
    "scrolled": true
   },
   "outputs": [
    {
     "data": {
      "text/plain": [
       "['carer', 'racer']"
      ]
     },
     "execution_count": 383,
     "metadata": {},
     "output_type": "execute_result"
    }
   ],
   "source": [
    "anagrams('racer', ['crazer', 'carer', 'racar', 'caers', 'racer'])"
   ]
  },
  {
   "cell_type": "code",
   "execution_count": 384,
   "metadata": {},
   "outputs": [
    {
     "data": {
      "text/plain": [
       "[]"
      ]
     },
     "execution_count": 384,
     "metadata": {},
     "output_type": "execute_result"
    }
   ],
   "source": [
    "anagrams('laser', ['lazing', 'lazy',  'lacer'])"
   ]
  },
  {
   "cell_type": "code",
   "execution_count": 385,
   "metadata": {
    "scrolled": true
   },
   "outputs": [
    {
     "data": {
      "text/plain": [
       "['a']"
      ]
     },
     "execution_count": 385,
     "metadata": {},
     "output_type": "execute_result"
    }
   ],
   "source": [
    "anagrams('a', ['a'])"
   ]
  },
  {
   "cell_type": "markdown",
   "metadata": {
    "collapsed": true
   },
   "source": [
    "A Narcissistic Number is a number which is the sum of its own digits, each raised to the power of the number of digits.\n",
    "\n",
    "For example, take 153 (3 digits):\n",
    "\n",
    "    1^3 + 5^3 + 3^3 = 1 + 125 + 27 = 153\n",
    "and 1634 (4 digits):\n",
    "\n",
    "    1^4 + 6^4 + 3^4 + 4^4 = 1 + 1296 + 81 + 256 = 1634\n",
    "The Challenge:\n",
    "\n",
    "Your code must return true or false depending upon whether the given number is a Narcissistic number.\n",
    "\n",
    "Error checking for text strings or other invalid inputs is not required, only valid integers will be passed into the function."
   ]
  },
  {
   "cell_type": "code",
   "execution_count": null,
   "metadata": {
    "collapsed": true
   },
   "outputs": [],
   "source": []
  },
  {
   "cell_type": "code",
   "execution_count": 21,
   "metadata": {
    "collapsed": true
   },
   "outputs": [],
   "source": [
    "def narcissistic(value):\n",
    "    \n",
    "    num = 0\n",
    "    expontent = len(str(value))\n",
    "    \n",
    "    \n",
    "    for char in str(value):\n",
    "        print(int(char)**expontent)\n",
    "        num += (int(char)**expontent)\n",
    "        \n",
    "    print(num)\n",
    "        \n",
    "    if num == value:\n",
    "        return True\n",
    "    elif num != value:\n",
    "        return False"
   ]
  },
  {
   "cell_type": "code",
   "execution_count": 22,
   "metadata": {},
   "outputs": [
    {
     "name": "stdout",
     "output_type": "stream",
     "text": [
      "1\n",
      "125\n",
      "27\n",
      "153\n"
     ]
    },
    {
     "data": {
      "text/plain": [
       "True"
      ]
     },
     "execution_count": 22,
     "metadata": {},
     "output_type": "execute_result"
    }
   ],
   "source": [
    "narcissistic(153)"
   ]
  },
  {
   "cell_type": "code",
   "execution_count": 23,
   "metadata": {},
   "outputs": [
    {
     "name": "stdout",
     "output_type": "stream",
     "text": [
      "1\n",
      "1296\n",
      "81\n",
      "256\n",
      "1634\n"
     ]
    },
    {
     "data": {
      "text/plain": [
       "True"
      ]
     },
     "execution_count": 23,
     "metadata": {},
     "output_type": "execute_result"
    }
   ],
   "source": [
    "narcissistic(1634)"
   ]
  },
  {
   "cell_type": "code",
   "execution_count": 20,
   "metadata": {},
   "outputs": [
    {
     "data": {
      "text/plain": [
       "308"
      ]
     },
     "execution_count": 20,
     "metadata": {},
     "output_type": "execute_result"
    }
   ],
   "source": [
    "1**3 + 6**3 + 3**3 + 4**3"
   ]
  },
  {
   "cell_type": "markdown",
   "metadata": {},
   "source": [
    "A friend of mine takes a sequence of numbers from 1 to n (where n > 0).\n",
    "Within that sequence, he chooses two numbers, a and b.\n",
    "He says that the product of a and b should be equal to the sum of all numbers in the sequence, excluding a and b.\n",
    "Given a number n, could you tell me the numbers he excluded from the sequence?\n",
    "The function takes the parameter: n (don't worry, n is always strictly greater than 0 and relatively small) and returns an array or a string (depending on the language) of the form:\n",
    "\n",
    "[(a, b), ...] or [[a, b], ...] or {{a, b}, ...} or or [{a, b}, ...]\n",
    "with all (a, b) which are the possible removed numbers in the sequence 1 to n.\n",
    "\n",
    "[(a, b), ...] or [[a, b], ...] or {{a, b}, ...} or ...will be sorted in increasing order of the \"a\".\n",
    "\n",
    "It happens that there are several possible (a, b). The function returns an empty array if no possible numbers are found which will prove that my friend has not told the truth! (Go: in this case return nil).\n",
    "\n",
    "(See examples of returns for each language in \"RUN SAMPLE TESTS\")\n",
    "\n",
    "Examples:\n",
    "removNb(26) should return [(15, 21), (21, 15)]\n",
    "or\n",
    "\n",
    "removNb(26) should return { {15, 21}, {21, 15} }\n",
    "or\n",
    "\n",
    "removeNb(26) should return [[15, 21], [21, 15]]\n",
    "or\n",
    "\n",
    "removNb(26) should return [ {15, 21}, {21, 15} ]\n",
    "or\n",
    "\n",
    "removNb(26) should return \"15 21, 21 15\"\n",
    "or\n",
    "\n",
    "in C:\n",
    "removNb(26) should return  **an array of pairs {{15, 21}{21, 15}}**\n",
    "tested by way of strings."
   ]
  },
  {
   "cell_type": "code",
   "execution_count": 26,
   "metadata": {
    "collapsed": true
   },
   "outputs": [],
   "source": [
    "import numpy as np"
   ]
  },
  {
   "cell_type": "code",
   "execution_count": 28,
   "metadata": {},
   "outputs": [],
   "source": [
    "N = 26\n",
    "\n",
    "test = np.arange(1,26)"
   ]
  },
  {
   "cell_type": "code",
   "execution_count": 29,
   "metadata": {},
   "outputs": [
    {
     "data": {
      "text/plain": [
       "array([ 1,  2,  3,  4,  5,  6,  7,  8,  9, 10, 11, 12, 13, 14, 15, 16, 17,\n",
       "       18, 19, 20, 21, 22, 23, 24, 25])"
      ]
     },
     "execution_count": 29,
     "metadata": {},
     "output_type": "execute_result"
    }
   ],
   "source": [
    "test"
   ]
  },
  {
   "cell_type": "code",
   "execution_count": 30,
   "metadata": {},
   "outputs": [
    {
     "data": {
      "text/plain": [
       "325"
      ]
     },
     "execution_count": 30,
     "metadata": {},
     "output_type": "execute_result"
    }
   ],
   "source": [
    "np.sum(test)"
   ]
  },
  {
   "cell_type": "code",
   "execution_count": 32,
   "metadata": {},
   "outputs": [
    {
     "name": "stdout",
     "output_type": "stream",
     "text": [
      "13 25 325\n",
      "25 13 325\n",
      "[(13, 25), (25, 13)]\n"
     ]
    }
   ],
   "source": [
    "result = []\n",
    "for i in test:\n",
    "    for j in test:\n",
    "        if i*j == np.sum(test):\n",
    "            print(i,j,np.sum(test))\n",
    "            \n",
    "            result.append((i,j))\n",
    "            \n",
    "print(result)"
   ]
  },
  {
   "cell_type": "code",
   "execution_count": 87,
   "metadata": {},
   "outputs": [
    {
     "data": {
      "text/plain": [
       "[1,\n",
       " 2,\n",
       " 3,\n",
       " 4,\n",
       " 5,\n",
       " 6,\n",
       " 7,\n",
       " 8,\n",
       " 9,\n",
       " 10,\n",
       " 11,\n",
       " 12,\n",
       " 13,\n",
       " 14,\n",
       " 15,\n",
       " 16,\n",
       " 17,\n",
       " 18,\n",
       " 19,\n",
       " 20,\n",
       " 21,\n",
       " 22,\n",
       " 23,\n",
       " 24,\n",
       " 26]"
      ]
     },
     "execution_count": 87,
     "metadata": {},
     "output_type": "execute_result"
    }
   ],
   "source": [
    "test"
   ]
  },
  {
   "cell_type": "code",
   "execution_count": 99,
   "metadata": {},
   "outputs": [
    {
     "name": "stdout",
     "output_type": "stream",
     "text": [
      "[1, 2, 3, 4, 5, 6, 7, 8, 9, 10, 11, 12, 13, 14, 15, 16, 17, 18, 19, 20, 21, 22, 23, 24, 25, 26]\n"
     ]
    }
   ],
   "source": [
    "test = list(range(1,26+1))\n",
    "print(test)"
   ]
  },
  {
   "cell_type": "code",
   "execution_count": 100,
   "metadata": {},
   "outputs": [
    {
     "ename": "AttributeError",
     "evalue": "'NoneType' object has no attribute 'copy'",
     "output_type": "error",
     "traceback": [
      "\u001b[0;31m---------------------------------------------------------------------------\u001b[0m",
      "\u001b[0;31mAttributeError\u001b[0m                            Traceback (most recent call last)",
      "\u001b[0;32m<ipython-input-100-08c28e9bc85f>\u001b[0m in \u001b[0;36m<module>\u001b[0;34m()\u001b[0m\n\u001b[0;32m----> 1\u001b[0;31m \u001b[0mtemp\u001b[0m \u001b[0;34m=\u001b[0m \u001b[0mtest\u001b[0m\u001b[0;34m.\u001b[0m\u001b[0mremove\u001b[0m\u001b[0;34m(\u001b[0m\u001b[0;36m25\u001b[0m\u001b[0;34m)\u001b[0m\u001b[0;34m.\u001b[0m\u001b[0mcopy\u001b[0m\u001b[0;34m(\u001b[0m\u001b[0;34m)\u001b[0m\u001b[0;34m\u001b[0m\u001b[0m\n\u001b[0m",
      "\u001b[0;31mAttributeError\u001b[0m: 'NoneType' object has no attribute 'copy'"
     ]
    }
   ],
   "source": [
    "temp = test.remove(25)"
   ]
  },
  {
   "cell_type": "code",
   "execution_count": 95,
   "metadata": {},
   "outputs": [
    {
     "name": "stdout",
     "output_type": "stream",
     "text": [
      "[1, 2, 3, 4, 5, 6, 7, 8, 9, 10, 11, 12, 13, 14, 15, 16, 17, 18, 19, 20, 21, 22, 23, 24, 26]\n"
     ]
    }
   ],
   "source": [
    "print(test)"
   ]
  },
  {
   "cell_type": "code",
   "execution_count": 97,
   "metadata": {
    "scrolled": true
   },
   "outputs": [
    {
     "name": "stdout",
     "output_type": "stream",
     "text": [
      "None\n"
     ]
    }
   ],
   "source": [
    "print(temp)"
   ]
  },
  {
   "cell_type": "code",
   "execution_count": 76,
   "metadata": {},
   "outputs": [
    {
     "data": {
      "text/plain": [
       "3"
      ]
     },
     "execution_count": 76,
     "metadata": {},
     "output_type": "execute_result"
    }
   ],
   "source": [
    "sum([1,2])"
   ]
  },
  {
   "cell_type": "code",
   "execution_count": 104,
   "metadata": {},
   "outputs": [],
   "source": [
    "list(range(1,10+1)).remove(1)"
   ]
  },
  {
   "cell_type": "code",
   "execution_count": 119,
   "metadata": {
    "collapsed": true
   },
   "outputs": [],
   "source": [
    "def removNb(n):\n",
    "    \n",
    "    import numpy as np\n",
    "    \n",
    "    int_list = list(range(1,n+1))\n",
    "    \n",
    "    result = []\n",
    "    \n",
    "    for i in int_list:\n",
    "        for j in int_list:\n",
    "            \n",
    "            if i != j:\n",
    "            \n",
    "                loop_list = list(range(1,n+1))\n",
    "                loop_list.remove(i)\n",
    "                loop_list.remove(j)\n",
    "\n",
    "                if i*j == sum(loop_list):\n",
    "\n",
    "#                     print(loop_list)\n",
    "                    print(i,j,np.sum(int_list))\n",
    "                    result.append((i,j))\n",
    "    return result"
   ]
  },
  {
   "cell_type": "code",
   "execution_count": 120,
   "metadata": {},
   "outputs": [
    {
     "data": {
      "text/plain": [
       "325"
      ]
     },
     "execution_count": 120,
     "metadata": {},
     "output_type": "execute_result"
    }
   ],
   "source": [
    "13 *25"
   ]
  },
  {
   "cell_type": "code",
   "execution_count": 121,
   "metadata": {
    "scrolled": true
   },
   "outputs": [
    {
     "name": "stdout",
     "output_type": "stream",
     "text": [
      "15 21 351\n",
      "21 15 351\n"
     ]
    },
    {
     "data": {
      "text/plain": [
       "[(15, 21), (21, 15)]"
      ]
     },
     "execution_count": 121,
     "metadata": {},
     "output_type": "execute_result"
    }
   ],
   "source": [
    "removNb(26)"
   ]
  },
  {
   "cell_type": "code",
   "execution_count": 122,
   "metadata": {},
   "outputs": [
    {
     "data": {
      "text/plain": [
       "[]"
      ]
     },
     "execution_count": 122,
     "metadata": {},
     "output_type": "execute_result"
    }
   ],
   "source": [
    "removNb(100)"
   ]
  },
  {
   "cell_type": "code",
   "execution_count": 127,
   "metadata": {},
   "outputs": [
    {
     "name": "stdout",
     "output_type": "stream",
     "text": [
      "6 7 55\n",
      "7 6 55\n",
      "10 13 153\n",
      "13 10 153\n",
      "15 21 351\n",
      "21 15 351\n",
      "22 28 666\n",
      "28 22 666\n",
      "21 31 703\n",
      "31 21 703\n",
      "27 36 1035\n",
      "36 27 1035\n",
      "28 43 1275\n",
      "43 28 1275\n",
      "42 43 1891\n",
      "43 42 1891\n",
      "36 57 2145\n",
      "57 36 2145\n",
      "42 52 2278\n",
      "52 42 2278\n",
      "45 66 3081\n",
      "66 45 3081\n",
      "45 73 3403\n",
      "73 45 3403\n",
      "52 78 4186\n",
      "78 52 4186\n",
      "57 76 4465\n",
      "76 57 4465\n",
      "55 91 5151\n",
      "91 55 5151\n",
      "70 73 5253\n",
      "73 70 5253\n",
      "70 85 6105\n",
      "85 70 6105\n",
      "66 111 7503\n",
      "111 66 7503\n",
      "76 120 9316\n",
      "120 76 9316\n",
      "87 108 9591\n",
      "108 87 9591\n",
      "78 133 10585\n",
      "133 78 10585\n",
      "87 126 11175\n",
      "126 87 11175\n",
      "85 136 11781\n",
      "136 85 11781\n",
      "106 112 12090\n",
      "112 106 12090\n",
      "106 127 13695\n",
      "127 106 13695\n",
      "91 157 14535\n",
      "157 91 14535\n",
      "105 141 15051\n",
      "141 105 15051\n",
      "115 141 16471\n",
      "141 115 16471\n",
      "112 148 16836\n",
      "148 112 16836\n",
      "108 162 17766\n",
      "162 108 17766\n",
      "105 183 19503\n",
      "183 105 19503\n",
      "115 190 22155\n",
      "190 115 22155\n",
      "147 153 22791\n",
      "153 147 22791\n",
      "150 160 24310\n",
      "160 150 24310\n",
      "120 211 25651\n",
      "211 120 25651\n",
      "126 210 26796\n",
      "210 126 26796\n",
      "150 178 27028\n",
      "178 150 27028\n",
      "157 196 31125\n",
      "196 157 31125\n",
      "147 211 31375\n",
      "211 147 31375\n",
      "136 241 33153\n",
      "241 136 33153\n",
      "160 213 34453\n",
      "213 160 34453\n",
      "148 232 34716\n",
      "232 148 34716\n",
      "183 192 35511\n",
      "192 183 35511\n",
      "171 231 39903\n",
      "231 171 39903\n",
      "153 273 42195\n",
      "273 153 42195\n",
      "202 217 44253\n",
      "217 202 44253\n",
      "162 276 45150\n",
      "276 162 45150\n",
      "178 258 46360\n",
      "258 178 46360\n",
      "202 238 48516\n",
      "238 202 48516\n",
      "192 252 48828\n",
      "252 192 48828\n",
      "175 280 49455\n",
      "280 175 49455\n",
      "171 307 52975\n",
      "175 300 52975\n",
      "300 175 52975\n",
      "307 171 52975\n",
      "196 295 58311\n",
      "295 196 58311\n",
      "223 267 60031\n",
      "267 223 60031\n",
      "252 253 64261\n",
      "253 252 64261\n",
      "190 343 65703\n",
      "343 190 65703\n",
      "213 318 68265\n",
      "318 213 68265\n",
      "241 295 71631\n",
      "295 241 71631\n",
      "225 321 72771\n",
      "321 225 72771\n"
     ]
    },
    {
     "ename": "KeyboardInterrupt",
     "evalue": "",
     "output_type": "error",
     "traceback": [
      "\u001b[0;31m---------------------------------------------------------------------------\u001b[0m",
      "\u001b[0;31mKeyboardInterrupt\u001b[0m                         Traceback (most recent call last)",
      "\u001b[0;32m<ipython-input-127-fe3959100610>\u001b[0m in \u001b[0;36m<module>\u001b[0;34m()\u001b[0m\n\u001b[1;32m      1\u001b[0m \u001b[0mnew_result\u001b[0m \u001b[0;34m=\u001b[0m \u001b[0;34m[\u001b[0m\u001b[0;34m]\u001b[0m\u001b[0;34m\u001b[0m\u001b[0m\n\u001b[1;32m      2\u001b[0m \u001b[0;32mfor\u001b[0m \u001b[0mi\u001b[0m \u001b[0;32min\u001b[0m \u001b[0mrange\u001b[0m\u001b[0;34m(\u001b[0m\u001b[0;36m1\u001b[0m\u001b[0;34m,\u001b[0m\u001b[0;36m1000\u001b[0m\u001b[0;34m)\u001b[0m\u001b[0;34m:\u001b[0m\u001b[0;34m\u001b[0m\u001b[0m\n\u001b[0;32m----> 3\u001b[0;31m     \u001b[0mnew_result\u001b[0m\u001b[0;34m.\u001b[0m\u001b[0mappend\u001b[0m\u001b[0;34m(\u001b[0m\u001b[0mremovNb\u001b[0m\u001b[0;34m(\u001b[0m\u001b[0mi\u001b[0m\u001b[0;34m)\u001b[0m\u001b[0;34m)\u001b[0m\u001b[0;34m\u001b[0m\u001b[0m\n\u001b[0m",
      "\u001b[0;32m<ipython-input-119-08b8398e086c>\u001b[0m in \u001b[0;36mremovNb\u001b[0;34m(n)\u001b[0m\n\u001b[1;32m     16\u001b[0m                 \u001b[0mloop_list\u001b[0m\u001b[0;34m.\u001b[0m\u001b[0mremove\u001b[0m\u001b[0;34m(\u001b[0m\u001b[0mj\u001b[0m\u001b[0;34m)\u001b[0m\u001b[0;34m\u001b[0m\u001b[0m\n\u001b[1;32m     17\u001b[0m \u001b[0;34m\u001b[0m\u001b[0m\n\u001b[0;32m---> 18\u001b[0;31m                 \u001b[0;32mif\u001b[0m \u001b[0mi\u001b[0m\u001b[0;34m*\u001b[0m\u001b[0mj\u001b[0m \u001b[0;34m==\u001b[0m \u001b[0msum\u001b[0m\u001b[0;34m(\u001b[0m\u001b[0mloop_list\u001b[0m\u001b[0;34m)\u001b[0m\u001b[0;34m:\u001b[0m\u001b[0;34m\u001b[0m\u001b[0m\n\u001b[0m\u001b[1;32m     19\u001b[0m \u001b[0;34m\u001b[0m\u001b[0m\n\u001b[1;32m     20\u001b[0m \u001b[0;31m#                     print(loop_list)\u001b[0m\u001b[0;34m\u001b[0m\u001b[0;34m\u001b[0m\u001b[0m\n",
      "\u001b[0;31mKeyboardInterrupt\u001b[0m: "
     ]
    }
   ],
   "source": [
    "new_result = []\n",
    "for i in range(1,1000):\n",
    "    new_result.append(removNb(i))"
   ]
  },
  {
   "cell_type": "code",
   "execution_count": 129,
   "metadata": {},
   "outputs": [
    {
     "ename": "TypeError",
     "evalue": "unsupported operand type(s) for +: 'range' and 'range'",
     "output_type": "error",
     "traceback": [
      "\u001b[0;31m---------------------------------------------------------------------------\u001b[0m",
      "\u001b[0;31mTypeError\u001b[0m                                 Traceback (most recent call last)",
      "\u001b[0;32m<ipython-input-129-b875fc2ba2e7>\u001b[0m in \u001b[0;36m<module>\u001b[0;34m()\u001b[0m\n\u001b[0;32m----> 1\u001b[0;31m \u001b[0mrange\u001b[0m\u001b[0;34m(\u001b[0m\u001b[0;36m0\u001b[0m\u001b[0;34m,\u001b[0m\u001b[0;36m1\u001b[0m\u001b[0;34m)\u001b[0m \u001b[0;34m+\u001b[0m \u001b[0mrange\u001b[0m\u001b[0;34m(\u001b[0m\u001b[0;36m2\u001b[0m\u001b[0;34m,\u001b[0m\u001b[0;36m3\u001b[0m\u001b[0;34m)\u001b[0m\u001b[0;34m\u001b[0m\u001b[0m\n\u001b[0m",
      "\u001b[0;31mTypeError\u001b[0m: unsupported operand type(s) for +: 'range' and 'range'"
     ]
    }
   ],
   "source": [
    "range(0,1) + range(2,3)"
   ]
  },
  {
   "cell_type": "code",
   "execution_count": 161,
   "metadata": {},
   "outputs": [],
   "source": [
    "list(range(1,26+1)).remove(1)"
   ]
  },
  {
   "cell_type": "code",
   "execution_count": 203,
   "metadata": {
    "collapsed": true
   },
   "outputs": [],
   "source": [
    "import itertools"
   ]
  },
  {
   "cell_type": "code",
   "execution_count": 210,
   "metadata": {},
   "outputs": [],
   "source": [
    "for i in itertools.combinations(range(0,1000), 2):\n",
    "    if i[0] != i[1] and i[0] * i[1] == sum(range(0,1000)) - i[0] - i[1]:\n",
    "        print(i)"
   ]
  },
  {
   "cell_type": "code",
   "execution_count": 297,
   "metadata": {},
   "outputs": [],
   "source": [
    "def removNb(n):\n",
    "    \n",
    "    import itertools\n",
    "    \n",
    "    i_range = range(1,n+1)\n",
    "        \n",
    "    result = []\n",
    "    \n",
    "    for i in itertools.combinations(i_range, 2):\n",
    "        if i[0] * i[1] == sum(i_range) - i[0] - i[1]:\n",
    "            result.append((i[0], i[1]))\n",
    "            result.append((i[1], i[0]))\n",
    "                \n",
    "    return result"
   ]
  },
  {
   "cell_type": "code",
   "execution_count": 299,
   "metadata": {
    "collapsed": true
   },
   "outputs": [],
   "source": [
    "def removNb(n):\n",
    "\n",
    "    import itertools\n",
    "    \n",
    "    list_sum = range(1,n+1)\n",
    "    \n",
    "    i_range = range(int(n*0.5),int((n+1)*0.9))\n",
    "        \n",
    "    result = []\n",
    "    \n",
    "    for i in itertools.combinations(i_range, 2):\n",
    "        if i[0] * i[1] == sum(list_sum) - i[0] - i[1]:\n",
    "            result.append((i[0], i[1]))\n",
    "            result.append((i[1], i[0]))\n",
    "    \n",
    "    return result"
   ]
  },
  {
   "cell_type": "code",
   "execution_count": null,
   "metadata": {
    "collapsed": true
   },
   "outputs": [],
   "source": [
    "n*(n+1)/2"
   ]
  },
  {
   "cell_type": "code",
   "execution_count": 309,
   "metadata": {
    "scrolled": false
   },
   "outputs": [
    {
     "data": {
      "text/plain": [
       "500500"
      ]
     },
     "execution_count": 309,
     "metadata": {},
     "output_type": "execute_result"
    }
   ],
   "source": [
    "n = 1000\n",
    "sum(range(1,n+1))"
   ]
  },
  {
   "cell_type": "code",
   "execution_count": 313,
   "metadata": {},
   "outputs": [
    {
     "name": "stdout",
     "output_type": "stream",
     "text": [
      "351.0\n",
      "336\n",
      "315\n"
     ]
    }
   ],
   "source": [
    "n = 26\n",
    "\n",
    "print(n*(n+1)/2)\n",
    "print(351 - 15)\n",
    "print(351 - 15 - 21)"
   ]
  },
  {
   "cell_type": "code",
   "execution_count": null,
   "metadata": {
    "collapsed": true
   },
   "outputs": [],
   "source": []
  },
  {
   "cell_type": "code",
   "execution_count": 310,
   "metadata": {
    "scrolled": true
   },
   "outputs": [
    {
     "data": {
      "text/plain": [
       "500500.0"
      ]
     },
     "execution_count": 310,
     "metadata": {},
     "output_type": "execute_result"
    }
   ],
   "source": [
    "n*(n+1)/2"
   ]
  },
  {
   "cell_type": "code",
   "execution_count": 290,
   "metadata": {},
   "outputs": [
    {
     "data": {
      "text/plain": [
       "10.4"
      ]
     },
     "execution_count": 290,
     "metadata": {},
     "output_type": "execute_result"
    }
   ],
   "source": [
    "26*0.4"
   ]
  },
  {
   "cell_type": "code",
   "execution_count": 291,
   "metadata": {},
   "outputs": [
    {
     "data": {
      "text/plain": [
       "0.5769230769230769"
      ]
     },
     "execution_count": 291,
     "metadata": {},
     "output_type": "execute_result"
    }
   ],
   "source": [
    "15/26"
   ]
  },
  {
   "cell_type": "code",
   "execution_count": 292,
   "metadata": {},
   "outputs": [
    {
     "data": {
      "text/plain": [
       "0.8076923076923077"
      ]
     },
     "execution_count": 292,
     "metadata": {},
     "output_type": "execute_result"
    }
   ],
   "source": [
    "21/26"
   ]
  },
  {
   "cell_type": "code",
   "execution_count": 293,
   "metadata": {
    "scrolled": true
   },
   "outputs": [
    {
     "data": {
      "text/plain": [
       "[(15, 21), (21, 15)]"
      ]
     },
     "execution_count": 293,
     "metadata": {},
     "output_type": "execute_result"
    }
   ],
   "source": [
    "removNb(26)"
   ]
  },
  {
   "cell_type": "code",
   "execution_count": 294,
   "metadata": {
    "scrolled": false
   },
   "outputs": [
    {
     "data": {
      "text/plain": [
       "[]"
      ]
     },
     "execution_count": 294,
     "metadata": {},
     "output_type": "execute_result"
    }
   ],
   "source": [
    "removNb(100)"
   ]
  },
  {
   "cell_type": "code",
   "execution_count": 295,
   "metadata": {},
   "outputs": [
    {
     "data": {
      "text/plain": [
       "[]"
      ]
     },
     "execution_count": 295,
     "metadata": {},
     "output_type": "execute_result"
    }
   ],
   "source": [
    "removNb(1000)"
   ]
  },
  {
   "cell_type": "code",
   "execution_count": 245,
   "metadata": {},
   "outputs": [
    {
     "data": {
      "text/plain": [
       "0.79"
      ]
     },
     "execution_count": 245,
     "metadata": {},
     "output_type": "execute_result"
    }
   ],
   "source": [
    "316/400"
   ]
  },
  {
   "cell_type": "code",
   "execution_count": null,
   "metadata": {
    "collapsed": true
   },
   "outputs": [],
   "source": [
    "10 17 26 36 37 45"
   ]
  },
  {
   "cell_type": "code",
   "execution_count": 327,
   "metadata": {},
   "outputs": [
    {
     "data": {
      "text/plain": [
       "7"
      ]
     },
     "execution_count": 327,
     "metadata": {},
     "output_type": "execute_result"
    }
   ],
   "source": [
    "[(6, 7), (7, 6)][1][0]"
   ]
  },
  {
   "cell_type": "code",
   "execution_count": 331,
   "metadata": {
    "scrolled": true
   },
   "outputs": [
    {
     "name": "stdout",
     "output_type": "stream",
     "text": [
      "10 [(6, 7), (7, 6)]\n",
      "17 [(10, 13), (13, 10)]\n",
      "26 [(15, 21), (21, 15)]\n",
      "36 [(22, 28), (28, 22)]\n",
      "37 [(21, 31), (31, 21)]\n",
      "45 [(27, 36), (36, 27)]\n",
      "50 [(28, 43), (43, 28)]\n",
      "61 [(42, 43), (43, 42)]\n",
      "65 [(36, 57), (57, 36)]\n",
      "67 [(42, 52), (52, 42)]\n",
      "78 [(45, 66), (66, 45)]\n",
      "82 [(45, 73), (73, 45)]\n",
      "91 [(52, 78), (78, 52)]\n",
      "94 [(57, 76), (76, 57)]\n",
      "102 [(70, 73), (73, 70)]\n",
      "110 [(70, 85), (85, 70)]\n",
      "136 [(76, 120), (120, 76)]\n",
      "138 [(87, 108), (108, 87)]\n",
      "149 [(87, 126), (126, 87)]\n",
      "153 [(85, 136), (136, 85)]\n",
      "155 [(106, 112), (112, 106)]\n",
      "165 [(106, 127), (127, 106)]\n",
      "173 [(105, 141), (141, 105)]\n",
      "181 [(115, 141), (141, 115)]\n",
      "183 [(112, 148), (148, 112)]\n",
      "188 [(108, 162), (162, 108)]\n",
      "213 [(147, 153), (153, 147)]\n",
      "220 [(150, 160), (160, 150)]\n",
      "232 [(150, 178), (178, 150)]\n",
      "249 [(157, 196), (196, 157)]\n",
      "250 [(147, 211), (211, 147)]\n",
      "262 [(160, 213), (213, 160)]\n",
      "263 [(148, 232), (232, 148)]\n",
      "266 [(183, 192), (192, 183)]\n",
      "282 [(171, 231), (231, 171)]\n",
      "297 [(202, 217), (217, 202)]\n"
     ]
    }
   ],
   "source": [
    "result_list = []\n",
    "for i in range(1,300):\n",
    "    temp = removNb(i)\n",
    "    if len(temp) > 0:\n",
    "        print(i, temp)\n",
    "        result_list.append((i, temp[0][0], temp[0][1]))"
   ]
  },
  {
   "cell_type": "code",
   "execution_count": 317,
   "metadata": {
    "scrolled": true
   },
   "outputs": [
    {
     "data": {
      "text/plain": [
       "278320"
      ]
     },
     "execution_count": 317,
     "metadata": {},
     "output_type": "execute_result"
    }
   ],
   "source": [
    "490*568"
   ]
  },
  {
   "cell_type": "code",
   "execution_count": 319,
   "metadata": {},
   "outputs": [
    {
     "data": {
      "text/plain": [
       "278320"
      ]
     },
     "execution_count": 319,
     "metadata": {},
     "output_type": "execute_result"
    }
   ],
   "source": [
    "sum(range(1,747+1)) - 490 - 568"
   ]
  },
  {
   "cell_type": "code",
   "execution_count": 135,
   "metadata": {
    "scrolled": true
   },
   "outputs": [
    {
     "data": {
      "text/plain": [
       "[0, 1, 2, 3, 4, 5, 6, 7, 8, 9]"
      ]
     },
     "execution_count": 135,
     "metadata": {},
     "output_type": "execute_result"
    }
   ],
   "source": [
    "list(range(0,10))"
   ]
  },
  {
   "cell_type": "code",
   "execution_count": 138,
   "metadata": {},
   "outputs": [
    {
     "data": {
      "text/plain": [
       "[9, 8, 7, 6, 5, 4, 3, 2, 1, 0]"
      ]
     },
     "execution_count": 138,
     "metadata": {},
     "output_type": "execute_result"
    }
   ],
   "source": [
    "list(reversed(range(0,10)))"
   ]
  },
  {
   "cell_type": "code",
   "execution_count": 333,
   "metadata": {},
   "outputs": [
    {
     "name": "stdout",
     "output_type": "stream",
     "text": [
      "[1, 3, 6, 10, 15, 21, 28, 36, 45, 55, 66, 78, 91, 105, 120, 136, 153, 171, 190, 210, 231, 253, 276, 300, 325]\n",
      "[2, 4, 7, 11, 16, 22, 29, 37, 46, 56, 67, 79, 92, 106, 121, 137, 154, 172, 191, 211, 232, 254, 277, 301, 326]\n"
     ]
    }
   ],
   "source": [
    "N = 26\n",
    "print([int(n*(n+1)/2) for n in range(1,N)])\n",
    "print([int(n*(n+1)/2) + 1 for n in range(1,N)])"
   ]
  },
  {
   "cell_type": "code",
   "execution_count": 378,
   "metadata": {},
   "outputs": [
    {
     "data": {
      "text/plain": [
       "array([ 10,  17,  26,  36,  37,  45,  50,  61,  65,  67,  78,  82,  91,\n",
       "        94, 102, 110, 136, 138, 149, 153, 155, 165, 173, 181, 183, 188,\n",
       "       213, 220, 232, 249, 250, 262, 263, 266, 282, 297])"
      ]
     },
     "execution_count": 378,
     "metadata": {},
     "output_type": "execute_result"
    }
   ],
   "source": [
    "a1 = np.array(result_list)[:,0]\n",
    "a1"
   ]
  },
  {
   "cell_type": "code",
   "execution_count": 379,
   "metadata": {},
   "outputs": [
    {
     "data": {
      "text/plain": [
       "array([  6,  10,  15,  22,  21,  27,  28,  42,  36,  42,  45,  45,  52,\n",
       "        57,  70,  70,  76,  87,  87,  85, 106, 106, 105, 115, 112, 108,\n",
       "       147, 150, 150, 157, 147, 160, 148, 183, 171, 202])"
      ]
     },
     "execution_count": 379,
     "metadata": {},
     "output_type": "execute_result"
    }
   ],
   "source": [
    "a2 = np.array(result_list)[:,1]\n",
    "a2"
   ]
  },
  {
   "cell_type": "code",
   "execution_count": 380,
   "metadata": {},
   "outputs": [
    {
     "data": {
      "text/plain": [
       "array([  7,  13,  21,  28,  31,  36,  43,  43,  57,  52,  66,  73,  78,\n",
       "        76,  73,  85, 120, 108, 126, 136, 112, 127, 141, 141, 148, 162,\n",
       "       153, 160, 178, 196, 211, 213, 232, 192, 231, 217])"
      ]
     },
     "execution_count": 380,
     "metadata": {},
     "output_type": "execute_result"
    }
   ],
   "source": [
    "a3 = np.array(result_list)[:,2]\n",
    "a3"
   ]
  },
  {
   "cell_type": "code",
   "execution_count": 359,
   "metadata": {
    "scrolled": true
   },
   "outputs": [
    {
     "data": {
      "text/plain": [
       "{6,\n",
       " 7,\n",
       " 10,\n",
       " 13,\n",
       " 15,\n",
       " 17,\n",
       " 21,\n",
       " 22,\n",
       " 26,\n",
       " 27,\n",
       " 28,\n",
       " 31,\n",
       " 36,\n",
       " 37,\n",
       " 42,\n",
       " 43,\n",
       " 45,\n",
       " 50,\n",
       " 52,\n",
       " 57,\n",
       " 61,\n",
       " 65,\n",
       " 66,\n",
       " 67,\n",
       " 70,\n",
       " 73,\n",
       " 76,\n",
       " 78,\n",
       " 82,\n",
       " 85,\n",
       " 87,\n",
       " 91,\n",
       " 94,\n",
       " 102,\n",
       " 105,\n",
       " 106,\n",
       " 108,\n",
       " 110,\n",
       " 112,\n",
       " 115,\n",
       " 120,\n",
       " 126,\n",
       " 127,\n",
       " 136,\n",
       " 138,\n",
       " 141,\n",
       " 147,\n",
       " 148,\n",
       " 149,\n",
       " 150,\n",
       " 153,\n",
       " 155,\n",
       " 157,\n",
       " 160,\n",
       " 162,\n",
       " 165,\n",
       " 171,\n",
       " 173,\n",
       " 178,\n",
       " 181,\n",
       " 183,\n",
       " 188,\n",
       " 192,\n",
       " 196,\n",
       " 202,\n",
       " 211,\n",
       " 213,\n",
       " 217,\n",
       " 220,\n",
       " 231,\n",
       " 232,\n",
       " 249,\n",
       " 250,\n",
       " 262,\n",
       " 263,\n",
       " 266,\n",
       " 282,\n",
       " 297}"
      ]
     },
     "execution_count": 359,
     "metadata": {},
     "output_type": "execute_result"
    }
   ],
   "source": [
    "set(np.concatenate((a1,a2,a3)))"
   ]
  },
  {
   "cell_type": "code",
   "execution_count": 373,
   "metadata": {
    "scrolled": true
   },
   "outputs": [
    {
     "name": "stdout",
     "output_type": "stream",
     "text": [
      "False\n",
      "True\n",
      "False\n",
      "False\n",
      "False\n",
      "True\n",
      "True\n",
      "True\n",
      "False\n",
      "False\n",
      "False\n",
      "True\n",
      "False\n",
      "False\n",
      "False\n",
      "False\n",
      "False\n",
      "True\n",
      "False\n",
      "False\n",
      "False\n",
      "True\n",
      "False\n",
      "False\n",
      "False\n",
      "False\n",
      "True\n",
      "False\n",
      "False\n",
      "False\n",
      "True\n",
      "False\n",
      "False\n"
     ]
    }
   ],
   "source": [
    "for i in set(a3):\n",
    "    print(i in [int(n*(n+1)/2) for n in range(1,N)])"
   ]
  },
  {
   "cell_type": "code",
   "execution_count": 365,
   "metadata": {},
   "outputs": [
    {
     "data": {
      "text/plain": [
       "True"
      ]
     },
     "execution_count": 365,
     "metadata": {},
     "output_type": "execute_result"
    }
   ],
   "source": [
    "1 in [int(n*(n+1)/2) for n in range(1,N)]"
   ]
  },
  {
   "cell_type": "code",
   "execution_count": 387,
   "metadata": {},
   "outputs": [
    {
     "name": "stdout",
     "output_type": "stream",
     "text": [
      "(26, 15, 21) True\n",
      "(36, 22, 28) True\n",
      "(45, 27, 36) True\n",
      "(78, 45, 66) True\n",
      "(91, 52, 78) True\n",
      "(136, 76, 120) True\n",
      "(153, 85, 136) True\n",
      "(213, 147, 153) True\n",
      "(282, 171, 231) True\n"
     ]
    }
   ],
   "source": [
    "for i in result_list:\n",
    "    if i[2] in [int(n*(n+1)/2) for n in range(1,300)]:\n",
    "        print(i, True)"
   ]
  },
  {
   "cell_type": "code",
   "execution_count": null,
   "metadata": {
    "collapsed": true
   },
   "outputs": [],
   "source": []
  }
 ],
 "metadata": {
  "kernelspec": {
   "display_name": "Python 3",
   "language": "python",
   "name": "python3"
  },
  "language_info": {
   "codemirror_mode": {
    "name": "ipython",
    "version": 3
   },
   "file_extension": ".py",
   "mimetype": "text/x-python",
   "name": "python",
   "nbconvert_exporter": "python",
   "pygments_lexer": "ipython3",
   "version": "3.6.3"
  }
 },
 "nbformat": 4,
 "nbformat_minor": 2
}
