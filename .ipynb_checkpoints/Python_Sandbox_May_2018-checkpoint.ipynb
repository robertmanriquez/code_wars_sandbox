{
 "cells": [
  {
   "cell_type": "markdown",
   "metadata": {},
   "source": [
    "In this kata you are required to, given a string, replace every letter with its position in the alphabet.\n",
    "\n",
    "If anything in the text isn't a letter, ignore it and don't return it.\n",
    "\n",
    "a being 1, b being 2, etc.\n",
    "\n",
    "As an example:\n",
    "\n",
    "`alphabet_position(\"The sunset sets at twelve o' clock.\")`\n",
    "\n",
    "Should return \"20 8 5 19 21 14 19 5 20 19 5 20 19 1 20 20 23 5 12 22 5 15 3 12 15 3 11\" as a string."
   ]
  },
  {
   "cell_type": "code",
   "execution_count": 47,
   "metadata": {
    "collapsed": true
   },
   "outputs": [],
   "source": [
    "def alphabet_position(text):\n",
    "    from string import ascii_lowercase\n",
    "    \n",
    "    result = \"\"\n",
    "    \n",
    "    for idx, char in enumerate(text.lower()):\n",
    "        for jdx, letter in enumerate(ascii_lowercase):\n",
    "            if char == letter:\n",
    "#                 print(jdx, char)\n",
    "                result += str(jdx+1) + \" \"\n",
    "    \n",
    "    return result[:-1]"
   ]
  },
  {
   "cell_type": "code",
   "execution_count": 39,
   "metadata": {
    "collapsed": true
   },
   "outputs": [
    {
     "name": "stdout",
     "output_type": "stream",
     "text": [
      "0 a\n",
      "1 b\n",
      "2 c\n",
      "3 d\n",
      "4 e\n",
      "5 f\n",
      "6 g\n",
      "7 h\n",
      "8 i\n",
      "9 j\n",
      "10 k\n",
      "11 l\n",
      "12 m\n",
      "13 n\n",
      "14 o\n",
      "15 p\n",
      "16 q\n",
      "17 r\n",
      "18 s\n",
      "19 t\n",
      "20 u\n",
      "21 v\n",
      "22 w\n",
      "23 x\n",
      "24 y\n",
      "25 z\n"
     ]
    },
    {
     "data": {
      "text/plain": [
       "'0 1 2 3 4 5 6 7 8 9 10 11 12 13 14 15 16 17 18 19 20 21 22 23 24 25 '"
      ]
     },
     "execution_count": 39,
     "metadata": {},
     "output_type": "execute_result"
    }
   ],
   "source": [
    "alphabet_position('abcdefghijklmnopqrstuvwxyz')"
   ]
  },
  {
   "cell_type": "code",
   "execution_count": 48,
   "metadata": {
    "scrolled": true
   },
   "outputs": [
    {
     "data": {
      "text/plain": [
       "'20 8 5 19 21 14 19 5 20 19 5 20 19 1 20 20 23 5 12 22 5 15 3 12 15 3 11'"
      ]
     },
     "execution_count": 48,
     "metadata": {},
     "output_type": "execute_result"
    }
   ],
   "source": [
    "alphabet_position(\"The sunset sets at twelve o' clock.\")"
   ]
  },
  {
   "cell_type": "code",
   "execution_count": 49,
   "metadata": {
    "scrolled": true
   },
   "outputs": [
    {
     "data": {
      "text/plain": [
       "'8 5 12 12 15 13 25 14 1 13 5 9 19 4 18 1 3 21 12 1 9 22 1 14 20 20 15 19 21 3 11 25 15 21 18 2 12 15 15 4'"
      ]
     },
     "execution_count": 49,
     "metadata": {},
     "output_type": "execute_result"
    }
   ],
   "source": [
    "alphabet_position(\"Hello, my name is Dr.Acula.  I vant to suck your blood!\")"
   ]
  },
  {
   "cell_type": "code",
   "execution_count": null,
   "metadata": {
    "collapsed": true
   },
   "outputs": [],
   "source": []
  },
  {
   "cell_type": "markdown",
   "metadata": {},
   "source": [
    "Once upon a time, on a way through the old wild west,…\n",
    "… a man was given directions to go from one point to another. The directions were \"NORTH\", \"SOUTH\", \"WEST\", \"EAST\". Clearly \"NORTH\" and \"SOUTH\" are opposite, \"WEST\" and \"EAST\" too. Going to one direction and coming back the opposite direction is a needless effort. Since this is the wild west, with dreadfull weather and not much water, it's important to save yourself some energy, otherwise you might die of thirst!\n",
    "\n",
    "How I crossed the desert the smart way.\n",
    "The directions given to the man are, for example, the following:\n",
    "\n",
    "[\"NORTH\", \"SOUTH\", \"SOUTH\", \"EAST\", \"WEST\", \"NORTH\", \"WEST\"].\n",
    "or\n",
    "\n",
    "{ \"NORTH\", \"SOUTH\", \"SOUTH\", \"EAST\", \"WEST\", \"NORTH\", \"WEST\" };\n",
    "or (haskell)\n",
    "\n",
    "[North, South, South, East, West, North, West]\n",
    "You can immediatly see that going \"NORTH\" and then \"SOUTH\" is not reasonable, better stay to the same place! So the task is to give to the man a simplified version of the plan. A better plan in this case is simply:\n",
    "\n",
    "[\"WEST\"]\n",
    "or\n",
    "\n",
    "{ \"WEST\" }\n",
    "or (haskell)\n",
    "\n",
    "[West]\n",
    "or (rust)\n",
    "\n",
    "[WEST];\n",
    "Other examples:\n",
    "In [\"NORTH\", \"SOUTH\", \"EAST\", \"WEST\"], the direction \"NORTH\" + \"SOUTH\" is going north and coming back right away. What a waste of time! Better to do nothing.\n",
    "\n",
    "The path becomes [\"EAST\", \"WEST\"], now \"EAST\" and \"WEST\" annihilate each other, therefore, the final result is [] (nil in Clojure).\n",
    "\n",
    "In [\"NORTH\", \"EAST\", \"WEST\", \"SOUTH\", \"WEST\", \"WEST\"], \"NORTH\" and \"SOUTH\" are not directly opposite but they become directly opposite after the reduction of \"EAST\" and \"WEST\" so the whole path is reducible to [\"WEST\", \"WEST\"].\n",
    "\n",
    "Task\n",
    "Write a function dirReduc which will take an array of strings and returns an array of strings with the needless directions removed (W<->E or S<->N side by side).\n",
    "\n",
    "The Haskell version takes a list of directions with data Direction = North | East | West | South. The Clojure version returns nil when the path is reduced to nothing. The Rust version takes a slice of enum Direction {NORTH, SOUTH, EAST, WEST}.\n",
    "\n",
    "Examples\n",
    "dirReduc(@[@\"NORTH\", @\"SOUTH\", @\"SOUTH\", @\"EAST\", @\"WEST\", @\"NORTH\", @\"WEST\"]); // => @[@\"WEST\"]\n",
    "dirReduc(@[@\"NORTH\", @\"SOUTH\", @\"SOUTH\", @\"EAST\", @\"WEST\", @\"NORTH\"]); // => @[]\n",
    "See more examples in \"Example Tests\"\n",
    "Note\n",
    "Not all paths can be made simpler. The path [\"NORTH\", \"WEST\", \"SOUTH\", \"EAST\"] is not reducible. \"NORTH\" and \"WEST\", \"WEST\" and \"SOUTH\", \"SOUTH\" and \"EAST\" are not directly opposite of each other and can't become such. Hence the result path is itself : [\"NORTH\", \"WEST\", \"SOUTH\", \"EAST\"].\n",
    "\n"
   ]
  },
  {
   "cell_type": "code",
   "execution_count": 57,
   "metadata": {
    "collapsed": true
   },
   "outputs": [],
   "source": [
    "compass = ['NORTH', 'SOUTH','WEST','EAST']"
   ]
  },
  {
   "cell_type": "code",
   "execution_count": 103,
   "metadata": {
    "collapsed": true
   },
   "outputs": [],
   "source": [
    "test = [\"NORTH\", \"SOUTH\", \"SOUTH\", \"EAST\", \"WEST\", \"NORTH\", \"WEST\"]"
   ]
  },
  {
   "cell_type": "code",
   "execution_count": 59,
   "metadata": {
    "collapsed": true
   },
   "outputs": [],
   "source": [
    "from collections import Counter\n",
    "    "
   ]
  },
  {
   "cell_type": "code",
   "execution_count": 126,
   "metadata": {
    "collapsed": true
   },
   "outputs": [],
   "source": [
    "dir_dict = Counter(arr)\n",
    "\n",
    "y = dir_dict['NORTH'] - dir_dict['SOUTH']\n",
    "x = dir_dict['WEST'] - dir_dict['EAST']\n",
    "\n"
   ]
  },
  {
   "cell_type": "code",
   "execution_count": 127,
   "metadata": {},
   "outputs": [
    {
     "data": {
      "text/plain": [
       "Counter({'EAST': 1, 'NORTH': 2, 'SOUTH': 2, 'WEST': 2})"
      ]
     },
     "execution_count": 127,
     "metadata": {},
     "output_type": "execute_result"
    }
   ],
   "source": [
    "dir_dict"
   ]
  },
  {
   "cell_type": "code",
   "execution_count": 90,
   "metadata": {},
   "outputs": [
    {
     "name": "stdout",
     "output_type": "stream",
     "text": [
      "SOUTH\n"
     ]
    }
   ],
   "source": [
    "x = 1\n",
    "if x * -1 == x:\n",
    "    print(x * 'NORTH')\n",
    "else:\n",
    "    print('SOUTH')"
   ]
  },
  {
   "cell_type": "code",
   "execution_count": 101,
   "metadata": {
    "collapsed": true
   },
   "outputs": [],
   "source": [
    "def dir_check(num):\n",
    "    num = -5\n",
    "    if num > 0:\n",
    "        result = (num * 'NORTH ').split(\" \")\n",
    "        result = result[:-1]\n",
    "    elif num < 0:\n",
    "        result = (-num * 'SOUTH ').split(\" \")\n",
    "        result = result[:-1]\n",
    "\n",
    "    return result"
   ]
  },
  {
   "cell_type": "code",
   "execution_count": null,
   "metadata": {
    "collapsed": true
   },
   "outputs": [],
   "source": [
    "num = -5\n",
    "if num > 0:\n",
    "    result = (num * 'NORTH ').split(\" \")\n",
    "    result = result[:-1]\n",
    "elif num < 0:\n",
    "    result = (-num * 'SOUTH ').split(\" \")\n",
    "    result = result[:-1]"
   ]
  },
  {
   "cell_type": "code",
   "execution_count": null,
   "metadata": {
    "collapsed": true
   },
   "outputs": [],
   "source": [
    "if dir_dict['NORTH'] > dir_dict['SOUTH']:\n",
    "    \n",
    "    ns = (dir_dict['NORTH'] * 'NORTH ').split(\" \")[:-1]\n",
    "    \n",
    "elif dir_dict['NORTH'] < dir_dict['SOUTH']:\n",
    "    \n",
    "    ns = (dir_dict['SOUTH'] * 'NORTH ').split(\" \")[:-1]\n",
    "    \n",
    "elif dir_dict['NORTH'] == 0 and dir_dict['SOUTH'] == 0:\n",
    "    \n",
    "    ns = []\n",
    "\n",
    "\n",
    "if dir_dict['EAST'] > dir_dict['WEST']:\n",
    "    \n",
    "    we = (dir_dict['EAST'] * 'EAST ').split(\" \")[:-1]\n",
    "    \n",
    "elif dir_dict['EAST'] < dir_dict['WEST']:\n",
    "    \n",
    "    we = (dir_dict['WEST'] * 'WEST ').split(\" \")[:-1]\n",
    "    \n",
    "elif dir_dict['WEST'] == 0 and dir_dict['EAST'] == 0:\n",
    "    \n",
    "    we = []\n",
    "\n",
    "ns.append(we)"
   ]
  },
  {
   "cell_type": "code",
   "execution_count": null,
   "metadata": {
    "collapsed": true
   },
   "outputs": [],
   "source": []
  },
  {
   "cell_type": "code",
   "execution_count": 207,
   "metadata": {
    "collapsed": true,
    "scrolled": true
   },
   "outputs": [],
   "source": [
    "def dirReduc(arr):\n",
    "    \n",
    "    from collections import Counter\n",
    "\n",
    "    ns = []\n",
    "    we = []\n",
    "    \n",
    "    dir_dict = Counter(arr)\n",
    "    \n",
    "    if dir_dict['NORTH'] > dir_dict['SOUTH']:\n",
    "\n",
    "        ns = (dir_dict['NORTH'] * 'NORTH ').split(\" \")[:-1]\n",
    "\n",
    "    elif dir_dict['NORTH'] < dir_dict['SOUTH']:\n",
    "\n",
    "        ns = (dir_dict['SOUTH'] * 'SOUTH ').split(\" \")[:-1]\n",
    "\n",
    "    elif dir_dict['NORTH'] == 0 and dir_dict['SOUTH'] == 0:\n",
    "\n",
    "        ns = []\n",
    "\n",
    "        \n",
    "    if dir_dict['EAST'] > dir_dict['WEST']:\n",
    "\n",
    "        we = ((dir_dict['EAST'] - dir_dict['WEST']) * 'EAST ').split(\" \")[:-1]\n",
    "\n",
    "    elif dir_dict['EAST'] < dir_dict['WEST']:\n",
    "\n",
    "        we = ((dir_dict['WEST'] - dir_dict['EAST']) * 'WEST ').split(\" \")[:-1]\n",
    "\n",
    "    elif dir_dict['WEST'] == 0 and dir_dict['EAST'] == 0:\n",
    "\n",
    "        we = []\n",
    "    \n",
    "    result = ns + we\n",
    "    \n",
    "    return result"
   ]
  },
  {
   "cell_type": "code",
   "execution_count": 208,
   "metadata": {
    "scrolled": true
   },
   "outputs": [
    {
     "data": {
      "text/plain": [
       "['WEST']"
      ]
     },
     "execution_count": 208,
     "metadata": {},
     "output_type": "execute_result"
    }
   ],
   "source": [
    "test = [\"NORTH\", \"SOUTH\", \"SOUTH\", \"EAST\", \"WEST\", \"NORTH\", \"WEST\"]\n",
    "dirReduc(test)"
   ]
  },
  {
   "cell_type": "code",
   "execution_count": 209,
   "metadata": {},
   "outputs": [
    {
     "data": {
      "text/plain": [
       "[]"
      ]
     },
     "execution_count": 209,
     "metadata": {},
     "output_type": "execute_result"
    }
   ],
   "source": [
    "dirReduc([\"NORTH\", \"WEST\", \"SOUTH\", \"EAST\"])"
   ]
  },
  {
   "cell_type": "code",
   "execution_count": 154,
   "metadata": {},
   "outputs": [
    {
     "data": {
      "text/plain": [
       "['NORTH', 'SOUTH', 'SOUTH', 'EAST', 'WEST', 'NORTH', 'WEST']"
      ]
     },
     "execution_count": 154,
     "metadata": {},
     "output_type": "execute_result"
    }
   ],
   "source": [
    "test = [\"NORTH\", \"SOUTH\", \"SOUTH\", \"EAST\", \"WEST\", \"NORTH\", \"WEST\"]\n",
    "test"
   ]
  },
  {
   "cell_type": "code",
   "execution_count": 163,
   "metadata": {
    "collapsed": true
   },
   "outputs": [],
   "source": [
    "test = [\"NORTH\", \"SOUTH\", \"SOUTH\", \"EAST\", \"WEST\", \"NORTH\", \"WEST\"]\n",
    "result = []\n",
    "for idx, direction in enumerate(test):\n",
    "    try:\n",
    "        if test[idx] == 'NORTH' and test[idx + 1] =='SOUTH':\n",
    "            del test[idx+1]\n",
    "\n",
    "        elif test[idx] == 'SOUTH' and test[idx + 1] =='NORTH':\n",
    "            del test[idx+1]\n",
    "            \n",
    "        else:\n",
    "            pass\n",
    "    except:\n",
    "        pass\n",
    "    \n",
    "    try:\n",
    "        if test[idx] == 'WEST' and test[idx + 1] =='EAST':\n",
    "            del test[idx+1]\n",
    "\n",
    "        elif test[idx] == 'EAST' and test[idx + 1] =='WEST':\n",
    "            del test[idx+1]\n",
    "\n",
    "        else:\n",
    "            pass\n",
    "    except:\n",
    "        pass"
   ]
  },
  {
   "cell_type": "code",
   "execution_count": 164,
   "metadata": {},
   "outputs": [
    {
     "data": {
      "text/plain": [
       "['NORTH', 'SOUTH', 'EAST', 'NORTH', 'WEST']"
      ]
     },
     "execution_count": 164,
     "metadata": {},
     "output_type": "execute_result"
    }
   ],
   "source": [
    "test"
   ]
  },
  {
   "cell_type": "code",
   "execution_count": 225,
   "metadata": {},
   "outputs": [
    {
     "name": "stdout",
     "output_type": "stream",
     "text": [
      "1\n",
      "2\n",
      "4\n",
      "5\n"
     ]
    },
    {
     "data": {
      "text/plain": [
       "['NORTH', 'SOUTH', 'SOUTH', 'EAST', 'NORTH']"
      ]
     },
     "execution_count": 225,
     "metadata": {},
     "output_type": "execute_result"
    }
   ],
   "source": [
    "test = [\"NORTH\", \"SOUTH\", \"SOUTH\", \"EAST\", \"WEST\", \"NORTH\", \"WEST\"]\n",
    "result = []\n",
    "result.append(test[0])\n",
    "\n",
    "for idx, direction in enumerate(test):\n",
    "#     print(idx)\n",
    "    try:  \n",
    "        if test[idx] == 'NORTH' and test[idx + 1] =='SOUTH':\n",
    "            pass\n",
    "\n",
    "        elif test[idx] == 'SOUTH' and test[idx + 1] =='NORTH':\n",
    "            pass\n",
    "        \n",
    "        elif test[idx] == 'NORTH' and test[idx + 1] !='SOUTH':\n",
    "            print(idx)\n",
    "            result.append('NORTH')\n",
    "        \n",
    "        elif test[idx] == 'SOUTH' and test[idx + 1] !='NORTH':\n",
    "            print(idx)\n",
    "            result.append('SOUTH')\n",
    "\n",
    "            \n",
    "        if test[idx] == 'WEST' and test[idx + 1] =='EAST':\n",
    "            pass\n",
    "\n",
    "        elif test[idx] == 'EAST' and test[idx + 1] =='WEST':\n",
    "            pass\n",
    "        \n",
    "        elif test[idx] == 'WEST' and test[idx + 1] !='EAST':\n",
    "            print(idx)\n",
    "            result.append('EAST')\n",
    "        \n",
    "        elif test[idx] == 'EAST' and test[idx + 1] !='WEST':\n",
    "            print(idx)\n",
    "            result.append('WEST')\n",
    "            \n",
    "            \n",
    "#         if test[idx] == 'WEST' and test[idx + 1] =='EAST':\n",
    "#             pass\n",
    "\n",
    "#         elif test[idx] == 'EAST' and test[idx + 1] =='WEST':\n",
    "#             pass\n",
    "\n",
    "#         else:\n",
    "#             result.append(direction)\n",
    "    except:\n",
    "        pass\n",
    "    \n",
    "result"
   ]
  },
  {
   "cell_type": "code",
   "execution_count": 249,
   "metadata": {},
   "outputs": [
    {
     "name": "stdout",
     "output_type": "stream",
     "text": [
      "0 NORTH ['START']\n",
      "1 SOUTH ['START', 'SOUTH']\n",
      "2 SOUTH ['START', 'SOUTH', 'SOUTH']\n",
      "3 EAST ['START', 'SOUTH', 'SOUTH']\n",
      "4 WEST ['START', 'SOUTH', 'SOUTH', 'WEST']\n",
      "5 NORTH ['START', 'SOUTH', 'SOUTH', 'WEST', 'NORTH']\n",
      "6 WEST ['START', 'SOUTH', 'SOUTH', 'WEST', 'NORTH']\n"
     ]
    },
    {
     "data": {
      "text/plain": [
       "['START', 'SOUTH', 'SOUTH', 'WEST', 'NORTH']"
      ]
     },
     "execution_count": 249,
     "metadata": {},
     "output_type": "execute_result"
    }
   ],
   "source": [
    "test = [\"NORTH\", \"SOUTH\", \"SOUTH\", \"EAST\", \"WEST\", \"NORTH\", \"WEST\"]\n",
    "result = ['START']\n",
    "\n",
    "for idx, direction in enumerate(test):\n",
    "#     print(idx)\n",
    "    try:  \n",
    "        if test[idx] == 'NORTH' and test[idx + 1] =='SOUTH':\n",
    "            pass\n",
    "\n",
    "        elif test[idx] == 'SOUTH' and test[idx + 1] =='NORTH':\n",
    "            pass\n",
    "        \n",
    "        elif test[idx] == 'NORTH' and test[idx + 1] !='SOUTH' and result[-1] != 'SOUTH':\n",
    "#             print(idx, 'NORTH')\n",
    "            result.append('NORTH')\n",
    "        \n",
    "        elif test[idx] == 'SOUTH' and test[idx + 1] !='NORTH' and result[-1] != 'NORTH':\n",
    "#             print(idx, 'SOUTH')\n",
    "            result.append('SOUTH')\n",
    "    \n",
    "        elif test[idx] == 'WEST' and test[idx + 1] =='EAST':\n",
    "            pass\n",
    "\n",
    "        elif test[idx] == 'EAST' and test[idx + 1] =='WEST':\n",
    "            pass\n",
    "        \n",
    "        elif test[idx] == 'WEST' and test[idx + 1] !='EAST':\n",
    "            if result[-1] != 'EAST':\n",
    "#                 print(idx, 'WEST')\n",
    "                result.append('WEST')\n",
    "        \n",
    "        elif test[idx] == 'EAST' and test[idx + 1] !='WEST':\n",
    "            if result[-1] != 'WEST':\n",
    "#                 print(idx, 'WEST')\n",
    "                result.append('EAST')       \n",
    "    except:\n",
    "        pass\n",
    "    print(idx, test[idx], result)\n",
    "    \n",
    "result"
   ]
  },
  {
   "cell_type": "code",
   "execution_count": 275,
   "metadata": {},
   "outputs": [
    {
     "name": "stdout",
     "output_type": "stream",
     "text": [
      "0 ['SOUTH', 'NORTH', 'WEST']\n",
      "0 ['WEST']\n",
      "0 ['WEST']\n"
     ]
    },
    {
     "data": {
      "text/plain": [
       "['WEST']"
      ]
     },
     "execution_count": 275,
     "metadata": {},
     "output_type": "execute_result"
    }
   ],
   "source": [
    "test = [\"NORTH\", \"SOUTH\", \"SOUTH\", \"EAST\", \"WEST\", \"NORTH\", \"WEST\"]\n",
    "result = [\"NORTH\", \"SOUTH\", \"SOUTH\", \"EAST\", \"WEST\", \"NORTH\", \"WEST\"]\n",
    "counter = 0\n",
    "idx = 0\n",
    "\n",
    "\n",
    "while counter < 10:\n",
    "#     print(idx)\n",
    "    tracker = len(result)\n",
    "    for i in range(0,len(result)):\n",
    "        try:  \n",
    "            if result[idx] == 'NORTH' and result[idx + 1] =='SOUTH':\n",
    "                del result[idx]\n",
    "                del result[idx]\n",
    "\n",
    "            elif result[idx] == 'SOUTH' and result[idx + 1] =='NORTH':\n",
    "                del result[idx]\n",
    "                del result[idx]\n",
    "\n",
    "            elif result[idx] == 'WEST' and result[idx + 1] =='EAST':\n",
    "                del result[idx]\n",
    "                del result[idx]  \n",
    "\n",
    "            elif result[idx] == 'EAST' and result[idx + 1] =='WEST':\n",
    "                del result[idx]\n",
    "                del result[idx]\n",
    "            else:\n",
    "                idx += 1\n",
    "        except:\n",
    "            pass\n",
    "    \n",
    "    counter += 1\n",
    "    idx = 0\n",
    "#     print(idx, result)\n",
    "    \n",
    "    if tracker == len(result):\n",
    "        break\n",
    "    \n",
    "result"
   ]
  },
  {
   "cell_type": "code",
   "execution_count": 288,
   "metadata": {
    "collapsed": true
   },
   "outputs": [],
   "source": [
    "#### My Solution:\n",
    "\n",
    "a = [\"NORTH\", \"SOUTH\", \"SOUTH\", \"EAST\", \"WEST\", \"NORTH\", \"WEST\"]\n",
    "u = [\"NORTH\", \"WEST\", \"SOUTH\", \"EAST\"]\n",
    "\n",
    "def dirReduc(arr):\n",
    "    \n",
    "    counter = 0\n",
    "    idx = 0\n",
    "\n",
    "    while counter < 10:\n",
    "    #     print(idx)\n",
    "        tracker = len(arr)\n",
    "        for i in range(0,len(arr)):\n",
    "            try:  \n",
    "                if arr[idx] == 'NORTH' and arr[idx + 1] =='SOUTH':\n",
    "                    del arr[idx]\n",
    "                    del arr[idx]\n",
    "\n",
    "                elif arr[idx] == 'SOUTH' and arr[idx + 1] =='NORTH':\n",
    "                    del arr[idx]\n",
    "                    del arr[idx]\n",
    "\n",
    "                elif arr[idx] == 'WEST' and arr[idx + 1] =='EAST':\n",
    "                    del arr[idx]\n",
    "                    del arr[idx]\n",
    "\n",
    "                elif arr[idx] == 'EAST' and arr[idx + 1] =='WEST':\n",
    "                    del arr[idx]\n",
    "                    del arr[idx]\n",
    "                    \n",
    "                else:\n",
    "                    idx += 1\n",
    "            except:\n",
    "                pass\n",
    "\n",
    "        counter += 1\n",
    "        idx = 0\n",
    "    #     print(idx, arr)\n",
    "\n",
    "        if tracker == len(arr):\n",
    "            break\n",
    "            \n",
    "    return arr"
   ]
  },
  {
   "cell_type": "code",
   "execution_count": 291,
   "metadata": {},
   "outputs": [
    {
     "name": "stdout",
     "output_type": "stream",
     "text": [
      "['WEST']\n",
      "['NORTH', 'WEST', 'SOUTH', 'EAST']\n"
     ]
    }
   ],
   "source": [
    "print(dirReduc(a))\n",
    "print(dirReduc(u))"
   ]
  },
  {
   "cell_type": "code",
   "execution_count": null,
   "metadata": {
    "collapsed": true
   },
   "outputs": [],
   "source": []
  },
  {
   "cell_type": "markdown",
   "metadata": {},
   "source": [
    "Where my anagrams at?\n",
    "\n",
    "What is an anagram? Well, two words are anagrams of each other if they both contain the same letters. For example:\n",
    "\n",
    "'abba' & 'baab' == true\n",
    "\n",
    "'abba' & 'bbaa' == true\n",
    "\n",
    "'abba' & 'abbba' == false\n",
    "Write a function that will find all the anagrams of a word from a list. You will be given two inputs a word and an array with words. You should return an array of all the anagrams or an empty array if there are none. For example:\n",
    "\n",
    "anagrams('abba', ['aabb', 'abcd', 'bbaa', 'dada']) => ['aabb', 'bbaa']\n",
    "\n",
    "anagrams('racer', ['crazer', 'carer', 'racar', 'caers', 'racer']) => ['carer', 'racer']\n",
    "\n",
    "anagrams('laser', ['lazing', 'lazy',  'lacer']) => []"
   ]
  },
  {
   "cell_type": "code",
   "execution_count": 297,
   "metadata": {
    "collapsed": true
   },
   "outputs": [],
   "source": [
    "test = ['aabb', 'abcd', 'bbaa', 'dada']\n",
    "test2 = ['crazer', 'carer', 'racar', 'caers', 'racer']"
   ]
  },
  {
   "cell_type": "code",
   "execution_count": 295,
   "metadata": {
    "collapsed": true
   },
   "outputs": [],
   "source": [
    "from collections import Counter\n",
    "\n",
    "result = []\n",
    "\n",
    "for i in test:\n",
    "    for j in test:\n",
    "        if Counter(i) == Counter(j) and i != j:\n",
    "            result.append(i)"
   ]
  },
  {
   "cell_type": "code",
   "execution_count": 296,
   "metadata": {
    "scrolled": true
   },
   "outputs": [
    {
     "data": {
      "text/plain": [
       "['aabb', 'bbaa']"
      ]
     },
     "execution_count": 296,
     "metadata": {},
     "output_type": "execute_result"
    }
   ],
   "source": [
    "result"
   ]
  },
  {
   "cell_type": "code",
   "execution_count": 372,
   "metadata": {
    "collapsed": true
   },
   "outputs": [],
   "source": [
    "def anagrams(word, words):\n",
    "    \n",
    "    from collections import Counter\n",
    "\n",
    "    result = []\n",
    "\n",
    "    for word in words:\n",
    "        for j in words:\n",
    "            if Counter(word) == Counter(j) and word != j:\n",
    "                result.append(j)\n",
    "                \n",
    "    return sorted(list(set(result)))"
   ]
  },
  {
   "cell_type": "code",
   "execution_count": 373,
   "metadata": {
    "scrolled": true
   },
   "outputs": [
    {
     "data": {
      "text/plain": [
       "['aabb', 'bbaa']"
      ]
     },
     "execution_count": 373,
     "metadata": {},
     "output_type": "execute_result"
    }
   ],
   "source": [
    "anagrams('abba', ['aabb', 'abcd', 'bbaa', 'dada'])"
   ]
  },
  {
   "cell_type": "code",
   "execution_count": 377,
   "metadata": {
    "scrolled": true
   },
   "outputs": [
    {
     "data": {
      "text/plain": [
       "['carer', 'racer']"
      ]
     },
     "execution_count": 377,
     "metadata": {},
     "output_type": "execute_result"
    }
   ],
   "source": [
    "anagrams('racer', ['crazer', 'carer', 'racar', 'caers', 'racer'])"
   ]
  },
  {
   "cell_type": "code",
   "execution_count": 378,
   "metadata": {},
   "outputs": [
    {
     "data": {
      "text/plain": [
       "[]"
      ]
     },
     "execution_count": 378,
     "metadata": {},
     "output_type": "execute_result"
    }
   ],
   "source": [
    "anagrams('laser', ['lazing', 'lazy',  'lacer'])"
   ]
  },
  {
   "cell_type": "code",
   "execution_count": 379,
   "metadata": {
    "scrolled": true
   },
   "outputs": [
    {
     "data": {
      "text/plain": [
       "[]"
      ]
     },
     "execution_count": 379,
     "metadata": {},
     "output_type": "execute_result"
    }
   ],
   "source": [
    "anagrams('a', ['a'])"
   ]
  },
  {
   "cell_type": "markdown",
   "metadata": {},
   "source": [
    "Test Passed\n",
    "Test Passed\n",
    "[] should equal ['a']\n",
    "Test Passed\n",
    "['aabb', 'aabb', 'aabb', 'aabb', 'abab', 'abab', 'abab', 'abab', 'abbaa', 'abbaa', 'abbab', 'abbba', 'baaab', 'baaab', 'baab', 'baab', 'baab', 'baab', 'baba', 'baba', 'baba', 'baba', 'babaa', 'babaa', 'bbaa', 'bbaa', 'bbaa', 'bbaa'] should equal ['aabb', 'bbaa', 'abab', 'baba', 'baab']\n",
    "['bid', 'dib'] should equal []"
   ]
  },
  {
   "cell_type": "code",
   "execution_count": 346,
   "metadata": {
    "scrolled": true
   },
   "outputs": [
    {
     "data": {
      "text/plain": [
       "['bid', 'dib', 'idb']"
      ]
     },
     "execution_count": 346,
     "metadata": {},
     "output_type": "execute_result"
    }
   ],
   "source": [
    "anagrams('bid', ['dib', 'bid', 'idb', 'dbsdbodil'])"
   ]
  },
  {
   "cell_type": "code",
   "execution_count": 380,
   "metadata": {
    "collapsed": true
   },
   "outputs": [],
   "source": [
    "### My Solution:\n",
    "def anagrams(word, words):\n",
    "    \n",
    "    from collections import Counter\n",
    "\n",
    "    result = []\n",
    "\n",
    "    for i in words:\n",
    "        if Counter(word) == Counter(i):\n",
    "            result.append(i)\n",
    "                \n",
    "    return result"
   ]
  },
  {
   "cell_type": "code",
   "execution_count": 381,
   "metadata": {
    "scrolled": true
   },
   "outputs": [
    {
     "data": {
      "text/plain": [
       "['aabb', 'bbaa']"
      ]
     },
     "execution_count": 381,
     "metadata": {},
     "output_type": "execute_result"
    }
   ],
   "source": [
    "anagrams('abba', ['aabb', 'abcd', 'bbaa', 'dada'])"
   ]
  },
  {
   "cell_type": "code",
   "execution_count": 383,
   "metadata": {
    "scrolled": true
   },
   "outputs": [
    {
     "data": {
      "text/plain": [
       "['carer', 'racer']"
      ]
     },
     "execution_count": 383,
     "metadata": {},
     "output_type": "execute_result"
    }
   ],
   "source": [
    "anagrams('racer', ['crazer', 'carer', 'racar', 'caers', 'racer'])"
   ]
  },
  {
   "cell_type": "code",
   "execution_count": 384,
   "metadata": {},
   "outputs": [
    {
     "data": {
      "text/plain": [
       "[]"
      ]
     },
     "execution_count": 384,
     "metadata": {},
     "output_type": "execute_result"
    }
   ],
   "source": [
    "anagrams('laser', ['lazing', 'lazy',  'lacer'])"
   ]
  },
  {
   "cell_type": "code",
   "execution_count": 385,
   "metadata": {
    "scrolled": true
   },
   "outputs": [
    {
     "data": {
      "text/plain": [
       "['a']"
      ]
     },
     "execution_count": 385,
     "metadata": {},
     "output_type": "execute_result"
    }
   ],
   "source": [
    "anagrams('a', ['a'])"
   ]
  },
  {
   "cell_type": "markdown",
   "metadata": {
    "collapsed": true
   },
   "source": [
    "A Narcissistic Number is a number which is the sum of its own digits, each raised to the power of the number of digits.\n",
    "\n",
    "For example, take 153 (3 digits):\n",
    "\n",
    "    1^3 + 5^3 + 3^3 = 1 + 125 + 27 = 153\n",
    "and 1634 (4 digits):\n",
    "\n",
    "    1^4 + 6^4 + 3^4 + 4^4 = 1 + 1296 + 81 + 256 = 1634\n",
    "The Challenge:\n",
    "\n",
    "Your code must return true or false depending upon whether the given number is a Narcissistic number.\n",
    "\n",
    "Error checking for text strings or other invalid inputs is not required, only valid integers will be passed into the function."
   ]
  },
  {
   "cell_type": "code",
   "execution_count": null,
   "metadata": {
    "collapsed": true
   },
   "outputs": [],
   "source": []
  },
  {
   "cell_type": "code",
   "execution_count": 21,
   "metadata": {
    "collapsed": true
   },
   "outputs": [],
   "source": [
    "def narcissistic(value):\n",
    "    \n",
    "    num = 0\n",
    "    expontent = len(str(value))\n",
    "    \n",
    "    \n",
    "    for char in str(value):\n",
    "        print(int(char)**expontent)\n",
    "        num += (int(char)**expontent)\n",
    "        \n",
    "    print(num)\n",
    "        \n",
    "    if num == value:\n",
    "        return True\n",
    "    elif num != value:\n",
    "        return False"
   ]
  },
  {
   "cell_type": "code",
   "execution_count": 22,
   "metadata": {},
   "outputs": [
    {
     "name": "stdout",
     "output_type": "stream",
     "text": [
      "1\n",
      "125\n",
      "27\n",
      "153\n"
     ]
    },
    {
     "data": {
      "text/plain": [
       "True"
      ]
     },
     "execution_count": 22,
     "metadata": {},
     "output_type": "execute_result"
    }
   ],
   "source": [
    "narcissistic(153)"
   ]
  },
  {
   "cell_type": "code",
   "execution_count": 23,
   "metadata": {},
   "outputs": [
    {
     "name": "stdout",
     "output_type": "stream",
     "text": [
      "1\n",
      "1296\n",
      "81\n",
      "256\n",
      "1634\n"
     ]
    },
    {
     "data": {
      "text/plain": [
       "True"
      ]
     },
     "execution_count": 23,
     "metadata": {},
     "output_type": "execute_result"
    }
   ],
   "source": [
    "narcissistic(1634)"
   ]
  },
  {
   "cell_type": "code",
   "execution_count": 20,
   "metadata": {},
   "outputs": [
    {
     "data": {
      "text/plain": [
       "308"
      ]
     },
     "execution_count": 20,
     "metadata": {},
     "output_type": "execute_result"
    }
   ],
   "source": [
    "1**3 + 6**3 + 3**3 + 4**3"
   ]
  },
  {
   "cell_type": "markdown",
   "metadata": {},
   "source": [
    "A friend of mine takes a sequence of numbers from 1 to n (where n > 0).\n",
    "Within that sequence, he chooses two numbers, a and b.\n",
    "He says that the product of a and b should be equal to the sum of all numbers in the sequence, excluding a and b.\n",
    "Given a number n, could you tell me the numbers he excluded from the sequence?\n",
    "The function takes the parameter: n (don't worry, n is always strictly greater than 0 and relatively small) and returns an array or a string (depending on the language) of the form:\n",
    "\n",
    "[(a, b), ...] or [[a, b], ...] or {{a, b}, ...} or or [{a, b}, ...]\n",
    "with all (a, b) which are the possible removed numbers in the sequence 1 to n.\n",
    "\n",
    "[(a, b), ...] or [[a, b], ...] or {{a, b}, ...} or ...will be sorted in increasing order of the \"a\".\n",
    "\n",
    "It happens that there are several possible (a, b). The function returns an empty array if no possible numbers are found which will prove that my friend has not told the truth! (Go: in this case return nil).\n",
    "\n",
    "(See examples of returns for each language in \"RUN SAMPLE TESTS\")\n",
    "\n",
    "Examples:\n",
    "removNb(26) should return [(15, 21), (21, 15)]\n",
    "or\n",
    "\n",
    "removNb(26) should return { {15, 21}, {21, 15} }\n",
    "or\n",
    "\n",
    "removeNb(26) should return [[15, 21], [21, 15]]\n",
    "or\n",
    "\n",
    "removNb(26) should return [ {15, 21}, {21, 15} ]\n",
    "or\n",
    "\n",
    "removNb(26) should return \"15 21, 21 15\"\n",
    "or\n",
    "\n",
    "in C:\n",
    "removNb(26) should return  **an array of pairs {{15, 21}{21, 15}}**\n",
    "tested by way of strings."
   ]
  },
  {
   "cell_type": "code",
   "execution_count": 26,
   "metadata": {
    "collapsed": true
   },
   "outputs": [],
   "source": [
    "import numpy as np"
   ]
  },
  {
   "cell_type": "code",
   "execution_count": 28,
   "metadata": {},
   "outputs": [],
   "source": [
    "N = 26\n",
    "\n",
    "test = np.arange(1,26)"
   ]
  },
  {
   "cell_type": "code",
   "execution_count": 29,
   "metadata": {},
   "outputs": [
    {
     "data": {
      "text/plain": [
       "array([ 1,  2,  3,  4,  5,  6,  7,  8,  9, 10, 11, 12, 13, 14, 15, 16, 17,\n",
       "       18, 19, 20, 21, 22, 23, 24, 25])"
      ]
     },
     "execution_count": 29,
     "metadata": {},
     "output_type": "execute_result"
    }
   ],
   "source": [
    "test"
   ]
  },
  {
   "cell_type": "code",
   "execution_count": 30,
   "metadata": {},
   "outputs": [
    {
     "data": {
      "text/plain": [
       "325"
      ]
     },
     "execution_count": 30,
     "metadata": {},
     "output_type": "execute_result"
    }
   ],
   "source": [
    "np.sum(test)"
   ]
  },
  {
   "cell_type": "code",
   "execution_count": 32,
   "metadata": {},
   "outputs": [
    {
     "name": "stdout",
     "output_type": "stream",
     "text": [
      "13 25 325\n",
      "25 13 325\n",
      "[(13, 25), (25, 13)]\n"
     ]
    }
   ],
   "source": [
    "result = []\n",
    "for i in test:\n",
    "    for j in test:\n",
    "        if i*j == np.sum(test):\n",
    "            print(i,j,np.sum(test))\n",
    "            \n",
    "            result.append((i,j))\n",
    "            \n",
    "print(result)"
   ]
  },
  {
   "cell_type": "code",
   "execution_count": 87,
   "metadata": {},
   "outputs": [
    {
     "data": {
      "text/plain": [
       "[1,\n",
       " 2,\n",
       " 3,\n",
       " 4,\n",
       " 5,\n",
       " 6,\n",
       " 7,\n",
       " 8,\n",
       " 9,\n",
       " 10,\n",
       " 11,\n",
       " 12,\n",
       " 13,\n",
       " 14,\n",
       " 15,\n",
       " 16,\n",
       " 17,\n",
       " 18,\n",
       " 19,\n",
       " 20,\n",
       " 21,\n",
       " 22,\n",
       " 23,\n",
       " 24,\n",
       " 26]"
      ]
     },
     "execution_count": 87,
     "metadata": {},
     "output_type": "execute_result"
    }
   ],
   "source": [
    "test"
   ]
  },
  {
   "cell_type": "code",
   "execution_count": 99,
   "metadata": {},
   "outputs": [
    {
     "name": "stdout",
     "output_type": "stream",
     "text": [
      "[1, 2, 3, 4, 5, 6, 7, 8, 9, 10, 11, 12, 13, 14, 15, 16, 17, 18, 19, 20, 21, 22, 23, 24, 25, 26]\n"
     ]
    }
   ],
   "source": [
    "test = list(range(1,26+1))\n",
    "print(test)"
   ]
  },
  {
   "cell_type": "code",
   "execution_count": 100,
   "metadata": {},
   "outputs": [
    {
     "ename": "AttributeError",
     "evalue": "'NoneType' object has no attribute 'copy'",
     "output_type": "error",
     "traceback": [
      "\u001b[0;31m---------------------------------------------------------------------------\u001b[0m",
      "\u001b[0;31mAttributeError\u001b[0m                            Traceback (most recent call last)",
      "\u001b[0;32m<ipython-input-100-08c28e9bc85f>\u001b[0m in \u001b[0;36m<module>\u001b[0;34m()\u001b[0m\n\u001b[0;32m----> 1\u001b[0;31m \u001b[0mtemp\u001b[0m \u001b[0;34m=\u001b[0m \u001b[0mtest\u001b[0m\u001b[0;34m.\u001b[0m\u001b[0mremove\u001b[0m\u001b[0;34m(\u001b[0m\u001b[0;36m25\u001b[0m\u001b[0;34m)\u001b[0m\u001b[0;34m.\u001b[0m\u001b[0mcopy\u001b[0m\u001b[0;34m(\u001b[0m\u001b[0;34m)\u001b[0m\u001b[0;34m\u001b[0m\u001b[0m\n\u001b[0m",
      "\u001b[0;31mAttributeError\u001b[0m: 'NoneType' object has no attribute 'copy'"
     ]
    }
   ],
   "source": [
    "temp = test.remove(25)"
   ]
  },
  {
   "cell_type": "code",
   "execution_count": 95,
   "metadata": {},
   "outputs": [
    {
     "name": "stdout",
     "output_type": "stream",
     "text": [
      "[1, 2, 3, 4, 5, 6, 7, 8, 9, 10, 11, 12, 13, 14, 15, 16, 17, 18, 19, 20, 21, 22, 23, 24, 26]\n"
     ]
    }
   ],
   "source": [
    "print(test)"
   ]
  },
  {
   "cell_type": "code",
   "execution_count": 97,
   "metadata": {
    "scrolled": true
   },
   "outputs": [
    {
     "name": "stdout",
     "output_type": "stream",
     "text": [
      "None\n"
     ]
    }
   ],
   "source": [
    "print(temp)"
   ]
  },
  {
   "cell_type": "code",
   "execution_count": 76,
   "metadata": {},
   "outputs": [
    {
     "data": {
      "text/plain": [
       "3"
      ]
     },
     "execution_count": 76,
     "metadata": {},
     "output_type": "execute_result"
    }
   ],
   "source": [
    "sum([1,2])"
   ]
  },
  {
   "cell_type": "code",
   "execution_count": 104,
   "metadata": {},
   "outputs": [],
   "source": [
    "list(range(1,10+1)).remove(1)"
   ]
  },
  {
   "cell_type": "code",
   "execution_count": 119,
   "metadata": {
    "collapsed": true
   },
   "outputs": [],
   "source": [
    "def removNb(n):\n",
    "    \n",
    "    import numpy as np\n",
    "    \n",
    "    int_list = list(range(1,n+1))\n",
    "    \n",
    "    result = []\n",
    "    \n",
    "    for i in int_list:\n",
    "        for j in int_list:\n",
    "            \n",
    "            if i != j:\n",
    "            \n",
    "                loop_list = list(range(1,n+1))\n",
    "                loop_list.remove(i)\n",
    "                loop_list.remove(j)\n",
    "\n",
    "                if i*j == sum(loop_list):\n",
    "\n",
    "#                     print(loop_list)\n",
    "                    print(i,j,np.sum(int_list))\n",
    "                    result.append((i,j))\n",
    "    return result"
   ]
  },
  {
   "cell_type": "code",
   "execution_count": 120,
   "metadata": {},
   "outputs": [
    {
     "data": {
      "text/plain": [
       "325"
      ]
     },
     "execution_count": 120,
     "metadata": {},
     "output_type": "execute_result"
    }
   ],
   "source": [
    "13 *25"
   ]
  },
  {
   "cell_type": "code",
   "execution_count": 121,
   "metadata": {
    "scrolled": true
   },
   "outputs": [
    {
     "name": "stdout",
     "output_type": "stream",
     "text": [
      "15 21 351\n",
      "21 15 351\n"
     ]
    },
    {
     "data": {
      "text/plain": [
       "[(15, 21), (21, 15)]"
      ]
     },
     "execution_count": 121,
     "metadata": {},
     "output_type": "execute_result"
    }
   ],
   "source": [
    "removNb(26)"
   ]
  },
  {
   "cell_type": "code",
   "execution_count": 122,
   "metadata": {},
   "outputs": [
    {
     "data": {
      "text/plain": [
       "[]"
      ]
     },
     "execution_count": 122,
     "metadata": {},
     "output_type": "execute_result"
    }
   ],
   "source": [
    "removNb(100)"
   ]
  },
  {
   "cell_type": "code",
   "execution_count": 127,
   "metadata": {},
   "outputs": [
    {
     "name": "stdout",
     "output_type": "stream",
     "text": [
      "6 7 55\n",
      "7 6 55\n",
      "10 13 153\n",
      "13 10 153\n",
      "15 21 351\n",
      "21 15 351\n",
      "22 28 666\n",
      "28 22 666\n",
      "21 31 703\n",
      "31 21 703\n",
      "27 36 1035\n",
      "36 27 1035\n",
      "28 43 1275\n",
      "43 28 1275\n",
      "42 43 1891\n",
      "43 42 1891\n",
      "36 57 2145\n",
      "57 36 2145\n",
      "42 52 2278\n",
      "52 42 2278\n",
      "45 66 3081\n",
      "66 45 3081\n",
      "45 73 3403\n",
      "73 45 3403\n",
      "52 78 4186\n",
      "78 52 4186\n",
      "57 76 4465\n",
      "76 57 4465\n",
      "55 91 5151\n",
      "91 55 5151\n",
      "70 73 5253\n",
      "73 70 5253\n",
      "70 85 6105\n",
      "85 70 6105\n",
      "66 111 7503\n",
      "111 66 7503\n",
      "76 120 9316\n",
      "120 76 9316\n",
      "87 108 9591\n",
      "108 87 9591\n",
      "78 133 10585\n",
      "133 78 10585\n",
      "87 126 11175\n",
      "126 87 11175\n",
      "85 136 11781\n",
      "136 85 11781\n",
      "106 112 12090\n",
      "112 106 12090\n",
      "106 127 13695\n",
      "127 106 13695\n",
      "91 157 14535\n",
      "157 91 14535\n",
      "105 141 15051\n",
      "141 105 15051\n",
      "115 141 16471\n",
      "141 115 16471\n",
      "112 148 16836\n",
      "148 112 16836\n",
      "108 162 17766\n",
      "162 108 17766\n",
      "105 183 19503\n",
      "183 105 19503\n",
      "115 190 22155\n",
      "190 115 22155\n",
      "147 153 22791\n",
      "153 147 22791\n",
      "150 160 24310\n",
      "160 150 24310\n",
      "120 211 25651\n",
      "211 120 25651\n",
      "126 210 26796\n",
      "210 126 26796\n",
      "150 178 27028\n",
      "178 150 27028\n",
      "157 196 31125\n",
      "196 157 31125\n",
      "147 211 31375\n",
      "211 147 31375\n",
      "136 241 33153\n",
      "241 136 33153\n",
      "160 213 34453\n",
      "213 160 34453\n",
      "148 232 34716\n",
      "232 148 34716\n",
      "183 192 35511\n",
      "192 183 35511\n",
      "171 231 39903\n",
      "231 171 39903\n",
      "153 273 42195\n",
      "273 153 42195\n",
      "202 217 44253\n",
      "217 202 44253\n",
      "162 276 45150\n",
      "276 162 45150\n",
      "178 258 46360\n",
      "258 178 46360\n",
      "202 238 48516\n",
      "238 202 48516\n",
      "192 252 48828\n",
      "252 192 48828\n",
      "175 280 49455\n",
      "280 175 49455\n",
      "171 307 52975\n",
      "175 300 52975\n",
      "300 175 52975\n",
      "307 171 52975\n",
      "196 295 58311\n",
      "295 196 58311\n",
      "223 267 60031\n",
      "267 223 60031\n",
      "252 253 64261\n",
      "253 252 64261\n",
      "190 343 65703\n",
      "343 190 65703\n",
      "213 318 68265\n",
      "318 213 68265\n",
      "241 295 71631\n",
      "295 241 71631\n",
      "225 321 72771\n",
      "321 225 72771\n"
     ]
    },
    {
     "ename": "KeyboardInterrupt",
     "evalue": "",
     "output_type": "error",
     "traceback": [
      "\u001b[0;31m---------------------------------------------------------------------------\u001b[0m",
      "\u001b[0;31mKeyboardInterrupt\u001b[0m                         Traceback (most recent call last)",
      "\u001b[0;32m<ipython-input-127-fe3959100610>\u001b[0m in \u001b[0;36m<module>\u001b[0;34m()\u001b[0m\n\u001b[1;32m      1\u001b[0m \u001b[0mnew_result\u001b[0m \u001b[0;34m=\u001b[0m \u001b[0;34m[\u001b[0m\u001b[0;34m]\u001b[0m\u001b[0;34m\u001b[0m\u001b[0m\n\u001b[1;32m      2\u001b[0m \u001b[0;32mfor\u001b[0m \u001b[0mi\u001b[0m \u001b[0;32min\u001b[0m \u001b[0mrange\u001b[0m\u001b[0;34m(\u001b[0m\u001b[0;36m1\u001b[0m\u001b[0;34m,\u001b[0m\u001b[0;36m1000\u001b[0m\u001b[0;34m)\u001b[0m\u001b[0;34m:\u001b[0m\u001b[0;34m\u001b[0m\u001b[0m\n\u001b[0;32m----> 3\u001b[0;31m     \u001b[0mnew_result\u001b[0m\u001b[0;34m.\u001b[0m\u001b[0mappend\u001b[0m\u001b[0;34m(\u001b[0m\u001b[0mremovNb\u001b[0m\u001b[0;34m(\u001b[0m\u001b[0mi\u001b[0m\u001b[0;34m)\u001b[0m\u001b[0;34m)\u001b[0m\u001b[0;34m\u001b[0m\u001b[0m\n\u001b[0m",
      "\u001b[0;32m<ipython-input-119-08b8398e086c>\u001b[0m in \u001b[0;36mremovNb\u001b[0;34m(n)\u001b[0m\n\u001b[1;32m     16\u001b[0m                 \u001b[0mloop_list\u001b[0m\u001b[0;34m.\u001b[0m\u001b[0mremove\u001b[0m\u001b[0;34m(\u001b[0m\u001b[0mj\u001b[0m\u001b[0;34m)\u001b[0m\u001b[0;34m\u001b[0m\u001b[0m\n\u001b[1;32m     17\u001b[0m \u001b[0;34m\u001b[0m\u001b[0m\n\u001b[0;32m---> 18\u001b[0;31m                 \u001b[0;32mif\u001b[0m \u001b[0mi\u001b[0m\u001b[0;34m*\u001b[0m\u001b[0mj\u001b[0m \u001b[0;34m==\u001b[0m \u001b[0msum\u001b[0m\u001b[0;34m(\u001b[0m\u001b[0mloop_list\u001b[0m\u001b[0;34m)\u001b[0m\u001b[0;34m:\u001b[0m\u001b[0;34m\u001b[0m\u001b[0m\n\u001b[0m\u001b[1;32m     19\u001b[0m \u001b[0;34m\u001b[0m\u001b[0m\n\u001b[1;32m     20\u001b[0m \u001b[0;31m#                     print(loop_list)\u001b[0m\u001b[0;34m\u001b[0m\u001b[0;34m\u001b[0m\u001b[0m\n",
      "\u001b[0;31mKeyboardInterrupt\u001b[0m: "
     ]
    }
   ],
   "source": [
    "new_result = []\n",
    "for i in range(1,1000):\n",
    "    new_result.append(removNb(i))"
   ]
  },
  {
   "cell_type": "code",
   "execution_count": 129,
   "metadata": {},
   "outputs": [
    {
     "ename": "TypeError",
     "evalue": "unsupported operand type(s) for +: 'range' and 'range'",
     "output_type": "error",
     "traceback": [
      "\u001b[0;31m---------------------------------------------------------------------------\u001b[0m",
      "\u001b[0;31mTypeError\u001b[0m                                 Traceback (most recent call last)",
      "\u001b[0;32m<ipython-input-129-b875fc2ba2e7>\u001b[0m in \u001b[0;36m<module>\u001b[0;34m()\u001b[0m\n\u001b[0;32m----> 1\u001b[0;31m \u001b[0mrange\u001b[0m\u001b[0;34m(\u001b[0m\u001b[0;36m0\u001b[0m\u001b[0;34m,\u001b[0m\u001b[0;36m1\u001b[0m\u001b[0;34m)\u001b[0m \u001b[0;34m+\u001b[0m \u001b[0mrange\u001b[0m\u001b[0;34m(\u001b[0m\u001b[0;36m2\u001b[0m\u001b[0;34m,\u001b[0m\u001b[0;36m3\u001b[0m\u001b[0;34m)\u001b[0m\u001b[0;34m\u001b[0m\u001b[0m\n\u001b[0m",
      "\u001b[0;31mTypeError\u001b[0m: unsupported operand type(s) for +: 'range' and 'range'"
     ]
    }
   ],
   "source": [
    "range(0,1) + range(2,3)"
   ]
  },
  {
   "cell_type": "code",
   "execution_count": 161,
   "metadata": {},
   "outputs": [],
   "source": [
    "list(range(1,26+1)).remove(1)"
   ]
  },
  {
   "cell_type": "code",
   "execution_count": 203,
   "metadata": {
    "collapsed": true
   },
   "outputs": [],
   "source": [
    "import itertools"
   ]
  },
  {
   "cell_type": "code",
   "execution_count": 210,
   "metadata": {},
   "outputs": [],
   "source": [
    "for i in itertools.combinations(range(0,1000), 2):\n",
    "    if i[0] != i[1] and i[0] * i[1] == sum(range(0,1000)) - i[0] - i[1]:\n",
    "        print(i)"
   ]
  },
  {
   "cell_type": "code",
   "execution_count": 297,
   "metadata": {},
   "outputs": [],
   "source": [
    "def removNb(n):\n",
    "    \n",
    "    import itertools\n",
    "    \n",
    "    i_range = range(1,n+1)\n",
    "        \n",
    "    result = []\n",
    "    \n",
    "    for i in itertools.combinations(i_range, 2):\n",
    "        if i[0] * i[1] == sum(i_range) - i[0] - i[1]:\n",
    "            result.append((i[0], i[1]))\n",
    "            result.append((i[1], i[0]))\n",
    "                \n",
    "    return result"
   ]
  },
  {
   "cell_type": "code",
   "execution_count": 547,
   "metadata": {
    "collapsed": true
   },
   "outputs": [],
   "source": [
    "def removNb(n):\n",
    "\n",
    "    import itertools\n",
    "    \n",
    "    list_sum = sum(range(1,n+1))\n",
    "    \n",
    "    i_range = range(int(n*0.5),int((n+1)*0.9))\n",
    "        \n",
    "    result = []\n",
    "    \n",
    "    for i in itertools.combinations(i_range, 2):\n",
    "        if i[0] * i[1] == list_sum - i[0] - i[1]:\n",
    "            result.append((i[0], i[1]))\n",
    "            result.append((i[1], i[0]))\n",
    "    \n",
    "    return result"
   ]
  },
  {
   "cell_type": "code",
   "execution_count": null,
   "metadata": {
    "collapsed": true
   },
   "outputs": [],
   "source": [
    "n*(n+1)/2"
   ]
  },
  {
   "cell_type": "code",
   "execution_count": 309,
   "metadata": {
    "scrolled": false
   },
   "outputs": [
    {
     "data": {
      "text/plain": [
       "500500"
      ]
     },
     "execution_count": 309,
     "metadata": {},
     "output_type": "execute_result"
    }
   ],
   "source": [
    "n = 1000\n",
    "sum(range(1,n+1))"
   ]
  },
  {
   "cell_type": "code",
   "execution_count": 313,
   "metadata": {},
   "outputs": [
    {
     "name": "stdout",
     "output_type": "stream",
     "text": [
      "351.0\n",
      "336\n",
      "315\n"
     ]
    }
   ],
   "source": [
    "n = 26\n",
    "\n",
    "print(n*(n+1)/2)\n",
    "print(351 - 15)\n",
    "print(351 - 15 - 21)"
   ]
  },
  {
   "cell_type": "code",
   "execution_count": null,
   "metadata": {
    "collapsed": true
   },
   "outputs": [],
   "source": []
  },
  {
   "cell_type": "code",
   "execution_count": 310,
   "metadata": {
    "scrolled": true
   },
   "outputs": [
    {
     "data": {
      "text/plain": [
       "500500.0"
      ]
     },
     "execution_count": 310,
     "metadata": {},
     "output_type": "execute_result"
    }
   ],
   "source": [
    "n*(n+1)/2"
   ]
  },
  {
   "cell_type": "code",
   "execution_count": 290,
   "metadata": {},
   "outputs": [
    {
     "data": {
      "text/plain": [
       "10.4"
      ]
     },
     "execution_count": 290,
     "metadata": {},
     "output_type": "execute_result"
    }
   ],
   "source": [
    "26*0.4"
   ]
  },
  {
   "cell_type": "code",
   "execution_count": 291,
   "metadata": {},
   "outputs": [
    {
     "data": {
      "text/plain": [
       "0.5769230769230769"
      ]
     },
     "execution_count": 291,
     "metadata": {},
     "output_type": "execute_result"
    }
   ],
   "source": [
    "15/26"
   ]
  },
  {
   "cell_type": "code",
   "execution_count": 292,
   "metadata": {},
   "outputs": [
    {
     "data": {
      "text/plain": [
       "0.8076923076923077"
      ]
     },
     "execution_count": 292,
     "metadata": {},
     "output_type": "execute_result"
    }
   ],
   "source": [
    "21/26"
   ]
  },
  {
   "cell_type": "code",
   "execution_count": 548,
   "metadata": {
    "scrolled": true
   },
   "outputs": [
    {
     "data": {
      "text/plain": [
       "[(15, 21), (21, 15)]"
      ]
     },
     "execution_count": 548,
     "metadata": {},
     "output_type": "execute_result"
    }
   ],
   "source": [
    "removNb(26)"
   ]
  },
  {
   "cell_type": "code",
   "execution_count": 294,
   "metadata": {
    "scrolled": false
   },
   "outputs": [
    {
     "data": {
      "text/plain": [
       "[]"
      ]
     },
     "execution_count": 294,
     "metadata": {},
     "output_type": "execute_result"
    }
   ],
   "source": [
    "removNb(100)"
   ]
  },
  {
   "cell_type": "code",
   "execution_count": 295,
   "metadata": {},
   "outputs": [
    {
     "data": {
      "text/plain": [
       "[]"
      ]
     },
     "execution_count": 295,
     "metadata": {},
     "output_type": "execute_result"
    }
   ],
   "source": [
    "removNb(1000)"
   ]
  },
  {
   "cell_type": "code",
   "execution_count": 245,
   "metadata": {},
   "outputs": [
    {
     "data": {
      "text/plain": [
       "0.79"
      ]
     },
     "execution_count": 245,
     "metadata": {},
     "output_type": "execute_result"
    }
   ],
   "source": [
    "316/400"
   ]
  },
  {
   "cell_type": "code",
   "execution_count": null,
   "metadata": {
    "collapsed": true
   },
   "outputs": [],
   "source": [
    "10 17 26 36 37 45"
   ]
  },
  {
   "cell_type": "code",
   "execution_count": 327,
   "metadata": {},
   "outputs": [
    {
     "data": {
      "text/plain": [
       "7"
      ]
     },
     "execution_count": 327,
     "metadata": {},
     "output_type": "execute_result"
    }
   ],
   "source": [
    "[(6, 7), (7, 6)][1][0]"
   ]
  },
  {
   "cell_type": "code",
   "execution_count": 392,
   "metadata": {
    "scrolled": true
   },
   "outputs": [
    {
     "name": "stdout",
     "output_type": "stream",
     "text": [
      "10 [(6, 7), (7, 6)]\n",
      "17 [(10, 13), (13, 10)]\n",
      "26 [(15, 21), (21, 15)]\n",
      "36 [(22, 28), (28, 22)]\n",
      "37 [(21, 31), (31, 21)]\n",
      "45 [(27, 36), (36, 27)]\n",
      "50 [(28, 43), (43, 28)]\n",
      "61 [(42, 43), (43, 42)]\n",
      "65 [(36, 57), (57, 36)]\n",
      "67 [(42, 52), (52, 42)]\n",
      "78 [(45, 66), (66, 45)]\n",
      "82 [(45, 73), (73, 45)]\n",
      "91 [(52, 78), (78, 52)]\n",
      "94 [(57, 76), (76, 57)]\n",
      "102 [(70, 73), (73, 70)]\n",
      "110 [(70, 85), (85, 70)]\n",
      "136 [(76, 120), (120, 76)]\n",
      "138 [(87, 108), (108, 87)]\n",
      "149 [(87, 126), (126, 87)]\n",
      "153 [(85, 136), (136, 85)]\n",
      "155 [(106, 112), (112, 106)]\n",
      "165 [(106, 127), (127, 106)]\n",
      "173 [(105, 141), (141, 105)]\n",
      "181 [(115, 141), (141, 115)]\n",
      "183 [(112, 148), (148, 112)]\n",
      "188 [(108, 162), (162, 108)]\n",
      "213 [(147, 153), (153, 147)]\n",
      "220 [(150, 160), (160, 150)]\n",
      "232 [(150, 178), (178, 150)]\n",
      "249 [(157, 196), (196, 157)]\n",
      "250 [(147, 211), (211, 147)]\n",
      "262 [(160, 213), (213, 160)]\n",
      "263 [(148, 232), (232, 148)]\n",
      "266 [(183, 192), (192, 183)]\n",
      "282 [(171, 231), (231, 171)]\n",
      "297 [(202, 217), (217, 202)]\n"
     ]
    }
   ],
   "source": [
    "result_list = []\n",
    "for i in range(1,300):\n",
    "    temp = removNb(i)\n",
    "    if len(temp) > 0:\n",
    "        print(i, temp)\n",
    "        result_list.append((i, temp[0][0], temp[0][1]))"
   ]
  },
  {
   "cell_type": "code",
   "execution_count": 317,
   "metadata": {
    "scrolled": true
   },
   "outputs": [
    {
     "data": {
      "text/plain": [
       "278320"
      ]
     },
     "execution_count": 317,
     "metadata": {},
     "output_type": "execute_result"
    }
   ],
   "source": [
    "490*568"
   ]
  },
  {
   "cell_type": "code",
   "execution_count": 319,
   "metadata": {},
   "outputs": [
    {
     "data": {
      "text/plain": [
       "278320"
      ]
     },
     "execution_count": 319,
     "metadata": {},
     "output_type": "execute_result"
    }
   ],
   "source": [
    "sum(range(1,747+1)) - 490 - 568"
   ]
  },
  {
   "cell_type": "code",
   "execution_count": 135,
   "metadata": {
    "scrolled": true
   },
   "outputs": [
    {
     "data": {
      "text/plain": [
       "[0, 1, 2, 3, 4, 5, 6, 7, 8, 9]"
      ]
     },
     "execution_count": 135,
     "metadata": {},
     "output_type": "execute_result"
    }
   ],
   "source": [
    "list(range(0,10))"
   ]
  },
  {
   "cell_type": "code",
   "execution_count": 138,
   "metadata": {},
   "outputs": [
    {
     "data": {
      "text/plain": [
       "[9, 8, 7, 6, 5, 4, 3, 2, 1, 0]"
      ]
     },
     "execution_count": 138,
     "metadata": {},
     "output_type": "execute_result"
    }
   ],
   "source": [
    "list(reversed(range(0,10)))"
   ]
  },
  {
   "cell_type": "code",
   "execution_count": 333,
   "metadata": {},
   "outputs": [
    {
     "name": "stdout",
     "output_type": "stream",
     "text": [
      "[1, 3, 6, 10, 15, 21, 28, 36, 45, 55, 66, 78, 91, 105, 120, 136, 153, 171, 190, 210, 231, 253, 276, 300, 325]\n",
      "[2, 4, 7, 11, 16, 22, 29, 37, 46, 56, 67, 79, 92, 106, 121, 137, 154, 172, 191, 211, 232, 254, 277, 301, 326]\n"
     ]
    }
   ],
   "source": [
    "N = 26\n",
    "print([int(n*(n+1)/2) for n in range(1,N)])\n",
    "print([int(n*(n+1)/2) + 1 for n in range(1,N)])"
   ]
  },
  {
   "cell_type": "code",
   "execution_count": 378,
   "metadata": {},
   "outputs": [
    {
     "data": {
      "text/plain": [
       "array([ 10,  17,  26,  36,  37,  45,  50,  61,  65,  67,  78,  82,  91,\n",
       "        94, 102, 110, 136, 138, 149, 153, 155, 165, 173, 181, 183, 188,\n",
       "       213, 220, 232, 249, 250, 262, 263, 266, 282, 297])"
      ]
     },
     "execution_count": 378,
     "metadata": {},
     "output_type": "execute_result"
    }
   ],
   "source": [
    "a1 = np.array(result_list)[:,0]\n",
    "a1"
   ]
  },
  {
   "cell_type": "code",
   "execution_count": 379,
   "metadata": {},
   "outputs": [
    {
     "data": {
      "text/plain": [
       "array([  6,  10,  15,  22,  21,  27,  28,  42,  36,  42,  45,  45,  52,\n",
       "        57,  70,  70,  76,  87,  87,  85, 106, 106, 105, 115, 112, 108,\n",
       "       147, 150, 150, 157, 147, 160, 148, 183, 171, 202])"
      ]
     },
     "execution_count": 379,
     "metadata": {},
     "output_type": "execute_result"
    }
   ],
   "source": [
    "a2 = np.array(result_list)[:,1]\n",
    "a2"
   ]
  },
  {
   "cell_type": "code",
   "execution_count": 380,
   "metadata": {},
   "outputs": [
    {
     "data": {
      "text/plain": [
       "array([  7,  13,  21,  28,  31,  36,  43,  43,  57,  52,  66,  73,  78,\n",
       "        76,  73,  85, 120, 108, 126, 136, 112, 127, 141, 141, 148, 162,\n",
       "       153, 160, 178, 196, 211, 213, 232, 192, 231, 217])"
      ]
     },
     "execution_count": 380,
     "metadata": {},
     "output_type": "execute_result"
    }
   ],
   "source": [
    "a3 = np.array(result_list)[:,2]\n",
    "a3"
   ]
  },
  {
   "cell_type": "code",
   "execution_count": 359,
   "metadata": {
    "scrolled": true
   },
   "outputs": [
    {
     "data": {
      "text/plain": [
       "{6,\n",
       " 7,\n",
       " 10,\n",
       " 13,\n",
       " 15,\n",
       " 17,\n",
       " 21,\n",
       " 22,\n",
       " 26,\n",
       " 27,\n",
       " 28,\n",
       " 31,\n",
       " 36,\n",
       " 37,\n",
       " 42,\n",
       " 43,\n",
       " 45,\n",
       " 50,\n",
       " 52,\n",
       " 57,\n",
       " 61,\n",
       " 65,\n",
       " 66,\n",
       " 67,\n",
       " 70,\n",
       " 73,\n",
       " 76,\n",
       " 78,\n",
       " 82,\n",
       " 85,\n",
       " 87,\n",
       " 91,\n",
       " 94,\n",
       " 102,\n",
       " 105,\n",
       " 106,\n",
       " 108,\n",
       " 110,\n",
       " 112,\n",
       " 115,\n",
       " 120,\n",
       " 126,\n",
       " 127,\n",
       " 136,\n",
       " 138,\n",
       " 141,\n",
       " 147,\n",
       " 148,\n",
       " 149,\n",
       " 150,\n",
       " 153,\n",
       " 155,\n",
       " 157,\n",
       " 160,\n",
       " 162,\n",
       " 165,\n",
       " 171,\n",
       " 173,\n",
       " 178,\n",
       " 181,\n",
       " 183,\n",
       " 188,\n",
       " 192,\n",
       " 196,\n",
       " 202,\n",
       " 211,\n",
       " 213,\n",
       " 217,\n",
       " 220,\n",
       " 231,\n",
       " 232,\n",
       " 249,\n",
       " 250,\n",
       " 262,\n",
       " 263,\n",
       " 266,\n",
       " 282,\n",
       " 297}"
      ]
     },
     "execution_count": 359,
     "metadata": {},
     "output_type": "execute_result"
    }
   ],
   "source": [
    "set(np.concatenate((a1,a2,a3)))"
   ]
  },
  {
   "cell_type": "code",
   "execution_count": 373,
   "metadata": {
    "scrolled": true
   },
   "outputs": [
    {
     "name": "stdout",
     "output_type": "stream",
     "text": [
      "False\n",
      "True\n",
      "False\n",
      "False\n",
      "False\n",
      "True\n",
      "True\n",
      "True\n",
      "False\n",
      "False\n",
      "False\n",
      "True\n",
      "False\n",
      "False\n",
      "False\n",
      "False\n",
      "False\n",
      "True\n",
      "False\n",
      "False\n",
      "False\n",
      "True\n",
      "False\n",
      "False\n",
      "False\n",
      "False\n",
      "True\n",
      "False\n",
      "False\n",
      "False\n",
      "True\n",
      "False\n",
      "False\n"
     ]
    }
   ],
   "source": [
    "for i in set(a3):\n",
    "    print(i in [int(n*(n+1)/2) for n in range(1,N)])"
   ]
  },
  {
   "cell_type": "code",
   "execution_count": 365,
   "metadata": {},
   "outputs": [
    {
     "data": {
      "text/plain": [
       "True"
      ]
     },
     "execution_count": 365,
     "metadata": {},
     "output_type": "execute_result"
    }
   ],
   "source": [
    "1 in [int(n*(n+1)/2) for n in range(1,N)]"
   ]
  },
  {
   "cell_type": "code",
   "execution_count": 403,
   "metadata": {},
   "outputs": [
    {
     "name": "stdout",
     "output_type": "stream",
     "text": [
      "[  6  10  15  22  21  27  28  42  36  42  45  45  52  57  70  70  76  87\n",
      "  87  85 106 106 105 115 112 108 147 150 150 157 147 160 148 183 171 202]\n",
      "[  7  13  21  28  31  36  43  43  57  52  66  73  78  76  73  85 120 108\n",
      " 126 136 112 127 141 141 148 162 153 160 178 196 211 213 232 192 231 217]\n"
     ]
    }
   ],
   "source": [
    "tup1 = np.array(result_list)[:,1]\n",
    "tup2 = np.array(result_list)[:,2]\n",
    "print(tup1)\n",
    "print(tup2)"
   ]
  },
  {
   "cell_type": "code",
   "execution_count": 406,
   "metadata": {},
   "outputs": [],
   "source": [
    "temp = set(np.concatenate((tup1, tup2)))"
   ]
  },
  {
   "cell_type": "code",
   "execution_count": 462,
   "metadata": {},
   "outputs": [
    {
     "name": "stdout",
     "output_type": "stream",
     "text": [
      "(10, 6, 7) True\n",
      "(17, 10, 13) True\n",
      "(26, 15, 21) True\n",
      "(36, 22, 28) True\n",
      "(37, 21, 31) True\n",
      "(45, 27, 36) True\n",
      "(50, 28, 43) True\n",
      "(61, 42, 43) False\n",
      "(65, 36, 57) True\n",
      "(67, 42, 52) False\n",
      "(78, 45, 66) True\n",
      "(82, 45, 73) True\n",
      "(91, 52, 78) True\n",
      "(94, 57, 76) False\n",
      "(102, 70, 73) False\n",
      "(110, 70, 85) False\n",
      "(136, 76, 120) True\n",
      "(138, 87, 108) False\n",
      "(149, 87, 126) False\n",
      "(153, 85, 136) True\n",
      "(155, 106, 112) False\n",
      "(165, 106, 127) False\n",
      "(173, 105, 141) True\n",
      "(181, 115, 141) False\n",
      "(183, 112, 148) False\n",
      "(188, 108, 162) False\n",
      "(213, 147, 153) True\n",
      "(220, 150, 160) False\n",
      "(232, 150, 178) False\n",
      "(249, 157, 196) False\n",
      "(250, 147, 211) False\n",
      "(262, 160, 213) False\n",
      "(263, 148, 232) False\n",
      "(266, 183, 192) False\n",
      "(282, 171, 231) True\n",
      "(297, 202, 217) False\n"
     ]
    }
   ],
   "source": [
    "number_list = [int(n*(n+1)/2) for n in range(1,500)]\n",
    "true_list = []\n",
    "false_list = []\n",
    "for i in result_list:\n",
    "    if i[1] in number_list or i[2] in number_list:\n",
    "        print(i, True)\n",
    "        true_list.append(i[2])\n",
    "    else:\n",
    "        print(i, False)\n",
    "        false_list.append(i[2])\n",
    "        \n",
    "#     if i[2] in number_list:\n",
    "#         print(i, True)\n",
    "#         true_list.append(i[2])\n",
    "#     else:\n",
    "#         print(i, False)\n",
    "#         false_list.append(i[2])"
   ]
  },
  {
   "cell_type": "code",
   "execution_count": 424,
   "metadata": {},
   "outputs": [
    {
     "data": {
      "text/plain": [
       "{6, 10, 15, 21, 28, 36, 45, 66, 78, 105, 120, 136, 153, 171, 231}"
      ]
     },
     "execution_count": 424,
     "metadata": {},
     "output_type": "execute_result"
    }
   ],
   "source": [
    "set(true_list)"
   ]
  },
  {
   "cell_type": "code",
   "execution_count": 430,
   "metadata": {},
   "outputs": [
    {
     "name": "stdout",
     "output_type": "stream",
     "text": [
      "[1, 3, 6, 10, 15, 21, 28, 36, 45, 55, 66, 78, 91, 105, 120, 136, 153, 171, 190]\n"
     ]
    }
   ],
   "source": [
    "print([int(n*(n+1)/2) for n in range(1,500)][:len(true_list)])"
   ]
  },
  {
   "cell_type": "code",
   "execution_count": 463,
   "metadata": {},
   "outputs": [
    {
     "name": "stdout",
     "output_type": "stream",
     "text": [
      "True\n",
      "True\n",
      "True\n",
      "False\n",
      "True\n",
      "False\n",
      "True\n",
      "False\n",
      "False\n",
      "True\n",
      "False\n",
      "True\n",
      "True\n",
      "False\n",
      "True\n",
      "False\n"
     ]
    }
   ],
   "source": [
    "for i in set(true_list):\n",
    "    if i in [int(n*(n+1)/2) for n in range(1,500)]:\n",
    "        print(True)\n",
    "    else:\n",
    "        print(False)"
   ]
  },
  {
   "cell_type": "code",
   "execution_count": 427,
   "metadata": {
    "scrolled": true
   },
   "outputs": [
    {
     "name": "stdout",
     "output_type": "stream",
     "text": [
      "[7, 13, 22, 27, 31, 42, 43, 52, 57, 70, 73, 76, 85, 87, 106, 108, 112, 115, 126, 127, 141, 147, 148, 150, 157, 160, 162, 178, 183, 192, 196, 202, 211, 213, 217, 232]\n"
     ]
    }
   ],
   "source": [
    "print(sorted(set(false_list)))"
   ]
  },
  {
   "cell_type": "code",
   "execution_count": 436,
   "metadata": {},
   "outputs": [
    {
     "name": "stdout",
     "output_type": "stream",
     "text": [
      "[2, 4, 7, 11, 16, 22, 29, 37, 46, 56, 67, 79, 92, 106, 121, 137, 154, 172, 191, 211, 232, 254, 277, 301, 326, 352, 379, 407, 436, 466, 497, 529, 562, 596, 631, 667, 704, 742, 781, 821, 862, 904, 947, 991, 1036, 1082, 1129, 1177, 1226, 1276, 1327, 1379, 1432]\n"
     ]
    }
   ],
   "source": [
    "print([int(n*(n+1)/2 + 1) for n in range(1,500)][:len(false_list)])"
   ]
  },
  {
   "cell_type": "code",
   "execution_count": 464,
   "metadata": {},
   "outputs": [
    {
     "name": "stdout",
     "output_type": "stream",
     "text": [
      "False\n",
      "True\n",
      "False\n",
      "False\n",
      "True\n",
      "False\n",
      "False\n",
      "False\n",
      "True\n",
      "False\n",
      "False\n",
      "False\n",
      "True\n",
      "False\n",
      "False\n",
      "False\n",
      "True\n",
      "False\n",
      "False\n",
      "False\n"
     ]
    }
   ],
   "source": [
    "for i in set(false_list):\n",
    "    if i in [int(n*(n+1)/2 + 1) for n in range(1,500)] \\\n",
    "    or i in [int(n*(n+1)/2 + 2) for n in range(1,500)] \\\n",
    "    or i in [int(n*(n+1)/2 + 3) for n in range(1,500)]:\n",
    "        print(True)\n",
    "    else:\n",
    "        print(False)"
   ]
  },
  {
   "cell_type": "code",
   "execution_count": 442,
   "metadata": {},
   "outputs": [
    {
     "data": {
      "text/plain": [
       "[4,\n",
       " 6,\n",
       " 9,\n",
       " 13,\n",
       " 18,\n",
       " 24,\n",
       " 31,\n",
       " 39,\n",
       " 48,\n",
       " 58,\n",
       " 69,\n",
       " 81,\n",
       " 94,\n",
       " 108,\n",
       " 123,\n",
       " 139,\n",
       " 156,\n",
       " 174,\n",
       " 193,\n",
       " 213,\n",
       " 234,\n",
       " 256,\n",
       " 279,\n",
       " 303,\n",
       " 328,\n",
       " 354,\n",
       " 381,\n",
       " 409,\n",
       " 438,\n",
       " 468,\n",
       " 499,\n",
       " 531,\n",
       " 564,\n",
       " 598,\n",
       " 633,\n",
       " 669,\n",
       " 706,\n",
       " 744,\n",
       " 783,\n",
       " 823,\n",
       " 864,\n",
       " 906,\n",
       " 949,\n",
       " 993,\n",
       " 1038,\n",
       " 1084,\n",
       " 1131,\n",
       " 1179,\n",
       " 1228,\n",
       " 1278,\n",
       " 1329,\n",
       " 1381,\n",
       " 1434,\n",
       " 1488,\n",
       " 1543,\n",
       " 1599,\n",
       " 1656,\n",
       " 1714,\n",
       " 1773,\n",
       " 1833,\n",
       " 1894,\n",
       " 1956,\n",
       " 2019,\n",
       " 2083,\n",
       " 2148,\n",
       " 2214,\n",
       " 2281,\n",
       " 2349,\n",
       " 2418,\n",
       " 2488,\n",
       " 2559,\n",
       " 2631,\n",
       " 2704,\n",
       " 2778,\n",
       " 2853,\n",
       " 2929,\n",
       " 3006,\n",
       " 3084,\n",
       " 3163,\n",
       " 3243,\n",
       " 3324,\n",
       " 3406,\n",
       " 3489,\n",
       " 3573,\n",
       " 3658,\n",
       " 3744,\n",
       " 3831,\n",
       " 3919,\n",
       " 4008,\n",
       " 4098,\n",
       " 4189,\n",
       " 4281,\n",
       " 4374,\n",
       " 4468,\n",
       " 4563,\n",
       " 4659,\n",
       " 4756,\n",
       " 4854,\n",
       " 4953,\n",
       " 5053,\n",
       " 5154,\n",
       " 5256,\n",
       " 5359,\n",
       " 5463,\n",
       " 5568,\n",
       " 5674,\n",
       " 5781,\n",
       " 5889,\n",
       " 5998,\n",
       " 6108,\n",
       " 6219,\n",
       " 6331,\n",
       " 6444,\n",
       " 6558,\n",
       " 6673,\n",
       " 6789,\n",
       " 6906,\n",
       " 7024,\n",
       " 7143,\n",
       " 7263,\n",
       " 7384,\n",
       " 7506,\n",
       " 7629,\n",
       " 7753,\n",
       " 7878,\n",
       " 8004,\n",
       " 8131,\n",
       " 8259,\n",
       " 8388,\n",
       " 8518,\n",
       " 8649,\n",
       " 8781,\n",
       " 8914,\n",
       " 9048,\n",
       " 9183,\n",
       " 9319,\n",
       " 9456,\n",
       " 9594,\n",
       " 9733,\n",
       " 9873,\n",
       " 10014,\n",
       " 10156,\n",
       " 10299,\n",
       " 10443,\n",
       " 10588,\n",
       " 10734,\n",
       " 10881,\n",
       " 11029,\n",
       " 11178,\n",
       " 11328,\n",
       " 11479,\n",
       " 11631,\n",
       " 11784,\n",
       " 11938,\n",
       " 12093,\n",
       " 12249,\n",
       " 12406,\n",
       " 12564,\n",
       " 12723,\n",
       " 12883,\n",
       " 13044,\n",
       " 13206,\n",
       " 13369,\n",
       " 13533,\n",
       " 13698,\n",
       " 13864,\n",
       " 14031,\n",
       " 14199,\n",
       " 14368,\n",
       " 14538,\n",
       " 14709,\n",
       " 14881,\n",
       " 15054,\n",
       " 15228,\n",
       " 15403,\n",
       " 15579,\n",
       " 15756,\n",
       " 15934,\n",
       " 16113,\n",
       " 16293,\n",
       " 16474,\n",
       " 16656,\n",
       " 16839,\n",
       " 17023,\n",
       " 17208,\n",
       " 17394,\n",
       " 17581,\n",
       " 17769,\n",
       " 17958,\n",
       " 18148,\n",
       " 18339,\n",
       " 18531,\n",
       " 18724,\n",
       " 18918,\n",
       " 19113,\n",
       " 19309,\n",
       " 19506,\n",
       " 19704,\n",
       " 19903,\n",
       " 20103,\n",
       " 20304,\n",
       " 20506,\n",
       " 20709,\n",
       " 20913,\n",
       " 21118,\n",
       " 21324,\n",
       " 21531,\n",
       " 21739,\n",
       " 21948,\n",
       " 22158,\n",
       " 22369,\n",
       " 22581,\n",
       " 22794,\n",
       " 23008,\n",
       " 23223,\n",
       " 23439,\n",
       " 23656,\n",
       " 23874,\n",
       " 24093,\n",
       " 24313,\n",
       " 24534,\n",
       " 24756,\n",
       " 24979,\n",
       " 25203,\n",
       " 25428,\n",
       " 25654,\n",
       " 25881,\n",
       " 26109,\n",
       " 26338,\n",
       " 26568,\n",
       " 26799,\n",
       " 27031,\n",
       " 27264,\n",
       " 27498,\n",
       " 27733,\n",
       " 27969,\n",
       " 28206,\n",
       " 28444,\n",
       " 28683,\n",
       " 28923,\n",
       " 29164,\n",
       " 29406,\n",
       " 29649,\n",
       " 29893,\n",
       " 30138,\n",
       " 30384,\n",
       " 30631,\n",
       " 30879,\n",
       " 31128,\n",
       " 31378,\n",
       " 31629,\n",
       " 31881,\n",
       " 32134,\n",
       " 32388,\n",
       " 32643,\n",
       " 32899,\n",
       " 33156,\n",
       " 33414,\n",
       " 33673,\n",
       " 33933,\n",
       " 34194,\n",
       " 34456,\n",
       " 34719,\n",
       " 34983,\n",
       " 35248,\n",
       " 35514,\n",
       " 35781,\n",
       " 36049,\n",
       " 36318,\n",
       " 36588,\n",
       " 36859,\n",
       " 37131,\n",
       " 37404,\n",
       " 37678,\n",
       " 37953,\n",
       " 38229,\n",
       " 38506,\n",
       " 38784,\n",
       " 39063,\n",
       " 39343,\n",
       " 39624,\n",
       " 39906,\n",
       " 40189,\n",
       " 40473,\n",
       " 40758,\n",
       " 41044,\n",
       " 41331,\n",
       " 41619,\n",
       " 41908,\n",
       " 42198,\n",
       " 42489,\n",
       " 42781,\n",
       " 43074,\n",
       " 43368,\n",
       " 43663,\n",
       " 43959,\n",
       " 44256,\n",
       " 44554,\n",
       " 44853,\n",
       " 45153,\n",
       " 45454,\n",
       " 45756,\n",
       " 46059,\n",
       " 46363,\n",
       " 46668,\n",
       " 46974,\n",
       " 47281,\n",
       " 47589,\n",
       " 47898,\n",
       " 48208,\n",
       " 48519,\n",
       " 48831,\n",
       " 49144,\n",
       " 49458,\n",
       " 49773,\n",
       " 50089,\n",
       " 50406,\n",
       " 50724,\n",
       " 51043,\n",
       " 51363,\n",
       " 51684,\n",
       " 52006,\n",
       " 52329,\n",
       " 52653,\n",
       " 52978,\n",
       " 53304,\n",
       " 53631,\n",
       " 53959,\n",
       " 54288,\n",
       " 54618,\n",
       " 54949,\n",
       " 55281,\n",
       " 55614,\n",
       " 55948,\n",
       " 56283,\n",
       " 56619,\n",
       " 56956,\n",
       " 57294,\n",
       " 57633,\n",
       " 57973,\n",
       " 58314,\n",
       " 58656,\n",
       " 58999,\n",
       " 59343,\n",
       " 59688,\n",
       " 60034,\n",
       " 60381,\n",
       " 60729,\n",
       " 61078,\n",
       " 61428,\n",
       " 61779,\n",
       " 62131,\n",
       " 62484,\n",
       " 62838,\n",
       " 63193,\n",
       " 63549,\n",
       " 63906,\n",
       " 64264,\n",
       " 64623,\n",
       " 64983,\n",
       " 65344,\n",
       " 65706,\n",
       " 66069,\n",
       " 66433,\n",
       " 66798,\n",
       " 67164,\n",
       " 67531,\n",
       " 67899,\n",
       " 68268,\n",
       " 68638,\n",
       " 69009,\n",
       " 69381,\n",
       " 69754,\n",
       " 70128,\n",
       " 70503,\n",
       " 70879,\n",
       " 71256,\n",
       " 71634,\n",
       " 72013,\n",
       " 72393,\n",
       " 72774,\n",
       " 73156,\n",
       " 73539,\n",
       " 73923,\n",
       " 74308,\n",
       " 74694,\n",
       " 75081,\n",
       " 75469,\n",
       " 75858,\n",
       " 76248,\n",
       " 76639,\n",
       " 77031,\n",
       " 77424,\n",
       " 77818,\n",
       " 78213,\n",
       " 78609,\n",
       " 79006,\n",
       " 79404,\n",
       " 79803,\n",
       " 80203,\n",
       " 80604,\n",
       " 81006,\n",
       " 81409,\n",
       " 81813,\n",
       " 82218,\n",
       " 82624,\n",
       " 83031,\n",
       " 83439,\n",
       " 83848,\n",
       " 84258,\n",
       " 84669,\n",
       " 85081,\n",
       " 85494,\n",
       " 85908,\n",
       " 86323,\n",
       " 86739,\n",
       " 87156,\n",
       " 87574,\n",
       " 87993,\n",
       " 88413,\n",
       " 88834,\n",
       " 89256,\n",
       " 89679,\n",
       " 90103,\n",
       " 90528,\n",
       " 90954,\n",
       " 91381,\n",
       " 91809,\n",
       " 92238,\n",
       " 92668,\n",
       " 93099,\n",
       " 93531,\n",
       " 93964,\n",
       " 94398,\n",
       " 94833,\n",
       " 95269,\n",
       " 95706,\n",
       " 96144,\n",
       " 96583,\n",
       " 97023,\n",
       " 97464,\n",
       " 97906,\n",
       " 98349,\n",
       " 98793,\n",
       " 99238,\n",
       " 99684,\n",
       " 100131,\n",
       " 100579,\n",
       " 101028,\n",
       " 101478,\n",
       " 101929,\n",
       " 102381,\n",
       " 102834,\n",
       " 103288,\n",
       " 103743,\n",
       " 104199,\n",
       " 104656,\n",
       " 105114,\n",
       " 105573,\n",
       " 106033,\n",
       " 106494,\n",
       " 106956,\n",
       " 107419,\n",
       " 107883,\n",
       " 108348,\n",
       " 108814,\n",
       " 109281,\n",
       " 109749,\n",
       " 110218,\n",
       " 110688,\n",
       " 111159,\n",
       " 111631,\n",
       " 112104,\n",
       " 112578,\n",
       " 113053,\n",
       " 113529,\n",
       " 114006,\n",
       " 114484,\n",
       " 114963,\n",
       " 115443,\n",
       " 115924,\n",
       " 116406,\n",
       " 116889,\n",
       " 117373,\n",
       " 117858,\n",
       " 118344,\n",
       " 118831,\n",
       " 119319,\n",
       " 119808,\n",
       " 120298,\n",
       " 120789,\n",
       " 121281,\n",
       " 121774,\n",
       " 122268,\n",
       " 122763,\n",
       " 123259,\n",
       " 123756,\n",
       " 124254,\n",
       " 124753]"
      ]
     },
     "execution_count": 442,
     "metadata": {},
     "output_type": "execute_result"
    }
   ],
   "source": [
    "[int(n*(n+1)/2 + 3) for n in range(1,500)]"
   ]
  },
  {
   "cell_type": "code",
   "execution_count": 478,
   "metadata": {},
   "outputs": [],
   "source": [
    "fast_check = []\n",
    "list_sum = range(1,n+1)\n",
    "\n",
    "for k in [1,2,3,4]:\n",
    "    for n in range(1,1000+1):\n",
    "        fast_check.append(int(n*(n+1)/2 + k))\n",
    "        \n",
    "for f in itertools.combinations(fast_check,2):\n",
    "    if f[0] * f[1] == sum(list_sum) - f[0] - f[1]:\n",
    "        result.append((f[0], f[1]))\n",
    "        result.append((f[1], f[0]))\n",
    "    "
   ]
  },
  {
   "cell_type": "code",
   "execution_count": 533,
   "metadata": {},
   "outputs": [],
   "source": [
    "def removNb(N):\n",
    "\n",
    "    import itertools\n",
    "    \n",
    "    fast_check = []\n",
    "    list_sum = range(1,10+1)\n",
    "\n",
    "    for k in [1,2,3,4]:\n",
    "        for n in range(1,10+1):\n",
    "            fast_check.append(int(n*(n+1)/2 + k))\n",
    "\n",
    "    for f in itertools.combinations(fast_check,2):\n",
    "        print(f)\n",
    "        if (f[0] * f[1] == sum(list_sum) - f[0] - f[1]):\n",
    "            print(f)\n",
    "\n",
    "            result.append((f[0], f[1]))\n",
    "            result.append((f[1], f[0]))\n",
    "    \n",
    "    return(result)\n",
    "    \n",
    "    \n",
    "    \n",
    "    \n",
    "#     list_sum = range(1,n+1)\n",
    "    \n",
    "#     i_range = range(int(n*0.5),int((n+1)*0.9))\n",
    "        \n",
    "#     result = []\n",
    "    \n",
    "#     for i in itertools.combinations(i_range, 2):\n",
    "#         if i[0] * i[1] == sum(list_sum) - i[0] - i[1]:\n",
    "#             result.append((i[0], i[1]))\n",
    "#             result.append((i[1], i[0]))\n",
    "    \n",
    "#     return result"
   ]
  },
  {
   "cell_type": "code",
   "execution_count": 545,
   "metadata": {},
   "outputs": [
    {
     "name": "stdout",
     "output_type": "stream",
     "text": [
      "[1, 2, 4, 7, 11, 16, 22, 29, 37, 46, 56, 67, 79, 92, 106, 121, 137, 154, 172, 191, 211, 232, 254, 277, 301, 326, 352]\n"
     ]
    }
   ],
   "source": [
    "fast_check = [1]\n",
    "N = 26\n",
    "\n",
    "for k in [1,2,3,4]:\n",
    "    while fast_check[-1] < N:\n",
    "        for n in range(1,N + 1):\n",
    "                fast_check.append(int(n*(n+1)/2 + k))\n",
    "        \n",
    "print(fast_check)"
   ]
  },
  {
   "cell_type": "code",
   "execution_count": 529,
   "metadata": {},
   "outputs": [
    {
     "data": {
      "text/plain": [
       "253.0"
      ]
     },
     "execution_count": 529,
     "metadata": {},
     "output_type": "execute_result"
    }
   ],
   "source": [
    "n = 22\n",
    "n*(n+1)/2"
   ]
  },
  {
   "cell_type": "code",
   "execution_count": 535,
   "metadata": {
    "scrolled": true
   },
   "outputs": [
    {
     "name": "stdout",
     "output_type": "stream",
     "text": [
      "(2, 4)\n",
      "(2, 7)\n",
      "(2, 11)\n",
      "(2, 16)\n",
      "(2, 22)\n",
      "(2, 29)\n",
      "(2, 37)\n",
      "(2, 46)\n",
      "(2, 56)\n",
      "(2, 3)\n",
      "(2, 5)\n",
      "(2, 8)\n",
      "(2, 12)\n",
      "(2, 17)\n",
      "(2, 23)\n",
      "(2, 30)\n",
      "(2, 38)\n",
      "(2, 47)\n",
      "(2, 57)\n",
      "(2, 4)\n",
      "(2, 6)\n",
      "(2, 9)\n",
      "(2, 13)\n",
      "(2, 18)\n",
      "(2, 24)\n",
      "(2, 31)\n",
      "(2, 39)\n",
      "(2, 48)\n",
      "(2, 58)\n",
      "(2, 5)\n",
      "(2, 7)\n",
      "(2, 10)\n",
      "(2, 14)\n",
      "(2, 19)\n",
      "(2, 25)\n",
      "(2, 32)\n",
      "(2, 40)\n",
      "(2, 49)\n",
      "(2, 59)\n",
      "(4, 7)\n",
      "(4, 11)\n",
      "(4, 16)\n",
      "(4, 22)\n",
      "(4, 29)\n",
      "(4, 37)\n",
      "(4, 46)\n",
      "(4, 56)\n",
      "(4, 3)\n",
      "(4, 5)\n",
      "(4, 8)\n",
      "(4, 12)\n",
      "(4, 17)\n",
      "(4, 23)\n",
      "(4, 30)\n",
      "(4, 38)\n",
      "(4, 47)\n",
      "(4, 57)\n",
      "(4, 4)\n",
      "(4, 6)\n",
      "(4, 9)\n",
      "(4, 13)\n",
      "(4, 18)\n",
      "(4, 24)\n",
      "(4, 31)\n",
      "(4, 39)\n",
      "(4, 48)\n",
      "(4, 58)\n",
      "(4, 5)\n",
      "(4, 7)\n",
      "(4, 10)\n",
      "(4, 14)\n",
      "(4, 19)\n",
      "(4, 25)\n",
      "(4, 32)\n",
      "(4, 40)\n",
      "(4, 49)\n",
      "(4, 59)\n",
      "(7, 11)\n",
      "(7, 16)\n",
      "(7, 22)\n",
      "(7, 29)\n",
      "(7, 37)\n",
      "(7, 46)\n",
      "(7, 56)\n",
      "(7, 3)\n",
      "(7, 5)\n",
      "(7, 8)\n",
      "(7, 12)\n",
      "(7, 17)\n",
      "(7, 23)\n",
      "(7, 30)\n",
      "(7, 38)\n",
      "(7, 47)\n",
      "(7, 57)\n",
      "(7, 4)\n",
      "(7, 6)\n",
      "(7, 6)\n",
      "(7, 9)\n",
      "(7, 13)\n",
      "(7, 18)\n",
      "(7, 24)\n",
      "(7, 31)\n",
      "(7, 39)\n",
      "(7, 48)\n",
      "(7, 58)\n",
      "(7, 5)\n",
      "(7, 7)\n",
      "(7, 10)\n",
      "(7, 14)\n",
      "(7, 19)\n",
      "(7, 25)\n",
      "(7, 32)\n",
      "(7, 40)\n",
      "(7, 49)\n",
      "(7, 59)\n",
      "(11, 16)\n",
      "(11, 22)\n",
      "(11, 29)\n",
      "(11, 37)\n",
      "(11, 46)\n",
      "(11, 56)\n",
      "(11, 3)\n",
      "(11, 5)\n",
      "(11, 8)\n",
      "(11, 12)\n",
      "(11, 17)\n",
      "(11, 23)\n",
      "(11, 30)\n",
      "(11, 38)\n",
      "(11, 47)\n",
      "(11, 57)\n",
      "(11, 4)\n",
      "(11, 6)\n",
      "(11, 9)\n",
      "(11, 13)\n",
      "(11, 18)\n",
      "(11, 24)\n",
      "(11, 31)\n",
      "(11, 39)\n",
      "(11, 48)\n",
      "(11, 58)\n",
      "(11, 5)\n",
      "(11, 7)\n",
      "(11, 10)\n",
      "(11, 14)\n",
      "(11, 19)\n",
      "(11, 25)\n",
      "(11, 32)\n",
      "(11, 40)\n",
      "(11, 49)\n",
      "(11, 59)\n",
      "(16, 22)\n",
      "(16, 29)\n",
      "(16, 37)\n",
      "(16, 46)\n",
      "(16, 56)\n",
      "(16, 3)\n",
      "(16, 5)\n",
      "(16, 8)\n",
      "(16, 12)\n",
      "(16, 17)\n",
      "(16, 23)\n",
      "(16, 30)\n",
      "(16, 38)\n",
      "(16, 47)\n",
      "(16, 57)\n",
      "(16, 4)\n",
      "(16, 6)\n",
      "(16, 9)\n",
      "(16, 13)\n",
      "(16, 18)\n",
      "(16, 24)\n",
      "(16, 31)\n",
      "(16, 39)\n",
      "(16, 48)\n",
      "(16, 58)\n",
      "(16, 5)\n",
      "(16, 7)\n",
      "(16, 10)\n",
      "(16, 14)\n",
      "(16, 19)\n",
      "(16, 25)\n",
      "(16, 32)\n",
      "(16, 40)\n",
      "(16, 49)\n",
      "(16, 59)\n",
      "(22, 29)\n",
      "(22, 37)\n",
      "(22, 46)\n",
      "(22, 56)\n",
      "(22, 3)\n",
      "(22, 5)\n",
      "(22, 8)\n",
      "(22, 12)\n",
      "(22, 17)\n",
      "(22, 23)\n",
      "(22, 30)\n",
      "(22, 38)\n",
      "(22, 47)\n",
      "(22, 57)\n",
      "(22, 4)\n",
      "(22, 6)\n",
      "(22, 9)\n",
      "(22, 13)\n",
      "(22, 18)\n",
      "(22, 24)\n",
      "(22, 31)\n",
      "(22, 39)\n",
      "(22, 48)\n",
      "(22, 58)\n",
      "(22, 5)\n",
      "(22, 7)\n",
      "(22, 10)\n",
      "(22, 14)\n",
      "(22, 19)\n",
      "(22, 25)\n",
      "(22, 32)\n",
      "(22, 40)\n",
      "(22, 49)\n",
      "(22, 59)\n",
      "(29, 37)\n",
      "(29, 46)\n",
      "(29, 56)\n",
      "(29, 3)\n",
      "(29, 5)\n",
      "(29, 8)\n",
      "(29, 12)\n",
      "(29, 17)\n",
      "(29, 23)\n",
      "(29, 30)\n",
      "(29, 38)\n",
      "(29, 47)\n",
      "(29, 57)\n",
      "(29, 4)\n",
      "(29, 6)\n",
      "(29, 9)\n",
      "(29, 13)\n",
      "(29, 18)\n",
      "(29, 24)\n",
      "(29, 31)\n",
      "(29, 39)\n",
      "(29, 48)\n",
      "(29, 58)\n",
      "(29, 5)\n",
      "(29, 7)\n",
      "(29, 10)\n",
      "(29, 14)\n",
      "(29, 19)\n",
      "(29, 25)\n",
      "(29, 32)\n",
      "(29, 40)\n",
      "(29, 49)\n",
      "(29, 59)\n",
      "(37, 46)\n",
      "(37, 56)\n",
      "(37, 3)\n",
      "(37, 5)\n",
      "(37, 8)\n",
      "(37, 12)\n",
      "(37, 17)\n",
      "(37, 23)\n",
      "(37, 30)\n",
      "(37, 38)\n",
      "(37, 47)\n",
      "(37, 57)\n",
      "(37, 4)\n",
      "(37, 6)\n",
      "(37, 9)\n",
      "(37, 13)\n",
      "(37, 18)\n",
      "(37, 24)\n",
      "(37, 31)\n",
      "(37, 39)\n",
      "(37, 48)\n",
      "(37, 58)\n",
      "(37, 5)\n",
      "(37, 7)\n",
      "(37, 10)\n",
      "(37, 14)\n",
      "(37, 19)\n",
      "(37, 25)\n",
      "(37, 32)\n",
      "(37, 40)\n",
      "(37, 49)\n",
      "(37, 59)\n",
      "(46, 56)\n",
      "(46, 3)\n",
      "(46, 5)\n",
      "(46, 8)\n",
      "(46, 12)\n",
      "(46, 17)\n",
      "(46, 23)\n",
      "(46, 30)\n",
      "(46, 38)\n",
      "(46, 47)\n",
      "(46, 57)\n",
      "(46, 4)\n",
      "(46, 6)\n",
      "(46, 9)\n",
      "(46, 13)\n",
      "(46, 18)\n",
      "(46, 24)\n",
      "(46, 31)\n",
      "(46, 39)\n",
      "(46, 48)\n",
      "(46, 58)\n",
      "(46, 5)\n",
      "(46, 7)\n",
      "(46, 10)\n",
      "(46, 14)\n",
      "(46, 19)\n",
      "(46, 25)\n",
      "(46, 32)\n",
      "(46, 40)\n",
      "(46, 49)\n",
      "(46, 59)\n",
      "(56, 3)\n",
      "(56, 5)\n",
      "(56, 8)\n",
      "(56, 12)\n",
      "(56, 17)\n",
      "(56, 23)\n",
      "(56, 30)\n",
      "(56, 38)\n",
      "(56, 47)\n",
      "(56, 57)\n",
      "(56, 4)\n",
      "(56, 6)\n",
      "(56, 9)\n",
      "(56, 13)\n",
      "(56, 18)\n",
      "(56, 24)\n",
      "(56, 31)\n",
      "(56, 39)\n",
      "(56, 48)\n",
      "(56, 58)\n",
      "(56, 5)\n",
      "(56, 7)\n",
      "(56, 10)\n",
      "(56, 14)\n",
      "(56, 19)\n",
      "(56, 25)\n",
      "(56, 32)\n",
      "(56, 40)\n",
      "(56, 49)\n",
      "(56, 59)\n",
      "(3, 5)\n",
      "(3, 8)\n",
      "(3, 12)\n",
      "(3, 17)\n",
      "(3, 23)\n",
      "(3, 30)\n",
      "(3, 38)\n",
      "(3, 47)\n",
      "(3, 57)\n",
      "(3, 4)\n",
      "(3, 6)\n",
      "(3, 9)\n",
      "(3, 13)\n",
      "(3, 13)\n",
      "(3, 18)\n",
      "(3, 24)\n",
      "(3, 31)\n",
      "(3, 39)\n",
      "(3, 48)\n",
      "(3, 58)\n",
      "(3, 5)\n",
      "(3, 7)\n",
      "(3, 10)\n",
      "(3, 14)\n",
      "(3, 19)\n",
      "(3, 25)\n",
      "(3, 32)\n",
      "(3, 40)\n",
      "(3, 49)\n",
      "(3, 59)\n",
      "(5, 8)\n",
      "(5, 12)\n",
      "(5, 17)\n",
      "(5, 23)\n",
      "(5, 30)\n",
      "(5, 38)\n",
      "(5, 47)\n",
      "(5, 57)\n",
      "(5, 4)\n",
      "(5, 6)\n",
      "(5, 9)\n",
      "(5, 13)\n",
      "(5, 18)\n",
      "(5, 24)\n",
      "(5, 31)\n",
      "(5, 39)\n",
      "(5, 48)\n",
      "(5, 58)\n",
      "(5, 5)\n",
      "(5, 7)\n",
      "(5, 10)\n",
      "(5, 14)\n",
      "(5, 19)\n",
      "(5, 25)\n",
      "(5, 32)\n",
      "(5, 40)\n",
      "(5, 49)\n",
      "(5, 59)\n",
      "(8, 12)\n",
      "(8, 17)\n",
      "(8, 23)\n",
      "(8, 30)\n",
      "(8, 38)\n",
      "(8, 47)\n",
      "(8, 57)\n",
      "(8, 4)\n",
      "(8, 6)\n",
      "(8, 9)\n",
      "(8, 13)\n",
      "(8, 18)\n",
      "(8, 24)\n",
      "(8, 31)\n",
      "(8, 39)\n",
      "(8, 48)\n",
      "(8, 58)\n",
      "(8, 5)\n",
      "(8, 7)\n",
      "(8, 10)\n",
      "(8, 14)\n",
      "(8, 19)\n",
      "(8, 25)\n",
      "(8, 32)\n",
      "(8, 40)\n",
      "(8, 49)\n",
      "(8, 59)\n",
      "(12, 17)\n",
      "(12, 23)\n",
      "(12, 30)\n",
      "(12, 38)\n",
      "(12, 47)\n",
      "(12, 57)\n",
      "(12, 4)\n",
      "(12, 6)\n",
      "(12, 9)\n",
      "(12, 13)\n",
      "(12, 18)\n",
      "(12, 24)\n",
      "(12, 31)\n",
      "(12, 39)\n",
      "(12, 48)\n",
      "(12, 58)\n",
      "(12, 5)\n",
      "(12, 7)\n",
      "(12, 10)\n",
      "(12, 14)\n",
      "(12, 19)\n",
      "(12, 25)\n",
      "(12, 32)\n",
      "(12, 40)\n",
      "(12, 49)\n",
      "(12, 59)\n",
      "(17, 23)\n",
      "(17, 30)\n",
      "(17, 38)\n",
      "(17, 47)\n",
      "(17, 57)\n",
      "(17, 4)\n",
      "(17, 6)\n",
      "(17, 9)\n",
      "(17, 13)\n",
      "(17, 18)\n",
      "(17, 24)\n",
      "(17, 31)\n",
      "(17, 39)\n",
      "(17, 48)\n",
      "(17, 58)\n",
      "(17, 5)\n",
      "(17, 7)\n",
      "(17, 10)\n",
      "(17, 14)\n",
      "(17, 19)\n",
      "(17, 25)\n",
      "(17, 32)\n",
      "(17, 40)\n",
      "(17, 49)\n",
      "(17, 59)\n",
      "(23, 30)\n",
      "(23, 38)\n",
      "(23, 47)\n",
      "(23, 57)\n",
      "(23, 4)\n",
      "(23, 6)\n",
      "(23, 9)\n",
      "(23, 13)\n",
      "(23, 18)\n",
      "(23, 24)\n",
      "(23, 31)\n",
      "(23, 39)\n",
      "(23, 48)\n",
      "(23, 58)\n",
      "(23, 5)\n",
      "(23, 7)\n",
      "(23, 10)\n",
      "(23, 14)\n",
      "(23, 19)\n",
      "(23, 25)\n",
      "(23, 32)\n",
      "(23, 40)\n",
      "(23, 49)\n",
      "(23, 59)\n",
      "(30, 38)\n",
      "(30, 47)\n",
      "(30, 57)\n",
      "(30, 4)\n",
      "(30, 6)\n",
      "(30, 9)\n",
      "(30, 13)\n",
      "(30, 18)\n",
      "(30, 24)\n",
      "(30, 31)\n",
      "(30, 39)\n",
      "(30, 48)\n",
      "(30, 58)\n",
      "(30, 5)\n",
      "(30, 7)\n",
      "(30, 10)\n",
      "(30, 14)\n",
      "(30, 19)\n",
      "(30, 25)\n",
      "(30, 32)\n",
      "(30, 40)\n",
      "(30, 49)\n",
      "(30, 59)\n",
      "(38, 47)\n",
      "(38, 57)\n",
      "(38, 4)\n",
      "(38, 6)\n",
      "(38, 9)\n",
      "(38, 13)\n",
      "(38, 18)\n",
      "(38, 24)\n",
      "(38, 31)\n",
      "(38, 39)\n",
      "(38, 48)\n",
      "(38, 58)\n",
      "(38, 5)\n",
      "(38, 7)\n",
      "(38, 10)\n",
      "(38, 14)\n",
      "(38, 19)\n",
      "(38, 25)\n",
      "(38, 32)\n",
      "(38, 40)\n",
      "(38, 49)\n",
      "(38, 59)\n",
      "(47, 57)\n",
      "(47, 4)\n",
      "(47, 6)\n",
      "(47, 9)\n",
      "(47, 13)\n",
      "(47, 18)\n",
      "(47, 24)\n",
      "(47, 31)\n",
      "(47, 39)\n",
      "(47, 48)\n",
      "(47, 58)\n",
      "(47, 5)\n",
      "(47, 7)\n",
      "(47, 10)\n",
      "(47, 14)\n",
      "(47, 19)\n",
      "(47, 25)\n",
      "(47, 32)\n",
      "(47, 40)\n",
      "(47, 49)\n",
      "(47, 59)\n",
      "(57, 4)\n",
      "(57, 6)\n",
      "(57, 9)\n",
      "(57, 13)\n",
      "(57, 18)\n",
      "(57, 24)\n",
      "(57, 31)\n",
      "(57, 39)\n",
      "(57, 48)\n",
      "(57, 58)\n",
      "(57, 5)\n",
      "(57, 7)\n",
      "(57, 10)\n",
      "(57, 14)\n",
      "(57, 19)\n",
      "(57, 25)\n",
      "(57, 32)\n",
      "(57, 40)\n",
      "(57, 49)\n",
      "(57, 59)\n",
      "(4, 6)\n",
      "(4, 9)\n",
      "(4, 13)\n",
      "(4, 18)\n",
      "(4, 24)\n",
      "(4, 31)\n",
      "(4, 39)\n",
      "(4, 48)\n",
      "(4, 58)\n",
      "(4, 5)\n",
      "(4, 7)\n",
      "(4, 10)\n",
      "(4, 14)\n",
      "(4, 19)\n",
      "(4, 25)\n",
      "(4, 32)\n",
      "(4, 40)\n",
      "(4, 49)\n",
      "(4, 59)\n",
      "(6, 9)\n",
      "(6, 13)\n",
      "(6, 18)\n",
      "(6, 24)\n",
      "(6, 31)\n",
      "(6, 39)\n",
      "(6, 48)\n",
      "(6, 58)\n",
      "(6, 5)\n",
      "(6, 7)\n",
      "(6, 7)\n",
      "(6, 10)\n",
      "(6, 14)\n",
      "(6, 19)\n",
      "(6, 25)\n",
      "(6, 32)\n",
      "(6, 40)\n",
      "(6, 49)\n",
      "(6, 59)\n",
      "(9, 13)\n",
      "(9, 18)\n",
      "(9, 24)\n",
      "(9, 31)\n",
      "(9, 39)\n",
      "(9, 48)\n",
      "(9, 58)\n",
      "(9, 5)\n",
      "(9, 7)\n",
      "(9, 10)\n",
      "(9, 14)\n",
      "(9, 19)\n",
      "(9, 25)\n",
      "(9, 32)\n",
      "(9, 40)\n",
      "(9, 49)\n",
      "(9, 59)\n",
      "(13, 18)\n",
      "(13, 24)\n",
      "(13, 31)\n",
      "(13, 39)\n",
      "(13, 48)\n",
      "(13, 58)\n",
      "(13, 5)\n",
      "(13, 7)\n",
      "(13, 10)\n",
      "(13, 14)\n",
      "(13, 19)\n",
      "(13, 25)\n",
      "(13, 32)\n",
      "(13, 40)\n",
      "(13, 49)\n",
      "(13, 59)\n",
      "(18, 24)\n",
      "(18, 31)\n",
      "(18, 39)\n",
      "(18, 48)\n",
      "(18, 58)\n",
      "(18, 5)\n",
      "(18, 7)\n",
      "(18, 10)\n",
      "(18, 14)\n",
      "(18, 19)\n",
      "(18, 25)\n",
      "(18, 32)\n",
      "(18, 40)\n",
      "(18, 49)\n",
      "(18, 59)\n",
      "(24, 31)\n",
      "(24, 39)\n",
      "(24, 48)\n",
      "(24, 58)\n",
      "(24, 5)\n",
      "(24, 7)\n",
      "(24, 10)\n",
      "(24, 14)\n",
      "(24, 19)\n",
      "(24, 25)\n",
      "(24, 32)\n",
      "(24, 40)\n",
      "(24, 49)\n",
      "(24, 59)\n",
      "(31, 39)\n",
      "(31, 48)\n",
      "(31, 58)\n",
      "(31, 5)\n",
      "(31, 7)\n",
      "(31, 10)\n",
      "(31, 14)\n",
      "(31, 19)\n",
      "(31, 25)\n",
      "(31, 32)\n",
      "(31, 40)\n",
      "(31, 49)\n",
      "(31, 59)\n",
      "(39, 48)\n",
      "(39, 58)\n",
      "(39, 5)\n",
      "(39, 7)\n",
      "(39, 10)\n",
      "(39, 14)\n",
      "(39, 19)\n",
      "(39, 25)\n",
      "(39, 32)\n",
      "(39, 40)\n",
      "(39, 49)\n",
      "(39, 59)\n",
      "(48, 58)\n",
      "(48, 5)\n",
      "(48, 7)\n",
      "(48, 10)\n",
      "(48, 14)\n",
      "(48, 19)\n",
      "(48, 25)\n",
      "(48, 32)\n",
      "(48, 40)\n",
      "(48, 49)\n",
      "(48, 59)\n",
      "(58, 5)\n",
      "(58, 7)\n",
      "(58, 10)\n",
      "(58, 14)\n",
      "(58, 19)\n",
      "(58, 25)\n",
      "(58, 32)\n",
      "(58, 40)\n",
      "(58, 49)\n",
      "(58, 59)\n",
      "(5, 7)\n",
      "(5, 10)\n",
      "(5, 14)\n",
      "(5, 19)\n",
      "(5, 25)\n",
      "(5, 32)\n",
      "(5, 40)\n",
      "(5, 49)\n",
      "(5, 59)\n",
      "(7, 10)\n",
      "(7, 14)\n",
      "(7, 19)\n",
      "(7, 25)\n",
      "(7, 32)\n",
      "(7, 40)\n",
      "(7, 49)\n",
      "(7, 59)\n",
      "(10, 14)\n",
      "(10, 19)\n",
      "(10, 25)\n",
      "(10, 32)\n",
      "(10, 40)\n",
      "(10, 49)\n",
      "(10, 59)\n",
      "(14, 19)\n",
      "(14, 25)\n",
      "(14, 32)\n",
      "(14, 40)\n",
      "(14, 49)\n",
      "(14, 59)\n",
      "(19, 25)\n",
      "(19, 32)\n",
      "(19, 40)\n",
      "(19, 49)\n",
      "(19, 59)\n",
      "(25, 32)\n",
      "(25, 40)\n",
      "(25, 49)\n",
      "(25, 59)\n",
      "(32, 40)\n",
      "(32, 49)\n",
      "(32, 59)\n",
      "(40, 49)\n",
      "(40, 59)\n",
      "(49, 59)\n"
     ]
    },
    {
     "data": {
      "text/plain": [
       "[(13, 25),\n",
       " (25, 13),\n",
       " (31, 10),\n",
       " (10, 31),\n",
       " (31, 10),\n",
       " (10, 31),\n",
       " (31, 10),\n",
       " (10, 31),\n",
       " (7, 6),\n",
       " (6, 7),\n",
       " (3, 13),\n",
       " (13, 3),\n",
       " (6, 7),\n",
       " (7, 6),\n",
       " (7, 6),\n",
       " (6, 7),\n",
       " (3, 13),\n",
       " (13, 3),\n",
       " (6, 7),\n",
       " (7, 6)]"
      ]
     },
     "execution_count": 535,
     "metadata": {},
     "output_type": "execute_result"
    }
   ],
   "source": [
    "removNb(26)"
   ]
  },
  {
   "cell_type": "code",
   "execution_count": 546,
   "metadata": {},
   "outputs": [
    {
     "data": {
      "text/plain": [
       "355.0"
      ]
     },
     "execution_count": 546,
     "metadata": {},
     "output_type": "execute_result"
    }
   ],
   "source": [
    "n = 26\n",
    "\n",
    "n*(n+1)/2 + k"
   ]
  },
  {
   "cell_type": "code",
   "execution_count": 575,
   "metadata": {
    "collapsed": true
   },
   "outputs": [],
   "source": [
    "def removNb(n):\n",
    "\n",
    "    import itertools\n",
    "    \n",
    "    list_sum = sum(range(1,n+1))\n",
    "    \n",
    "    i_range = tuple([int(n*(n+1)/2) for n in range(1,n)])\n",
    "        \n",
    "    result = []\n",
    "    \n",
    "    for i in itertools.combinations(i_range, 2):\n",
    "        if i[0] * i[1] == list_sum - i[0] - i[1]:\n",
    "            result.append((i[0], i[1]))\n",
    "            result.append((i[1], i[0]))\n",
    "    \n",
    "#     print(i_range)\n",
    "    return result"
   ]
  },
  {
   "cell_type": "code",
   "execution_count": 576,
   "metadata": {},
   "outputs": [
    {
     "data": {
      "text/plain": [
       "[(15, 21), (21, 15)]"
      ]
     },
     "execution_count": 576,
     "metadata": {},
     "output_type": "execute_result"
    }
   ],
   "source": [
    "removNb(26)"
   ]
  },
  {
   "cell_type": "code",
   "execution_count": 577,
   "metadata": {},
   "outputs": [
    {
     "data": {
      "text/plain": [
       "[]"
      ]
     },
     "execution_count": 577,
     "metadata": {},
     "output_type": "execute_result"
    }
   ],
   "source": [
    "removNb(100)"
   ]
  },
  {
   "cell_type": "code",
   "execution_count": 578,
   "metadata": {},
   "outputs": [
    {
     "data": {
      "text/plain": [
       "[]"
      ]
     },
     "execution_count": 578,
     "metadata": {},
     "output_type": "execute_result"
    }
   ],
   "source": [
    "removNb(10000)"
   ]
  },
  {
   "cell_type": "code",
   "execution_count": 596,
   "metadata": {
    "collapsed": true
   },
   "outputs": [
    {
     "data": {
      "text/plain": [
       "[1.0,\n",
       " 3.0,\n",
       " 6.0,\n",
       " 10.0,\n",
       " 15.0,\n",
       " 21.0,\n",
       " 28.0,\n",
       " 36.0,\n",
       " 45.0,\n",
       " 55.0,\n",
       " 66.0,\n",
       " 78.0,\n",
       " 91.0,\n",
       " 105.0,\n",
       " 120.0,\n",
       " 136.0,\n",
       " 153.0,\n",
       " 171.0,\n",
       " 190.0,\n",
       " 210.0,\n",
       " 231.0,\n",
       " 253.0,\n",
       " 276.0,\n",
       " 300.0,\n",
       " 325.0,\n",
       " 351.0,\n",
       " 378.0,\n",
       " 406.0,\n",
       " 435.0,\n",
       " 465.0,\n",
       " 496.0,\n",
       " 528.0,\n",
       " 561.0,\n",
       " 595.0,\n",
       " 630.0,\n",
       " 666.0,\n",
       " 703.0,\n",
       " 741.0,\n",
       " 780.0,\n",
       " 820.0,\n",
       " 861.0,\n",
       " 903.0,\n",
       " 946.0,\n",
       " 990.0,\n",
       " 1035.0,\n",
       " 1081.0,\n",
       " 1128.0,\n",
       " 1176.0,\n",
       " 1225.0,\n",
       " 1275.0,\n",
       " 1326.0,\n",
       " 1378.0,\n",
       " 1431.0,\n",
       " 1485.0,\n",
       " 1540.0,\n",
       " 1596.0,\n",
       " 1653.0,\n",
       " 1711.0,\n",
       " 1770.0,\n",
       " 1830.0,\n",
       " 1891.0,\n",
       " 1953.0,\n",
       " 2016.0,\n",
       " 2080.0,\n",
       " 2145.0,\n",
       " 2211.0,\n",
       " 2278.0,\n",
       " 2346.0,\n",
       " 2415.0,\n",
       " 2485.0,\n",
       " 2556.0,\n",
       " 2628.0,\n",
       " 2701.0,\n",
       " 2775.0,\n",
       " 2850.0,\n",
       " 2926.0,\n",
       " 3003.0,\n",
       " 3081.0,\n",
       " 3160.0,\n",
       " 3240.0,\n",
       " 3321.0,\n",
       " 3403.0,\n",
       " 3486.0,\n",
       " 3570.0,\n",
       " 3655.0,\n",
       " 3741.0,\n",
       " 3828.0,\n",
       " 3916.0,\n",
       " 4005.0,\n",
       " 4095.0,\n",
       " 4186.0,\n",
       " 4278.0,\n",
       " 4371.0,\n",
       " 4465.0,\n",
       " 4560.0,\n",
       " 4656.0,\n",
       " 4753.0,\n",
       " 4851.0,\n",
       " 4950.0,\n",
       " 5050.0,\n",
       " 5151.0,\n",
       " 5253.0,\n",
       " 5356.0,\n",
       " 5460.0,\n",
       " 5565.0,\n",
       " 5671.0,\n",
       " 5778.0,\n",
       " 5886.0,\n",
       " 5995.0,\n",
       " 6105.0,\n",
       " 6216.0,\n",
       " 6328.0,\n",
       " 6441.0,\n",
       " 6555.0,\n",
       " 6670.0,\n",
       " 6786.0,\n",
       " 6903.0,\n",
       " 7021.0,\n",
       " 7140.0,\n",
       " 7260.0,\n",
       " 7381.0,\n",
       " 7503.0,\n",
       " 7626.0,\n",
       " 7750.0,\n",
       " 7875.0,\n",
       " 8001.0,\n",
       " 8128.0,\n",
       " 8256.0,\n",
       " 8385.0,\n",
       " 8515.0,\n",
       " 8646.0,\n",
       " 8778.0,\n",
       " 8911.0,\n",
       " 9045.0,\n",
       " 9180.0,\n",
       " 9316.0,\n",
       " 9453.0,\n",
       " 9591.0,\n",
       " 9730.0,\n",
       " 9870.0]"
      ]
     },
     "execution_count": 596,
     "metadata": {},
     "output_type": "execute_result"
    }
   ],
   "source": [
    "N = 10000\n",
    "counter = 0\n",
    "temp = []\n",
    "while int(counter*(counter+1)/2) < N:\n",
    "    for i in range(1,N):\n",
    "        counter = i*(i+1)/2\n",
    "#         print(counter)\n",
    "        if counter < N:\n",
    "            temp.append(counter)\n",
    "temp"
   ]
  },
  {
   "cell_type": "code",
   "execution_count": null,
   "metadata": {
    "collapsed": true
   },
   "outputs": [],
   "source": [
    "[int(n*(n+1)/2) for n in range(1,n)]"
   ]
  },
  {
   "cell_type": "code",
   "execution_count": 643,
   "metadata": {},
   "outputs": [],
   "source": [
    "def removNb(n):\n",
    "\n",
    "    import itertools\n",
    "    \n",
    "    list_sum = sum(range(1,n+1))\n",
    "    \n",
    "#     N = 10000\n",
    "    counter = 0\n",
    "    i_range = []\n",
    "    while int(counter*(counter+1)/2) < n:\n",
    "        for k in [0,1,2,3,4]:\n",
    "            for i in range(1,n):\n",
    "                counter = i*(i+1)/2 + k\n",
    "        #         print(counter)\n",
    "                if counter < n:\n",
    "                    i_range.append(counter)\n",
    "        \n",
    "    result = []\n",
    "    \n",
    "    for i in itertools.combinations(i_range, 2):\n",
    "        if i[0] * i[1] == list_sum - i[0] - i[1]:\n",
    "            result.append((i[0], i[1]))\n",
    "            result.append((i[1], i[0]))\n",
    "    \n",
    "#     print(i_range)\n",
    "    return result, len(i_range), i_range[-1]"
   ]
  },
  {
   "cell_type": "code",
   "execution_count": 644,
   "metadata": {},
   "outputs": [
    {
     "data": {
      "text/plain": [
       "([(15.0, 21.0), (21.0, 15.0)], 30, 25.0)"
      ]
     },
     "execution_count": 644,
     "metadata": {},
     "output_type": "execute_result"
    }
   ],
   "source": [
    "removNb(26)"
   ]
  },
  {
   "cell_type": "code",
   "execution_count": 624,
   "metadata": {},
   "outputs": [
    {
     "data": {
      "text/plain": [
       "([], 65, 95.0)"
      ]
     },
     "execution_count": 624,
     "metadata": {},
     "output_type": "execute_result"
    }
   ],
   "source": [
    "removNb(100)"
   ]
  },
  {
   "cell_type": "code",
   "execution_count": 625,
   "metadata": {},
   "outputs": [
    {
     "data": {
      "text/plain": [
       "([], 7065, 998995.0)"
      ]
     },
     "execution_count": 625,
     "metadata": {},
     "output_type": "execute_result"
    }
   ],
   "source": [
    "removNb(1000000)"
   ]
  },
  {
   "cell_type": "code",
   "execution_count": null,
   "metadata": {
    "collapsed": true
   },
   "outputs": [],
   "source": []
  },
  {
   "cell_type": "code",
   "execution_count": 756,
   "metadata": {},
   "outputs": [],
   "source": [
    "def removNb(n):\n",
    "    \n",
    "    result = []\n",
    "    \n",
    "    b = n\n",
    "    \n",
    "    for i in range(1,b):\n",
    "        a = ((n*(n+1)/2) - b)/ (b + 1)\n",
    "#         print(a,b)\n",
    "        if a % 1 == 0 and a < n:\n",
    "#             print(int(a),b)\n",
    "            result.append((int(a),b))\n",
    "            \n",
    "        b -= 1\n",
    "    return result"
   ]
  },
  {
   "cell_type": "code",
   "execution_count": 757,
   "metadata": {
    "scrolled": true
   },
   "outputs": [
    {
     "name": "stdout",
     "output_type": "stream",
     "text": [
      "15 21\n",
      "21 15\n"
     ]
    },
    {
     "data": {
      "text/plain": [
       "[(15, 21), (21, 15)]"
      ]
     },
     "execution_count": 757,
     "metadata": {},
     "output_type": "execute_result"
    }
   ],
   "source": [
    "removNb(26)"
   ]
  },
  {
   "cell_type": "code",
   "execution_count": 762,
   "metadata": {},
   "outputs": [
    {
     "data": {
      "text/plain": [
       "[]"
      ]
     },
     "execution_count": 762,
     "metadata": {},
     "output_type": "execute_result"
    }
   ],
   "source": [
    "removNb(1000000)"
   ]
  },
  {
   "cell_type": "code",
   "execution_count": 634,
   "metadata": {
    "collapsed": true
   },
   "outputs": [],
   "source": [
    "from math import ceil"
   ]
  },
  {
   "cell_type": "code",
   "execution_count": null,
   "metadata": {
    "collapsed": true
   },
   "outputs": [],
   "source": []
  }
 ],
 "metadata": {
  "kernelspec": {
   "display_name": "Python 3",
   "language": "python",
   "name": "python3"
  },
  "language_info": {
   "codemirror_mode": {
    "name": "ipython",
    "version": 3
   },
   "file_extension": ".py",
   "mimetype": "text/x-python",
   "name": "python",
   "nbconvert_exporter": "python",
   "pygments_lexer": "ipython3",
   "version": "3.6.3"
  }
 },
 "nbformat": 4,
 "nbformat_minor": 2
}
